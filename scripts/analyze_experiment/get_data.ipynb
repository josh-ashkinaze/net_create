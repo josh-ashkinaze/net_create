{
 "cells": [
  {
   "cell_type": "markdown",
   "id": "2b2f0e00",
   "metadata": {
    "papermill": {
     "duration": 0.014177,
     "end_time": "2023-07-29T18:11:22.232471",
     "exception": false,
     "start_time": "2023-07-29T18:11:22.218294",
     "status": "completed"
    },
    "tags": [],
    "toc": true
   },
   "source": [
    "<h1>Table of Contents<span class=\"tocSkip\"></span></h1>\n",
    "<div class=\"toc\"><ul class=\"toc-item\"><li><span><a href=\"#Get-Data\" data-toc-modified-id=\"Get-Data-1\"><span class=\"toc-item-num\">1&nbsp;&nbsp;</span>Get Data</a></span><ul class=\"toc-item\"><li><span><a href=\"#Data-Checks\" data-toc-modified-id=\"Data-Checks-1.1\"><span class=\"toc-item-num\">1.1&nbsp;&nbsp;</span>Data Checks</a></span></li></ul></li><li><span><a href=\"#Clean-Data\" data-toc-modified-id=\"Clean-Data-2\"><span class=\"toc-item-num\">2&nbsp;&nbsp;</span>Clean Data</a></span><ul class=\"toc-item\"><li><span><a href=\"#Clean-source-column\" data-toc-modified-id=\"Clean-source-column-2.1\"><span class=\"toc-item-num\">2.1&nbsp;&nbsp;</span>Clean source column</a></span></li><li><span><a href=\"#Clean-Age-Columns\" data-toc-modified-id=\"Clean-Age-Columns-2.2\"><span class=\"toc-item-num\">2.2&nbsp;&nbsp;</span>Clean Age Columns</a></span></li></ul></li><li><span><a href=\"#Clean-columns\" data-toc-modified-id=\"Clean-columns-3\"><span class=\"toc-item-num\">3&nbsp;&nbsp;</span>Clean columns</a></span><ul class=\"toc-item\"><li><span><a href=\"#Drop-unused-columns\" data-toc-modified-id=\"Drop-unused-columns-3.1\"><span class=\"toc-item-num\">3.1&nbsp;&nbsp;</span>Drop unused columns</a></span></li><li><span><a href=\"#Fix-column-types-and-names\" data-toc-modified-id=\"Fix-column-types-and-names-3.2\"><span class=\"toc-item-num\">3.2&nbsp;&nbsp;</span>Fix column types and names</a></span></li></ul></li><li><span><a href=\"#Add-trial_no\" data-toc-modified-id=\"Add-trial_no-4\"><span class=\"toc-item-num\">4&nbsp;&nbsp;</span>Add trial_no</a></span><ul class=\"toc-item\"><li><span><a href=\"#Save-data\" data-toc-modified-id=\"Save-data-4.1\"><span class=\"toc-item-num\">4.1&nbsp;&nbsp;</span>Save data</a></span></li></ul></li><li><span><a href=\"#Descriptive-Stats\" data-toc-modified-id=\"Descriptive-Stats-5\"><span class=\"toc-item-num\">5&nbsp;&nbsp;</span>Descriptive Stats</a></span><ul class=\"toc-item\"><li><ul class=\"toc-item\"><li><span><a href=\"#Meta-Info\" data-toc-modified-id=\"Meta-Info-5.0.1\"><span class=\"toc-item-num\">5.0.1&nbsp;&nbsp;</span>Meta Info</a></span></li><li><span><a href=\"#Sources\" data-toc-modified-id=\"Sources-5.0.2\"><span class=\"toc-item-num\">5.0.2&nbsp;&nbsp;</span>Sources</a></span></li></ul></li><li><span><a href=\"#Desc-Stat-Tables\" data-toc-modified-id=\"Desc-Stat-Tables-5.1\"><span class=\"toc-item-num\">5.1&nbsp;&nbsp;</span>Desc Stat Tables</a></span></li><li><span><a href=\"#Desc-Stat-Plots\" data-toc-modified-id=\"Desc-Stat-Plots-5.2\"><span class=\"toc-item-num\">5.2&nbsp;&nbsp;</span>Desc Stat Plots</a></span></li></ul></li><li><span><a href=\"#Race-conditions/trials\" data-toc-modified-id=\"Race-conditions/trials-6\"><span class=\"toc-item-num\">6&nbsp;&nbsp;</span>Race conditions/trials</a></span></li></ul></div>"
   ]
  },
  {
   "cell_type": "markdown",
   "id": "1f6e9f8c-bf14-48df-b957-33b269c62658",
   "metadata": {
    "papermill": {
     "duration": 0.009012,
     "end_time": "2023-07-29T18:11:22.252248",
     "exception": false,
     "start_time": "2023-07-29T18:11:22.243236",
     "status": "completed"
    },
    "tags": []
   },
   "source": [
    "# Get Data"
   ]
  },
  {
   "cell_type": "code",
   "execution_count": 17,
   "id": "7c145bf0-25b1-4b74-9c7a-afd45e516c72",
   "metadata": {
    "ExecuteTime": {
     "end_time": "2023-07-24T18:43:57.580672Z",
     "start_time": "2023-07-24T18:43:52.530421Z"
    },
    "papermill": {
     "duration": 3.896996,
     "end_time": "2023-07-29T18:11:26.156973",
     "exception": false,
     "start_time": "2023-07-29T18:11:22.259977",
     "status": "completed"
    },
    "tags": []
   },
   "outputs": [
    {
     "name": "stdout",
     "output_type": "stream",
     "text": [
      "Fetching data\n"
     ]
    }
   ],
   "source": [
    "from google.cloud import bigquery\n",
    "from google.oauth2 import service_account\n",
    "import pandas as pd\n",
    "import numpy as np \n",
    "import os\n",
    "import ast\n",
    "\n",
    "\n",
    "def query_database(client, query):\n",
    "    query_job = client.query(query)\n",
    "    df = query_job.to_dataframe()\n",
    "    return df \n",
    "\n",
    "def fetch_experiment_data():\n",
    "    print(\"Fetching data\")\n",
    "    key_path = f\"../../secrets/google_creds.json\"\n",
    "    credentials = service_account.Credentials.from_service_account_file(key_path,\n",
    "                                                                        scopes=[\n",
    "                                                                            \"https://www.googleapis.com/auth/cloud-platform\"], )\n",
    "    client = bigquery.Client(credentials=credentials, project=credentials.project_id)\n",
    "    first_query = \"\"\"SELECT * FROM\n",
    "    `net_expr.trials` AS t\n",
    "    INNER JOIN `net_expr.person` as p\n",
    "    ON t.participant_id = p.participant_id\n",
    "    WHERE\n",
    "    p.is_test is FALSE AND\n",
    "    p.participant_id != 'seed' AND\n",
    "    world <= 6 AND\n",
    "    t.response_date <= '2023-07-27T16:13:15'\n",
    "    \"\"\"\n",
    "    df = query_database(client, first_query)\n",
    "    return df\n",
    "        \n",
    "\n",
    "df = fetch_experiment_data()\n",
    "df['init_array'] = df['init_array'].apply(lambda x: eval(x) if isinstance(x, str) else x)\n",
    "df['exclude_from_analysis'] = 0"
   ]
  },
  {
   "cell_type": "markdown",
   "id": "27db7df7-74e1-4fb7-9eb9-267229100134",
   "metadata": {
    "papermill": {
     "duration": 0.005974,
     "end_time": "2023-07-29T18:11:26.170811",
     "exception": false,
     "start_time": "2023-07-29T18:11:26.164837",
     "status": "completed"
    },
    "tags": []
   },
   "source": [
    "# Filter data"
   ]
  },
  {
   "cell_type": "markdown",
   "id": "bcab62ee-e69a-4a50-82ba-2ab66ee6b7cd",
   "metadata": {
    "papermill": {
     "duration": 0.005409,
     "end_time": "2023-07-29T18:11:26.181716",
     "exception": false,
     "start_time": "2023-07-29T18:11:26.176307",
     "status": "completed"
    },
    "tags": []
   },
   "source": [
    "## Filter out er_ids"
   ]
  },
  {
   "cell_type": "code",
   "execution_count": 19,
   "id": "32239c21-25db-41d8-ada5-eb143b1f059b",
   "metadata": {
    "papermill": {
     "duration": 0.011273,
     "end_time": "2023-07-29T18:11:26.197905",
     "exception": false,
     "start_time": "2023-07-29T18:11:26.186632",
     "status": "completed"
    },
    "tags": []
   },
   "outputs": [
    {
     "name": "stdout",
     "output_type": "stream",
     "text": [
      "Flagging 2 responses shown in error\n"
     ]
    }
   ],
   "source": [
    "er_ids = ['dbe96241-4d64-4ae6-bb6d-15e5e45b0760', 'e6fdd18f-de53-4159-965a-656aa75ba88d']\n",
    "df.loc[df['response_id'].isin(er_ids), 'exclude_from_analysis'] = 1\n",
    "print(f\"Flagging {len(er_ids)} responses shown in error\".format(er_ids))"
   ]
  },
  {
   "cell_type": "markdown",
   "id": "60889dbd-a46e-403f-badc-fdf8692bdae1",
   "metadata": {
    "papermill": {
     "duration": 0.004162,
     "end_time": "2023-07-29T18:11:26.206450",
     "exception": false,
     "start_time": "2023-07-29T18:11:26.202288",
     "status": "completed"
    },
    "tags": []
   },
   "source": [
    "## Filter out false positive profanity"
   ]
  },
  {
   "cell_type": "code",
   "execution_count": 18,
   "id": "57b22a9e-a1ea-4aca-85fd-7678ab66799d",
   "metadata": {
    "papermill": {
     "duration": 0.017133,
     "end_time": "2023-07-29T18:11:26.227489",
     "exception": false,
     "start_time": "2023-07-29T18:11:26.210356",
     "status": "completed"
    },
    "tags": []
   },
   "outputs": [
    {
     "name": "stdout",
     "output_type": "stream",
     "text": [
      "There were 46 ideas labled as profane. 10 were false positives. We will not analyze the true positives (n=36), resulting in 3416 responses.\n"
     ]
    }
   ],
   "source": [
    "df2 = df.copy()\n",
    "profane_df2 = df2[df2['is_profane'] == True]\n",
    "for index, x in profane_df2.iterrows():\n",
    "    pass\n",
    "    #print(x['response_id'], x['response_text'])\n",
    "fp = ['2e834786-dbbb-422e-975c-bb35d4418fa4', \n",
    "      '23b9ec2f-4a71-46cc-bd49-ec7de18ed184', \n",
    "      'c376d9e1-3d51-486a-a914-4e5c8a2a6453',\n",
    "      '9ea1c436-1d8a-4b8f-b7b4-74729c3997d6',\n",
    "      '7489e80a-65b9-4d14-b260-67908c35b4b4',\n",
    "      'cf5c2549-6c72-4532-8355-9de800655df6',\n",
    "      'a44e3014-b960-409a-85d5-b91e195bc6da',\n",
    "      '4582d0a8-d5e1-4eed-bc40-5552eaf1a790',\n",
    "      'c961cc7c-6d6e-44fd-86fc-93bc9f213854',\n",
    "      'd6756b75-e0ed-4f56-bead-ab9df2ab5c12']\n",
    "tp = [x for x in profane_df2['response_id'] if x not in fp]\n",
    "assert len(tp) + len(fp) == len(profane_df2), \"TP + FP don't add up\"\n",
    "print(f\"There were {len(profane_df2)} ideas labled as profane. {len(fp)} were false positives. We will not analyze the true positives (n={len(tp)}), resulting in {len(df) -( df['exclude_from_analysis'].sum() + len(tp))} responses.\")\n",
    "\n",
    "# Now change profane field for the false positives in a new column \n",
    "df['is_profane_clean'] = df['is_profane']  \n",
    "df.loc[df['response_id'].isin(fp), 'is_profane_clean'] = False\n",
    "df.loc[df['response_id'].isin(tp), 'exclude_from_analysis'] = 1\n",
    "assert np.sum(df['is_profane_clean']) == len(tp), \"Mismatch --> Recheck labels!\""
   ]
  },
  {
   "cell_type": "markdown",
   "id": "e3451de1-08e0-443e-9cc9-51b7b4d31d30",
   "metadata": {
    "papermill": {
     "duration": 0.003867,
     "end_time": "2023-07-29T18:11:26.235604",
     "exception": false,
     "start_time": "2023-07-29T18:11:26.231737",
     "status": "completed"
    },
    "tags": []
   },
   "source": [
    "## But before proceeding, let's make sure no correlation between conditions and profanity."
   ]
  },
  {
   "cell_type": "code",
   "execution_count": 20,
   "id": "ab7a988c-e8a7-42f0-b2c6-181238130ef8",
   "metadata": {
    "papermill": {
     "duration": 0.47218,
     "end_time": "2023-07-29T18:11:26.711583",
     "exception": false,
     "start_time": "2023-07-29T18:11:26.239403",
     "status": "completed"
    },
    "tags": []
   },
   "outputs": [
    {
     "name": "stdout",
     "output_type": "stream",
     "text": [
      "is_profane by item\n",
      "isprofane (n=46; 1.33\\% of sample) did not differ by item ($\\chi^2$(4) = 3.66, p = 0.45)\n",
      "\n",
      "is_profane by condition\n",
      "isprofane (n=46; 1.33\\% of sample) did not differ by condition ($\\chi^2$(4) = 6.06, p = 0.19)\n",
      "\n",
      "is_profane by item_condition\n",
      "isprofane (n=46; 1.33\\% of sample) did not differ by itemcondition ($\\chi^2$(24) = 26.85, p = 0.31)\n",
      "\n",
      "is_profane_clean by item\n",
      "isprofaneclean (n=36; 1.04\\% of sample) did not differ by item ($\\chi^2$(4) = 4.51, p = 0.34)\n",
      "\n",
      "is_profane_clean by condition\n",
      "isprofaneclean (n=36; 1.04\\% of sample) did not differ by condition ($\\chi^2$(4) = 2.92, p = 0.57)\n",
      "\n",
      "is_profane_clean by item_condition\n",
      "isprofaneclean (n=36; 1.04\\% of sample) did not differ by itemcondition ($\\chi^2$(24) = 30.21, p = 0.18)\n",
      "\n",
      "exclude_from_analysis by item\n",
      "excludefromanalysis (n=38; 1.1\\% of sample) did not differ by item ($\\chi^2$(4) = 5.10, p = 0.28)\n",
      "\n",
      "exclude_from_analysis by condition\n",
      "excludefromanalysis (n=38; 1.1\\% of sample) did not differ by condition ($\\chi^2$(4) = 3.87, p = 0.42)\n",
      "\n",
      "exclude_from_analysis by item_condition\n",
      "excludefromanalysis (n=38; 1.1\\% of sample) did not differ by itemcondition ($\\chi^2$(24) = 33.95, p = 0.09)\n",
      "\n"
     ]
    }
   ],
   "source": [
    "from scipy.stats import chi2_contingency\n",
    "\n",
    "def chi_square_test(dv, iv, df):\n",
    "    response_sum = np.sum(1*df[dv])\n",
    "    response_mean = np.round(np.mean(1*df[dv])*100,2)\n",
    "    cross_tab = pd.crosstab(df[dv], df[iv])\n",
    "    chi2_test = chi2_contingency(cross_tab)\n",
    "    chi2_stat = chi2_test[0]\n",
    "    p_value = chi2_test[1]\n",
    "    dof = chi2_test[2]\n",
    "    # Format the string for LaTeX with the chi-square symbol\n",
    "    latex_string = \"{} (n={}; {}\\% of sample) did not differ by {} ($\\chi^2$({}) = {:.2f}, p = {:.2f})\".format(dv.replace(\"_\", \"\"), response_sum, response_mean, iv.replace(\"_\", \"\"),dof, chi2_stat, p_value)\n",
    "    print(latex_string)\n",
    "    return latex_string\n",
    "# Testing the function\n",
    "\n",
    "df['item_condition'] = df['item'] + df['condition']\n",
    "\n",
    "for dv in ['is_profane', 'is_profane_clean', 'exclude_from_analysis']:\n",
    "    for iv in ['item', 'condition', 'item_condition']:\n",
    "        print(f\"{dv} by {iv}\")\n",
    "        chi_square_test(dv, iv, df)\n",
    "        print()"
   ]
  },
  {
   "cell_type": "markdown",
   "id": "fb9aa77f-7757-4bd6-b346-f9aa2bb3e092",
   "metadata": {
    "papermill": {
     "duration": 0.004085,
     "end_time": "2023-07-29T18:11:26.720039",
     "exception": false,
     "start_time": "2023-07-29T18:11:26.715954",
     "status": "completed"
    },
    "tags": []
   },
   "source": [
    "# Ideas "
   ]
  },
  {
   "cell_type": "markdown",
   "id": "13992da8-3d21-4bf5-9d34-ccae3ddf4603",
   "metadata": {
    "papermill": {
     "duration": 0.003805,
     "end_time": "2023-07-29T18:11:26.727647",
     "exception": false,
     "start_time": "2023-07-29T18:11:26.723842",
     "status": "completed"
    },
    "tags": []
   },
   "source": [
    "## Add new column that removes excluded \n",
    "\n",
    "EDIT: Does not make sense to use this on second thought"
   ]
  },
  {
   "cell_type": "code",
   "execution_count": 21,
   "id": "3c1593e7-0d34-43f1-a127-f38297dd85b2",
   "metadata": {
    "papermill": {
     "duration": 0.038135,
     "end_time": "2023-07-29T18:11:26.770054",
     "exception": false,
     "start_time": "2023-07-29T18:11:26.731919",
     "status": "completed"
    },
    "tags": []
   },
   "outputs": [],
   "source": [
    "import re\n",
    "excluded = set(df.query(\"exclude_from_analysis==1\")['response_id'].tolist())\n",
    "\n",
    "def remove_excluded(rids):\n",
    "    rids = [x for x in rids if x not in excluded]\n",
    "    return rids\n",
    "\n",
    "df['init_array'] = df['init_array'].apply(lambda ids: [re.sub(r'_world\\d+$', '', id) for id in ids])\n",
    "df['init_array_minus_excluded'] = df['init_array'].apply(lambda x: remove_excluded(x))\n",
    "df['ranked_array_minus_excluded'] = df['ranked_array'].apply(lambda x: remove_excluded(x))"
   ]
  },
  {
   "cell_type": "markdown",
   "id": "e4ed2c24-31eb-482c-b011-142716175c4a",
   "metadata": {
    "papermill": {
     "duration": 0.003811,
     "end_time": "2023-07-29T18:11:26.777923",
     "exception": false,
     "start_time": "2023-07-29T18:11:26.774112",
     "status": "completed"
    },
    "tags": []
   },
   "source": [
    "## Add 6 new columns that have the text of each example id\n",
    "\n",
    "For each row we add columns like:\n",
    "- idea1_txt: Text of 1st idea in init_array\n",
    "- (...)\n",
    "- idea6_text: Text of 6th idea in init_array\n",
    "\n",
    "I create another set of columns if somebody wants the data in a convienent format where the excluded ideas are ALSO excluded from the example set\n",
    "- idea_minus_excluded1_txt: Text of 1st idea in init_array if not `exclude_from_analysis==1` else np.NaN\n",
    "- (...)\n",
    "- idea_minus_excluded6_txt: Text of 6th idea in init_array if not `exclude_from_analysis==1` else np.NaN\n",
    "\n",
    "However, for our analysis the excluded ideas -- meaning excluded at a row level -- are not excluded when computing diversity metrics. After all, if a participant saw an idea then they saw an idea, whether or not it *should* have been excluded."
   ]
  },
  {
   "cell_type": "code",
   "execution_count": 22,
   "id": "da092092-d9a8-4380-a3a6-6925dba336b3",
   "metadata": {
    "papermill": {
     "duration": 10.951799,
     "end_time": "2023-07-29T18:11:37.733835",
     "exception": false,
     "start_time": "2023-07-29T18:11:26.782036",
     "status": "completed"
    },
    "tags": []
   },
   "outputs": [
    {
     "name": "stdout",
     "output_type": "stream",
     "text": [
      "3414\n"
     ]
    }
   ],
   "source": [
    "excluded_txt = df.query(\"exclude_from_analysis==1\")['response_text'].tolist()\n",
    "ai_seeds_df = pd.read_csv(\"../../data/ai_responses.csv\")\n",
    "human_seeds_df = pd.read_csv(\"../../data/seed_human_responses.csv\")\n",
    "\n",
    "def get_response_text(response_id):\n",
    "    if response_id.startswith('ai_seed'):\n",
    "        return ai_seeds_df.loc[ai_seeds_df['response_id'] == response_id, 'response'].values[0]\n",
    "    elif response_id.startswith('human_seed'):\n",
    "        return human_seeds_df.loc[human_seeds_df['response_id'] == response_id, 'response'].values[0]\n",
    "    else:\n",
    "        return df.loc[df['response_id'] == response_id, 'response_text'].values[0]\n",
    "\n",
    "for i in range(1, 7):\n",
    "    df['idea{}_txt'.format(i)] = ''\n",
    "    df['idea_minus_excluded{}_txt'.format(i)] = ''\n",
    "\n",
    "# Populate the new columns with the response texts\n",
    "for index, row in df.iterrows():\n",
    "    for i in range(min(6, len(row['init_array']))):\n",
    "        matched_text = get_response_text(row['init_array'][i])\n",
    "        df.loc[index, 'idea{}_txt'.format(i+1)] = matched_text\n",
    "        df.loc[index, 'idea_minus_excluded{}_txt'.format(i+1)] = matched_text if matched_text not in excluded_txt else np.NaN\n",
    "        \n",
    "print(len(df.query(\"exclude_from_analysis==0\")))\n",
    "    "
   ]
  },
  {
   "cell_type": "markdown",
   "id": "4bae295d-e6bc-4807-b571-932dd6699b9a",
   "metadata": {},
   "source": [
    "## Make sure seeds didn't differ by condition"
   ]
  },
  {
   "cell_type": "code",
   "execution_count": 32,
   "id": "68729944-bf68-41ff-bcbe-57321b152ce8",
   "metadata": {},
   "outputs": [
    {
     "name": "stdout",
     "output_type": "stream",
     "text": [
      "                       sum_sq    df          F    PR(>F)\n",
      "Intercept           20.702500   1.0  23.196412  0.000009\n",
      "condition            4.031667   4.0   1.129335  0.350496\n",
      "aut_item             4.277000   4.0   1.198056  0.320163\n",
      "condition:aut_item  14.848444  16.0   1.039822  0.429153\n",
      "Residual            58.011667  65.0        NaN       NaN\n"
     ]
    }
   ],
   "source": [
    "from statsmodels.formula.api import ols\n",
    "import statsmodels.api as sm\n",
    "seed_anova = ols('target ~ condition + aut_item + condition*aut_item', data=human_seeds_df).fit()\n",
    "table = sm.stats.anova_lm(seed_anova, typ=3)\n",
    "print(table)"
   ]
  },
  {
   "cell_type": "markdown",
   "id": "cb895d91-eac0-44f3-b617-d78c4cf01ea4",
   "metadata": {
    "papermill": {
     "duration": 0.003879,
     "end_time": "2023-07-29T18:11:37.742113",
     "exception": false,
     "start_time": "2023-07-29T18:11:37.738234",
     "status": "completed"
    },
    "tags": []
   },
   "source": [
    "## Data Checks"
   ]
  },
  {
   "cell_type": "code",
   "execution_count": 33,
   "id": "e2dd4d7e-53c4-4d3b-971b-402cd52bfe7b",
   "metadata": {
    "ExecuteTime": {
     "end_time": "2023-07-24T18:43:57.595970Z",
     "start_time": "2023-07-24T18:43:57.591580Z"
    },
    "papermill": {
     "duration": 0.010691,
     "end_time": "2023-07-29T18:11:37.756801",
     "exception": false,
     "start_time": "2023-07-29T18:11:37.746110",
     "status": "completed"
    },
    "tags": []
   },
   "outputs": [
    {
     "name": "stdout",
     "output_type": "stream",
     "text": [
      "TEST: Does every response id occur only once?\n",
      "YES: Every response id only occurs once\n",
      "\n",
      "TEST: Is it the case that all response texts have some words\n",
      "YES: All responses have some words\n"
     ]
    }
   ],
   "source": [
    "def verify_rid_unique():\n",
    "    print(\"TEST: Does every response id occur only once?\")\n",
    "    unique_rds = len(df['response_id'].unique())\n",
    "    all_rids = len(df['response_id'].tolist())\n",
    "    if all_rids == unique_rds:\n",
    "        print(\"YES: Every response id only occurs once\")\n",
    "    else:\n",
    "        print(\"NO: Some response ids occur twice\")\n",
    "    \n",
    "    \n",
    "def verify_no_response_blank():\n",
    "    print(\"TEST: Is it the case that all response texts have some words\")\n",
    "    blanks = len([x for x in df['response_id'].tolist() if x is None])\n",
    "    if blanks == 0:\n",
    "        print(\"YES: All responses have some words\")\n",
    "    else:\n",
    "        print(\"NO: Some responses don't have words\")\n",
    "    \n",
    "        \n",
    "verify_rid_unique()\n",
    "print()\n",
    "verify_no_response_blank()"
   ]
  },
  {
   "cell_type": "markdown",
   "id": "1a641a3c-b10b-4b67-b2f3-a59e9e5efd47",
   "metadata": {
    "papermill": {
     "duration": 0.004132,
     "end_time": "2023-07-29T18:11:37.765175",
     "exception": false,
     "start_time": "2023-07-29T18:11:37.761043",
     "status": "completed"
    },
    "tags": []
   },
   "source": [
    "# Clean Data"
   ]
  },
  {
   "cell_type": "markdown",
   "id": "1c54bf98-6046-42cc-880a-0400f9490542",
   "metadata": {
    "papermill": {
     "duration": 0.003956,
     "end_time": "2023-07-29T18:11:37.773255",
     "exception": false,
     "start_time": "2023-07-29T18:11:37.769299",
     "status": "completed"
    },
    "tags": []
   },
   "source": [
    "## Clean source column\n",
    "\n",
    "We tracked where traffic came from by appending different things to the request arguments for the experiment site. E.g: If posting the experiment on Facebook we would make the URL `experiment.com?from=facebook` so then `request_args` would be equal to `from=facebook`. But in some cases, no `request args` are available. This happens if somehow the request_args are stripped. There should be very few cases of this. "
   ]
  },
  {
   "cell_type": "code",
   "execution_count": 17,
   "id": "c8ebf96d-c8ff-4153-8dd9-d3f102f3cdc0",
   "metadata": {
    "ExecuteTime": {
     "end_time": "2023-07-24T18:43:57.714915Z",
     "start_time": "2023-07-24T18:43:57.596765Z"
    },
    "papermill": {
     "duration": 0.233447,
     "end_time": "2023-07-29T18:11:38.010805",
     "exception": false,
     "start_time": "2023-07-29T18:11:37.777358",
     "status": "completed"
    },
    "tags": []
   },
   "outputs": [
    {
     "name": "stdout",
     "output_type": "stream",
     "text": [
      "TEST: Does every source marked as OTHER have no request args?\n",
      "YES: For every source marked as `other`, we marked it as `other` because it does not have request args\n"
     ]
    },
    {
     "data": {
      "text/plain": [
       "Creative Mornings newsletter    1472\n",
       "r/InternetIsBeautiful           1131\n",
       "r/samplesize                     394\n",
       "share                            260\n",
       "r/chatgpt                         79\n",
       "r/writing                         30\n",
       "r/artificial                      24\n",
       "other                             23\n",
       "r/singularity                     17\n",
       "r/poetry                          15\n",
       "facebook                           7\n",
       "Name: source, dtype: int64"
      ]
     },
     "execution_count": 17,
     "metadata": {},
     "output_type": "execute_result"
    }
   ],
   "source": [
    "def verify_other_source():\n",
    "    print(\"TEST: Does every source marked as OTHER have no request args?\")\n",
    "    other_request_args = df.query(\"source=='other'\")['request_args'].tolist()\n",
    "    len_other = len(other_request_args)\n",
    "    len_other_no_args = len([x for x in other_request_args if x == 'None'])\n",
    "    if len_other == len_other_no_args:\n",
    "        print(\"YES: For every source marked as `other`, we marked it as `other` because it does not have request args\")\n",
    "    else:\n",
    "        print(\"NO: We missed categorizing some sources\")\n",
    "    \n",
    "def categorize_request_args(request_args):\n",
    "    request_args = request_args.lower()\n",
    "    if 'facebook' in request_args:\n",
    "        return 'facebook'\n",
    "    elif 'chatgpt' in request_args:\n",
    "        return 'r/chatgpt'\n",
    "    elif 'sample' in request_args:\n",
    "        return 'r/samplesize'\n",
    "    elif 'writing' in request_args:\n",
    "        return 'r/writing'\n",
    "    elif 'internet' in request_args:\n",
    "        return 'r/InternetIsBeautiful'\n",
    "    elif 'creative' in request_args:\n",
    "        return 'Creative Mornings newsletter'\n",
    "    elif 'poetry' in request_args:\n",
    "        return 'r/poetry'\n",
    "    elif 'results' in request_args or 'share' in request_args:\n",
    "        return 'share'\n",
    "    elif \"ai\" in request_args:\n",
    "        return \"r/artificial\"\n",
    "    elif \"singular\" in request_args:\n",
    "        return \"r/singularity\"\n",
    "    else:\n",
    "        return 'other'\n",
    "\n",
    "df['source'] = df['request_args'].apply(categorize_request_args)\n",
    "verify_other_source()\n",
    "\n",
    "df['source'].value_counts()"
   ]
  },
  {
   "cell_type": "markdown",
   "id": "566eaefb-e82f-473b-92d7-de76941e9e80",
   "metadata": {
    "papermill": {
     "duration": 0.017124,
     "end_time": "2023-07-29T18:11:38.036735",
     "exception": false,
     "start_time": "2023-07-29T18:11:38.019611",
     "status": "completed"
    },
    "tags": []
   },
   "source": [
    "## Clean Age Columns\n",
    "Participants entered their age, which was an int that had to be over 18. But let's make sure nobody entered anything weird -- and by weird we will look at responses over 70 years old. From inspecting the data, it appears that responses above 74 are troll responses -- relabel as NA and report in paper. "
   ]
  },
  {
   "cell_type": "code",
   "execution_count": 18,
   "id": "2debfeeb-fcff-4b91-8492-501391814f72",
   "metadata": {
    "ExecuteTime": {
     "end_time": "2023-07-24T18:44:05.150841Z",
     "start_time": "2023-07-24T18:44:05.137248Z"
    },
    "papermill": {
     "duration": 0.224738,
     "end_time": "2023-07-29T18:11:38.273103",
     "exception": false,
     "start_time": "2023-07-29T18:11:38.048365",
     "status": "completed"
    },
    "tags": []
   },
   "outputs": [
    {
     "data": {
      "text/plain": [
       "count    680.000000\n",
       "mean      36.867647\n",
       "std       28.688775\n",
       "min       18.000000\n",
       "25%       27.000000\n",
       "50%       34.000000\n",
       "75%       40.000000\n",
       "max      444.000000\n",
       "Name: age, dtype: float64"
      ]
     },
     "execution_count": 18,
     "metadata": {},
     "output_type": "execute_result"
    }
   ],
   "source": [
    "dfp = df.drop_duplicates(subset=['participant_id'])\n",
    "dfp['age'].describe()"
   ]
  },
  {
   "cell_type": "code",
   "execution_count": 19,
   "id": "02fd50dd-75b9-4065-ae33-d628531c81d2",
   "metadata": {
    "ExecuteTime": {
     "end_time": "2023-07-24T18:44:11.312915Z",
     "start_time": "2023-07-24T18:44:11.305997Z"
    },
    "papermill": {
     "duration": 0.138175,
     "end_time": "2023-07-29T18:11:38.419717",
     "exception": false,
     "start_time": "2023-07-29T18:11:38.281542",
     "status": "completed"
    },
    "tags": []
   },
   "outputs": [
    {
     "data": {
      "text/html": [
       "<div>\n",
       "<style scoped>\n",
       "    .dataframe tbody tr th:only-of-type {\n",
       "        vertical-align: middle;\n",
       "    }\n",
       "\n",
       "    .dataframe tbody tr th {\n",
       "        vertical-align: top;\n",
       "    }\n",
       "\n",
       "    .dataframe thead th {\n",
       "        text-align: right;\n",
       "    }\n",
       "</style>\n",
       "<table border=\"1\" class=\"dataframe\">\n",
       "  <thead>\n",
       "    <tr style=\"text-align: right;\">\n",
       "      <th></th>\n",
       "      <th>response_id</th>\n",
       "      <th>participant_id</th>\n",
       "      <th>response_text</th>\n",
       "      <th>response_date</th>\n",
       "      <th>condition</th>\n",
       "      <th>condition_order</th>\n",
       "      <th>item</th>\n",
       "      <th>world</th>\n",
       "      <th>init_array</th>\n",
       "      <th>ranked_array</th>\n",
       "      <th>...</th>\n",
       "      <th>idea_minus_excluded2_txt</th>\n",
       "      <th>idea3_txt</th>\n",
       "      <th>idea_minus_excluded3_txt</th>\n",
       "      <th>idea4_txt</th>\n",
       "      <th>idea_minus_excluded4_txt</th>\n",
       "      <th>idea5_txt</th>\n",
       "      <th>idea_minus_excluded5_txt</th>\n",
       "      <th>idea6_txt</th>\n",
       "      <th>idea_minus_excluded6_txt</th>\n",
       "      <th>source</th>\n",
       "    </tr>\n",
       "  </thead>\n",
       "  <tbody>\n",
       "    <tr>\n",
       "      <th>103</th>\n",
       "      <td>2e5141b6-814c-4e5f-89f6-9fe6155915e3</td>\n",
       "      <td>7f067979-5f4b-4729-a61f-827d82f929ff</td>\n",
       "      <td>Building a straw ball house</td>\n",
       "      <td>2023-07-14 03:00:50</td>\n",
       "      <td>f_u</td>\n",
       "      <td>0</td>\n",
       "      <td>tire</td>\n",
       "      <td>3</td>\n",
       "      <td>[723fd22b-6121-4935-82a1-54dfcecec5d9, e7726b1...</td>\n",
       "      <td>[a01068a1-ea4a-4c84-b9df-082ed1fe1b54, fd61a41...</td>\n",
       "      <td>...</td>\n",
       "      <td>Stack/arrange several into an obstacle/agility...</td>\n",
       "      <td>planter for small gardens</td>\n",
       "      <td>planter for small gardens</td>\n",
       "      <td>recycle into a dress</td>\n",
       "      <td>recycle into a dress</td>\n",
       "      <td>tire swing for backyard fun</td>\n",
       "      <td>tire swing for backyard fun</td>\n",
       "      <td>Hill racer</td>\n",
       "      <td>Hill racer</td>\n",
       "      <td>Creative Mornings newsletter</td>\n",
       "    </tr>\n",
       "    <tr>\n",
       "      <th>1944</th>\n",
       "      <td>5c366ee2-b272-454b-8f5f-b4b6e54e67b1</td>\n",
       "      <td>b2269ab4-bc4b-4049-b234-e240644e2cf7</td>\n",
       "      <td>to make into a bicycle tire made out of shoes</td>\n",
       "      <td>2023-07-08 17:26:18</td>\n",
       "      <td>h</td>\n",
       "      <td>0</td>\n",
       "      <td>shoe</td>\n",
       "      <td>3</td>\n",
       "      <td>[human_seed39, human_seed37, human_seed38, hum...</td>\n",
       "      <td>[human_seed38_world3, human_seed40_world3, hum...</td>\n",
       "      <td>...</td>\n",
       "      <td>to throw it somewhere</td>\n",
       "      <td>soup bowl</td>\n",
       "      <td>soup bowl</td>\n",
       "      <td>fashion</td>\n",
       "      <td>fashion</td>\n",
       "      <td>scare someone</td>\n",
       "      <td>scare someone</td>\n",
       "      <td>measuring scoop</td>\n",
       "      <td>measuring scoop</td>\n",
       "      <td>share</td>\n",
       "    </tr>\n",
       "    <tr>\n",
       "      <th>1950</th>\n",
       "      <td>dbe96241-4d64-4ae6-bb6d-15e5e45b0760</td>\n",
       "      <td>d54560e4-1d65-4e08-8332-8d4eb0d9ea23</td>\n",
       "      <td>Test</td>\n",
       "      <td>2023-07-08 16:53:58</td>\n",
       "      <td>h</td>\n",
       "      <td>0</td>\n",
       "      <td>shoe</td>\n",
       "      <td>2</td>\n",
       "      <td>[5915d456-2993-48be-b7bd-d26cad06d213, human_s...</td>\n",
       "      <td>[human_seed41_world2, human_seed40_world2, 591...</td>\n",
       "      <td>...</td>\n",
       "      <td>measuring scoop</td>\n",
       "      <td>fashion</td>\n",
       "      <td>fashion</td>\n",
       "      <td>leave tracks to follow</td>\n",
       "      <td>leave tracks to follow</td>\n",
       "      <td>Kitten transporter</td>\n",
       "      <td>Kitten transporter</td>\n",
       "      <td>Use as ganja smoking device</td>\n",
       "      <td>Use as ganja smoking device</td>\n",
       "      <td>share</td>\n",
       "    </tr>\n",
       "    <tr>\n",
       "      <th>2098</th>\n",
       "      <td>d2d498ec-58a0-4286-bb03-e4aa50f0486a</td>\n",
       "      <td>4c7db1ec-9ae0-4b58-b4d3-8186d5599d90</td>\n",
       "      <td>Portable cell-phone</td>\n",
       "      <td>2023-07-08 15:21:19</td>\n",
       "      <td>f_l</td>\n",
       "      <td>0</td>\n",
       "      <td>shoe</td>\n",
       "      <td>1</td>\n",
       "      <td>[43d81087-73e7-41ba-949d-0041d1cd8811, f8ecf73...</td>\n",
       "      <td>[43d81087-73e7-41ba-949d-0041d1cd8811, f8ecf73...</td>\n",
       "      <td>...</td>\n",
       "      <td>A mallet</td>\n",
       "      <td>diy door stopper alternative</td>\n",
       "      <td>diy door stopper alternative</td>\n",
       "      <td>golf club cover</td>\n",
       "      <td>golf club cover</td>\n",
       "      <td>Nunchuck</td>\n",
       "      <td>Nunchuck</td>\n",
       "      <td>phone holder on the go</td>\n",
       "      <td>phone holder on the go</td>\n",
       "      <td>r/InternetIsBeautiful</td>\n",
       "    </tr>\n",
       "    <tr>\n",
       "      <th>2256</th>\n",
       "      <td>4735ccd1-f9b8-4d39-a115-5ea58265e0a2</td>\n",
       "      <td>8459a1e8-f7a7-46b1-82a2-0d99056ac3f4</td>\n",
       "      <td>store krabby patty secret formula</td>\n",
       "      <td>2023-07-08 15:49:57</td>\n",
       "      <td>f_l</td>\n",
       "      <td>0</td>\n",
       "      <td>bottle</td>\n",
       "      <td>1</td>\n",
       "      <td>[d2a4126d-b581-4cb9-ba80-60dfc39d227b, 36b21de...</td>\n",
       "      <td>[d6829192-dce2-4a9d-9d46-e836acd74201, 36b21de...</td>\n",
       "      <td>...</td>\n",
       "      <td>draino bomb with aluminum foil, draino, and se...</td>\n",
       "      <td>Cut off top, insert funnel into body with bait...</td>\n",
       "      <td>Cut off top, insert funnel into body with bait...</td>\n",
       "      <td>make decorative string lights</td>\n",
       "      <td>make decorative string lights</td>\n",
       "      <td>bottle vase for flowers</td>\n",
       "      <td>bottle vase for flowers</td>\n",
       "      <td>Use to purify water</td>\n",
       "      <td>Use to purify water</td>\n",
       "      <td>r/InternetIsBeautiful</td>\n",
       "    </tr>\n",
       "    <tr>\n",
       "      <th>3024</th>\n",
       "      <td>cde0fcff-bf2b-45b7-bcd5-a32386664c8f</td>\n",
       "      <td>ae94364d-2fb8-47d0-b909-1c9e0d97aeff</td>\n",
       "      <td>Cut legs off to use as shorts</td>\n",
       "      <td>2023-07-08 15:05:43</td>\n",
       "      <td>m_l</td>\n",
       "      <td>0</td>\n",
       "      <td>pants</td>\n",
       "      <td>0</td>\n",
       "      <td>[ai_seed562, f28fb317-4ea6-418f-9040-dd180452c...</td>\n",
       "      <td>[ai_seed304, f28fb317-4ea6-418f-9040-dd180452c...</td>\n",
       "      <td>...</td>\n",
       "      <td>Cut it in half and use it as a long and thin b...</td>\n",
       "      <td>pant pockets pillow - stuff pant pockets with ...</td>\n",
       "      <td>pant pockets pillow - stuff pant pockets with ...</td>\n",
       "      <td>leg warmers for pets</td>\n",
       "      <td>leg warmers for pets</td>\n",
       "      <td>material for patchwork quilt</td>\n",
       "      <td>material for patchwork quilt</td>\n",
       "      <td>stitch end together and use it as a bag</td>\n",
       "      <td>stitch end together and use it as a bag</td>\n",
       "      <td>r/InternetIsBeautiful</td>\n",
       "    </tr>\n",
       "  </tbody>\n",
       "</table>\n",
       "<p>6 rows × 47 columns</p>\n",
       "</div>"
      ],
      "text/plain": [
       "                               response_id  \\\n",
       "103   2e5141b6-814c-4e5f-89f6-9fe6155915e3   \n",
       "1944  5c366ee2-b272-454b-8f5f-b4b6e54e67b1   \n",
       "1950  dbe96241-4d64-4ae6-bb6d-15e5e45b0760   \n",
       "2098  d2d498ec-58a0-4286-bb03-e4aa50f0486a   \n",
       "2256  4735ccd1-f9b8-4d39-a115-5ea58265e0a2   \n",
       "3024  cde0fcff-bf2b-45b7-bcd5-a32386664c8f   \n",
       "\n",
       "                            participant_id  \\\n",
       "103   7f067979-5f4b-4729-a61f-827d82f929ff   \n",
       "1944  b2269ab4-bc4b-4049-b234-e240644e2cf7   \n",
       "1950  d54560e4-1d65-4e08-8332-8d4eb0d9ea23   \n",
       "2098  4c7db1ec-9ae0-4b58-b4d3-8186d5599d90   \n",
       "2256  8459a1e8-f7a7-46b1-82a2-0d99056ac3f4   \n",
       "3024  ae94364d-2fb8-47d0-b909-1c9e0d97aeff   \n",
       "\n",
       "                                      response_text       response_date  \\\n",
       "103                     Building a straw ball house 2023-07-14 03:00:50   \n",
       "1944  to make into a bicycle tire made out of shoes 2023-07-08 17:26:18   \n",
       "1950                                           Test 2023-07-08 16:53:58   \n",
       "2098                            Portable cell-phone 2023-07-08 15:21:19   \n",
       "2256              store krabby patty secret formula 2023-07-08 15:49:57   \n",
       "3024                  Cut legs off to use as shorts 2023-07-08 15:05:43   \n",
       "\n",
       "     condition  condition_order    item  world  \\\n",
       "103        f_u                0    tire      3   \n",
       "1944         h                0    shoe      3   \n",
       "1950         h                0    shoe      2   \n",
       "2098       f_l                0    shoe      1   \n",
       "2256       f_l                0  bottle      1   \n",
       "3024       m_l                0   pants      0   \n",
       "\n",
       "                                             init_array  \\\n",
       "103   [723fd22b-6121-4935-82a1-54dfcecec5d9, e7726b1...   \n",
       "1944  [human_seed39, human_seed37, human_seed38, hum...   \n",
       "1950  [5915d456-2993-48be-b7bd-d26cad06d213, human_s...   \n",
       "2098  [43d81087-73e7-41ba-949d-0041d1cd8811, f8ecf73...   \n",
       "2256  [d2a4126d-b581-4cb9-ba80-60dfc39d227b, 36b21de...   \n",
       "3024  [ai_seed562, f28fb317-4ea6-418f-9040-dd180452c...   \n",
       "\n",
       "                                           ranked_array  ...  \\\n",
       "103   [a01068a1-ea4a-4c84-b9df-082ed1fe1b54, fd61a41...  ...   \n",
       "1944  [human_seed38_world3, human_seed40_world3, hum...  ...   \n",
       "1950  [human_seed41_world2, human_seed40_world2, 591...  ...   \n",
       "2098  [43d81087-73e7-41ba-949d-0041d1cd8811, f8ecf73...  ...   \n",
       "2256  [d6829192-dce2-4a9d-9d46-e836acd74201, 36b21de...  ...   \n",
       "3024  [ai_seed304, f28fb317-4ea6-418f-9040-dd180452c...  ...   \n",
       "\n",
       "                               idea_minus_excluded2_txt  \\\n",
       "103   Stack/arrange several into an obstacle/agility...   \n",
       "1944                              to throw it somewhere   \n",
       "1950                                    measuring scoop   \n",
       "2098                                           A mallet   \n",
       "2256  draino bomb with aluminum foil, draino, and se...   \n",
       "3024  Cut it in half and use it as a long and thin b...   \n",
       "\n",
       "                                              idea3_txt  \\\n",
       "103                           planter for small gardens   \n",
       "1944                                          soup bowl   \n",
       "1950                                            fashion   \n",
       "2098                       diy door stopper alternative   \n",
       "2256  Cut off top, insert funnel into body with bait...   \n",
       "3024  pant pockets pillow - stuff pant pockets with ...   \n",
       "\n",
       "                               idea_minus_excluded3_txt  \\\n",
       "103                           planter for small gardens   \n",
       "1944                                          soup bowl   \n",
       "1950                                            fashion   \n",
       "2098                       diy door stopper alternative   \n",
       "2256  Cut off top, insert funnel into body with bait...   \n",
       "3024  pant pockets pillow - stuff pant pockets with ...   \n",
       "\n",
       "                          idea4_txt       idea_minus_excluded4_txt  \\\n",
       "103            recycle into a dress           recycle into a dress   \n",
       "1944                        fashion                        fashion   \n",
       "1950         leave tracks to follow         leave tracks to follow   \n",
       "2098                golf club cover                golf club cover   \n",
       "2256  make decorative string lights  make decorative string lights   \n",
       "3024           leg warmers for pets           leg warmers for pets   \n",
       "\n",
       "                         idea5_txt      idea_minus_excluded5_txt  \\\n",
       "103    tire swing for backyard fun   tire swing for backyard fun   \n",
       "1944                 scare someone                 scare someone   \n",
       "1950            Kitten transporter            Kitten transporter   \n",
       "2098                      Nunchuck                      Nunchuck   \n",
       "2256       bottle vase for flowers       bottle vase for flowers   \n",
       "3024  material for patchwork quilt  material for patchwork quilt   \n",
       "\n",
       "                                    idea6_txt  \\\n",
       "103                                Hill racer   \n",
       "1944                          measuring scoop   \n",
       "1950              Use as ganja smoking device   \n",
       "2098                   phone holder on the go   \n",
       "2256                      Use to purify water   \n",
       "3024  stitch end together and use it as a bag   \n",
       "\n",
       "                     idea_minus_excluded6_txt                        source  \n",
       "103                                Hill racer  Creative Mornings newsletter  \n",
       "1944                          measuring scoop                         share  \n",
       "1950              Use as ganja smoking device                         share  \n",
       "2098                   phone holder on the go         r/InternetIsBeautiful  \n",
       "2256                      Use to purify water         r/InternetIsBeautiful  \n",
       "3024  stitch end together and use it as a bag         r/InternetIsBeautiful  \n",
       "\n",
       "[6 rows x 47 columns]"
      ]
     },
     "execution_count": 19,
     "metadata": {},
     "output_type": "execute_result"
    }
   ],
   "source": [
    "over_seven = dfp[dfp['age']>=70]\n",
    "over_seven"
   ]
  },
  {
   "cell_type": "code",
   "execution_count": 20,
   "id": "6ab40856-c4f2-4c68-bb24-1308d209c020",
   "metadata": {
    "ExecuteTime": {
     "end_time": "2023-07-24T18:44:25.691361Z",
     "start_time": "2023-07-24T18:44:25.677516Z"
    },
    "papermill": {
     "duration": 0.159709,
     "end_time": "2023-07-29T18:11:38.585464",
     "exception": false,
     "start_time": "2023-07-29T18:11:38.425755",
     "status": "completed"
    },
    "tags": []
   },
   "outputs": [
    {
     "name": "stdout",
     "output_type": "stream",
     "text": [
      "\\begin{table}\n",
      "\\centering\n",
      "\\caption{Users whose age we replaced with missing}\n",
      "\\begin{tabular}{llr}\n",
      "\\toprule\n",
      "{} &                        participant\\_id &  age \\\\\n",
      "\\midrule\n",
      "1944 &  b2269ab4-bc4b-4049-b234-e240644e2cf7 &  420 \\\\\n",
      "1950 &  d54560e4-1d65-4e08-8332-8d4eb0d9ea23 &   90 \\\\\n",
      "2098 &  4c7db1ec-9ae0-4b58-b4d3-8186d5599d90 &  432 \\\\\n",
      "2256 &  8459a1e8-f7a7-46b1-82a2-0d99056ac3f4 &  444 \\\\\n",
      "3024 &  ae94364d-2fb8-47d0-b909-1c9e0d97aeff &  111 \\\\\n",
      "\\bottomrule\n",
      "\\end{tabular}\n",
      "\\end{table}\n",
      "\n"
     ]
    }
   ],
   "source": [
    "print(dfp[dfp['age']>74][['participant_id', 'age']].to_latex(caption=\"Users whose age we replaced with missing\"))"
   ]
  },
  {
   "cell_type": "code",
   "execution_count": 21,
   "id": "791eeca7-b990-43a6-b1e2-5015d7012000",
   "metadata": {
    "ExecuteTime": {
     "end_time": "2023-07-24T18:44:42.931695Z",
     "start_time": "2023-07-24T18:44:42.913960Z"
    },
    "papermill": {
     "duration": 0.100686,
     "end_time": "2023-07-29T18:11:38.740864",
     "exception": false,
     "start_time": "2023-07-29T18:11:38.640178",
     "status": "completed"
    },
    "tags": []
   },
   "outputs": [
    {
     "data": {
      "text/plain": [
       "count    2767.000000\n",
       "mean       35.094326\n",
       "std        10.767012\n",
       "min        18.000000\n",
       "25%        27.000000\n",
       "50%        34.000000\n",
       "75%        40.000000\n",
       "max        74.000000\n",
       "Name: age, dtype: float64"
      ]
     },
     "execution_count": 21,
     "metadata": {},
     "output_type": "execute_result"
    }
   ],
   "source": [
    "def fix_age(x):\n",
    "    if pd.isnull(x):  # Check for NaN values\n",
    "        return x\n",
    "    elif x <= 74:\n",
    "        return int(x)\n",
    "    else:\n",
    "        return np.NaN\n",
    "\n",
    "df['age'] = df['age'].apply(lambda x: fix_age(x))\n",
    "df['age'] = df['age'].astype('Int64')\n",
    "df['age'].describe()"
   ]
  },
  {
   "cell_type": "markdown",
   "id": "9252230c-89a3-4ff5-b64d-e60c1e7ba282",
   "metadata": {
    "papermill": {
     "duration": 0.01216,
     "end_time": "2023-07-29T18:11:38.764578",
     "exception": false,
     "start_time": "2023-07-29T18:11:38.752418",
     "status": "completed"
    },
    "tags": []
   },
   "source": [
    "# Clean columns"
   ]
  },
  {
   "cell_type": "markdown",
   "id": "c5ad9bdb-7a3d-4af2-bdb1-21825f3e8454",
   "metadata": {
    "papermill": {
     "duration": 0.009559,
     "end_time": "2023-07-29T18:11:38.784180",
     "exception": false,
     "start_time": "2023-07-29T18:11:38.774621",
     "status": "completed"
    },
    "tags": []
   },
   "source": [
    "## Drop unused columns\n",
    "\n",
    "Note `is_troll` was not used; the relevant column is `is_profane`. "
   ]
  },
  {
   "cell_type": "code",
   "execution_count": 22,
   "id": "d56c4988-cc51-4148-818d-b635939d9930",
   "metadata": {
    "ExecuteTime": {
     "end_time": "2023-07-24T18:44:46.061493Z",
     "start_time": "2023-07-24T18:44:46.058321Z"
    },
    "papermill": {
     "duration": 0.069791,
     "end_time": "2023-07-29T18:11:38.864166",
     "exception": false,
     "start_time": "2023-07-29T18:11:38.794375",
     "status": "completed"
    },
    "tags": []
   },
   "outputs": [
    {
     "data": {
      "text/plain": [
       "Index(['response_id', 'participant_id', 'response_text', 'response_date',\n",
       "       'condition', 'condition_order', 'item', 'world', 'init_array',\n",
       "       'ranked_array', 'is_test', 'duration', 'is_troll', 'is_profane',\n",
       "       'is_prolific', 'participant_id_1', 'creativity_human', 'creativity_ai',\n",
       "       'dt', 'ai_feeling', 'country', 'age', 'is_test_1', 'referer',\n",
       "       'request_args', 'is_prolific_1', 'prolific_id', 'gender',\n",
       "       'gender_describe', 'exclude_from_analysis', 'is_profane_clean',\n",
       "       'item_condition', 'init_array_minus_excluded',\n",
       "       'ranked_array_minus_excluded', 'idea1_txt', 'idea_minus_excluded1_txt',\n",
       "       'idea2_txt', 'idea_minus_excluded2_txt', 'idea3_txt',\n",
       "       'idea_minus_excluded3_txt', 'idea4_txt', 'idea_minus_excluded4_txt',\n",
       "       'idea5_txt', 'idea_minus_excluded5_txt', 'idea6_txt',\n",
       "       'idea_minus_excluded6_txt', 'source'],\n",
       "      dtype='object')"
      ]
     },
     "execution_count": 22,
     "metadata": {},
     "output_type": "execute_result"
    }
   ],
   "source": [
    "df.columns"
   ]
  },
  {
   "cell_type": "code",
   "execution_count": 23,
   "id": "823c0b0a-7949-4584-8c58-463ace7ef5f2",
   "metadata": {
    "ExecuteTime": {
     "end_time": "2023-07-24T18:44:48.786591Z",
     "start_time": "2023-07-24T18:44:48.772302Z"
    },
    "papermill": {
     "duration": 0.045922,
     "end_time": "2023-07-29T18:11:38.918992",
     "exception": false,
     "start_time": "2023-07-29T18:11:38.873070",
     "status": "completed"
    },
    "tags": []
   },
   "outputs": [],
   "source": [
    "to_drop = [\"is_prolific\", \"is_prolific_1\", \"prolific_id\", \"is_test_1\", \"is_troll\", \"dt\", 'participant_id_1']\n",
    "for x in to_drop:\n",
    "    try:\n",
    "        df = df.drop(columns = [x], axis=0)\n",
    "    except KeyError:\n",
    "        pass"
   ]
  },
  {
   "cell_type": "markdown",
   "id": "90222eda-36df-4018-b351-cc486a07b8b7",
   "metadata": {
    "papermill": {
     "duration": 0.005341,
     "end_time": "2023-07-29T18:11:38.933312",
     "exception": false,
     "start_time": "2023-07-29T18:11:38.927971",
     "status": "completed"
    },
    "tags": []
   },
   "source": [
    "## Fix column types and names"
   ]
  },
  {
   "cell_type": "code",
   "execution_count": 24,
   "id": "aec03417-e256-4f3e-b5c5-7163c8867dbe",
   "metadata": {
    "ExecuteTime": {
     "end_time": "2023-07-24T18:44:54.783363Z",
     "start_time": "2023-07-24T18:44:54.760178Z"
    },
    "papermill": {
     "duration": 0.01648,
     "end_time": "2023-07-29T18:11:38.954988",
     "exception": false,
     "start_time": "2023-07-29T18:11:38.938508",
     "status": "completed"
    },
    "tags": []
   },
   "outputs": [],
   "source": [
    "df['creativity_human'] = df['creativity_human'].astype('Int64')\n",
    "df['creativity_ai'] = pd.to_numeric(df['creativity_ai'], errors='coerce').astype('Int64')\n",
    "df = df.rename(columns={'world': 'response_chain'})"
   ]
  },
  {
   "cell_type": "markdown",
   "id": "21b69302-4c4e-4cf0-81a0-c9984f804216",
   "metadata": {
    "papermill": {
     "duration": 0.006468,
     "end_time": "2023-07-29T18:11:38.966395",
     "exception": false,
     "start_time": "2023-07-29T18:11:38.959927",
     "status": "completed"
    },
    "tags": []
   },
   "source": [
    "# Add trial_no"
   ]
  },
  {
   "cell_type": "code",
   "execution_count": 25,
   "id": "32ef3be2-fc4d-41cc-ac7f-b42abb818248",
   "metadata": {
    "ExecuteTime": {
     "end_time": "2023-07-24T18:45:00.304750Z",
     "start_time": "2023-07-24T18:45:00.284451Z"
    },
    "papermill": {
     "duration": 0.031209,
     "end_time": "2023-07-29T18:11:39.004803",
     "exception": false,
     "start_time": "2023-07-29T18:11:38.973594",
     "status": "completed"
    },
    "tags": []
   },
   "outputs": [],
   "source": [
    "df['response_date'] = pd.to_datetime(df['response_date'])  # ensure response_date is datetime\n",
    "\n",
    "# Trial no\n",
    "df['trial_no'] = df.groupby(['response_chain', 'condition', 'item'])['response_date'].rank(method='first').astype(int)\n",
    "\n",
    "# Prob won't use this col\n",
    "df['trial_no_excluded'] = df[df['exclude_from_analysis'] != 1].groupby(['response_chain', 'condition', 'item'])['response_date'].rank(method='first').astype(float)"
   ]
  },
  {
   "cell_type": "markdown",
   "id": "18cc761c-fcdb-4e72-bd01-a7a2e1b51482",
   "metadata": {
    "papermill": {
     "duration": 0.005631,
     "end_time": "2023-07-29T18:11:39.016403",
     "exception": false,
     "start_time": "2023-07-29T18:11:39.010772",
     "status": "completed"
    },
    "tags": []
   },
   "source": [
    "## Save data"
   ]
  },
  {
   "cell_type": "code",
   "execution_count": 17,
   "id": "0f88c4ce-efc6-48f6-a10a-a6e39a5820de",
   "metadata": {
    "ExecuteTime": {
     "end_time": "2023-07-24T18:45:03.013181Z",
     "start_time": "2023-07-24T18:45:02.822211Z"
    },
    "execution": {
     "iopub.execute_input": "2023-07-29T18:11:39.028214Z",
     "iopub.status.busy": "2023-07-29T18:11:39.028045Z",
     "iopub.status.idle": "2023-07-29T18:11:39.413318Z",
     "shell.execute_reply": "2023-07-29T18:11:39.408519Z"
    },
    "papermill": {
     "duration": 0.395456,
     "end_time": "2023-07-29T18:11:39.417047",
     "exception": false,
     "start_time": "2023-07-29T18:11:39.021591",
     "status": "completed"
    },
    "tags": []
   },
   "outputs": [],
   "source": [
    "df.to_csv(\"../../data/experiment_data/data_clean.csv\")"
   ]
  },
  {
   "cell_type": "markdown",
   "id": "ca6c24c0-50f5-4bb0-ba0c-4819c1b5202e",
   "metadata": {
    "papermill": {
     "duration": 0.018793,
     "end_time": "2023-07-29T18:11:39.448635",
     "exception": false,
     "start_time": "2023-07-29T18:11:39.429842",
     "status": "completed"
    },
    "tags": []
   },
   "source": [
    "# Descriptive Stats"
   ]
  },
  {
   "cell_type": "code",
   "execution_count": 18,
   "id": "fa2af55c-8dec-432e-a65e-702c553edef2",
   "metadata": {
    "ExecuteTime": {
     "end_time": "2023-07-24T18:45:05.499773Z",
     "start_time": "2023-07-24T18:45:05.497237Z"
    },
    "execution": {
     "iopub.execute_input": "2023-07-29T18:11:39.463277Z",
     "iopub.status.busy": "2023-07-29T18:11:39.462869Z",
     "iopub.status.idle": "2023-07-29T18:11:39.896894Z",
     "shell.execute_reply": "2023-07-29T18:11:39.895790Z"
    },
    "papermill": {
     "duration": 0.444519,
     "end_time": "2023-07-29T18:11:39.899821",
     "exception": false,
     "start_time": "2023-07-29T18:11:39.455302",
     "status": "completed"
    },
    "tags": []
   },
   "outputs": [],
   "source": [
    "import seaborn as sns\n",
    "import matplotlib.pyplot as plt\n",
    "def make_aesthetic(hex_color_list=None):\n",
    "    \"\"\"Make Seaborn look clean\"\"\"\n",
    "    sns.set(style='white', context='poster', font_scale=0.8)\n",
    "    if not hex_color_list:\n",
    "        hex_color_list = [\n",
    "        \"#826AED\", # Medium slate blue\n",
    "        \"#00A896\", # Persian green\n",
    "        \"#D41876\", # Telemagenta\n",
    "        \"#89DAFF\", # Pale azure\n",
    "        \"#F7B2AD\", # Melon\n",
    "        \"#342E37\", # Dark grayish-purple\n",
    "        \"#7DCD85\", # Emerald\n",
    "        \"#E87461\", # Medium-bright orange\n",
    "        \"#E3B505\", # Saffron\n",
    "        \"#2C3531\", # Dark charcoal gray with a green undertone\n",
    "        \"#D4B2D8\", # Pink lavender\n",
    "        \"#7E6551\", # Coyote\n",
    "        \"#F45B69\", # Vibrant pinkish-red\n",
    "        \"#020887\", # Phthalo Blue\n",
    "        \"#F18805\"  # Tangerine\n",
    "        ]\n",
    "    sns.set_palette(sns.color_palette(hex_color_list))\n",
    "    plt.rcParams['font.family'] = 'Arial'\n",
    "    plt.rcParams['axes.spines.right'] = False\n",
    "    plt.rcParams['axes.spines.top'] = False\n",
    "    plt.rcParams['axes.titlelocation'] = 'left'\n",
    "    plt.rcParams['axes.titleweight'] = 'bold'\n",
    "    plt.rcParams['axes.grid'] = True\n",
    "    plt.rcParams['grid.linestyle'] = '--'\n",
    "    plt.rcParams['grid.alpha'] = 0.5\n",
    "    plt.rcParams['axes.facecolor'] = 'white'\n",
    "    plt.rcParams['legend.frameon'] = True\n",
    "    plt.rcParams['legend.framealpha'] = 0.8\n",
    "    plt.rcParams['legend.facecolor'] = 'white'\n",
    "    plt.rcParams['savefig.transparent'] = True\n",
    "    plt.rcParams['savefig.bbox'] = 'tight'\n",
    "    plt.rcParams['savefig.pad_inches'] = 0.1\n",
    "    plt.rcParams['figure.autolayout'] = True\n",
    "make_aesthetic()"
   ]
  },
  {
   "cell_type": "markdown",
   "id": "19b03449-0794-44ab-8b91-57642fc02a31",
   "metadata": {
    "papermill": {
     "duration": 0.005095,
     "end_time": "2023-07-29T18:11:39.910155",
     "exception": false,
     "start_time": "2023-07-29T18:11:39.905060",
     "status": "completed"
    },
    "tags": []
   },
   "source": [
    "### Meta Info"
   ]
  },
  {
   "cell_type": "code",
   "execution_count": 26,
   "id": "ef12d38b-3f4e-43b3-a156-823d02b8cac3",
   "metadata": {
    "ExecuteTime": {
     "end_time": "2023-07-24T18:45:10.300979Z",
     "start_time": "2023-07-24T18:45:10.285217Z"
    },
    "papermill": {
     "duration": 0.122105,
     "end_time": "2023-07-29T18:11:40.037414",
     "exception": false,
     "start_time": "2023-07-29T18:11:39.915309",
     "status": "completed"
    },
    "tags": []
   },
   "outputs": [
    {
     "name": "stdout",
     "output_type": "stream",
     "text": [
      "\\begin{table}\n",
      "\\centering\n",
      "\\caption{Summary Statistics of Experiment}\n",
      "\\label{overall_stats}\n",
      "\\begin{tabular}{lr}\n",
      "\\toprule\n",
      "{} &    Value \\\\\n",
      "\\midrule\n",
      "Unique Countries          &    48.00 \\\\\n",
      "Total Responses           &  3414.00 \\\\\n",
      "Unique Participants       &   844.00 \\\\\n",
      "Avg Responses/Participant &     4.05 \\\\\n",
      "Avg Duration/Response     &   144.31 \\\\\n",
      "\\bottomrule\n",
      "\\end{tabular}\n",
      "\\end{table}\n",
      "\n"
     ]
    }
   ],
   "source": [
    "df = pd.read_csv(\"../../data/experiment_data/data_clean.csv\").query(\"exclude_from_analysis==0\")\n",
    "dfp = df.drop_duplicates(subset=['participant_id'])\n",
    "dfp = pd.concat([dfp, pd.get_dummies(dfp['ai_feeling'])], axis=1)\n",
    "\n",
    "df_new = pd.DataFrame(index=[\"Value\"])\n",
    "df_new['Unique Countries'] = [int(len(df['country'].unique()))]\n",
    "df_new['Total Responses'] = [int(len(df))]\n",
    "df_new['Unique Participants'] = [df['participant_id'].nunique()]\n",
    "df_new['Avg Responses/Participant'] = df_new['Total Responses'] / df_new['Unique Participants']\n",
    "df_new['Avg Duration/Response'] = [df['duration'].mean()]\n",
    "\n",
    "df_new['Avg Responses/Participant'] = df_new['Avg Responses/Participant'].round(2)\n",
    "df_new['Avg Duration/Response'] = df_new['Avg Duration/Response'].round(2)\n",
    "\n",
    "latex_table = df_new.T.to_latex(index=True, caption=\"Summary Statistics of Experiment\", label=\"overall_stats\")\n",
    "print(latex_table)\n"
   ]
  },
  {
   "cell_type": "markdown",
   "id": "cab3f133-bc92-4722-9a5a-047fae9b6c75",
   "metadata": {
    "papermill": {
     "duration": 0.004882,
     "end_time": "2023-07-29T18:11:40.047068",
     "exception": false,
     "start_time": "2023-07-29T18:11:40.042186",
     "status": "completed"
    },
    "tags": []
   },
   "source": [
    "### Sources"
   ]
  },
  {
   "cell_type": "code",
   "execution_count": 38,
   "id": "2b6f3d6a-63f1-47ec-92ed-b61a28bd59a6",
   "metadata": {
    "ExecuteTime": {
     "end_time": "2023-07-24T18:45:21.679378Z",
     "start_time": "2023-07-24T18:45:21.657828Z"
    },
    "papermill": {
     "duration": 0.018752,
     "end_time": "2023-07-29T18:11:40.070708",
     "exception": false,
     "start_time": "2023-07-29T18:11:40.051956",
     "status": "completed"
    },
    "tags": []
   },
   "outputs": [
    {
     "name": "stdout",
     "output_type": "stream",
     "text": [
      "\\begin{table}\n",
      "\\centering\n",
      "\\caption{Sources of participants and trials. For analysis, we categorized each source into a higher level interest group (technology, creativity, neutral).}\n",
      "\\label{sources}\n",
      "\\begin{tabular}{llll}\n",
      "\\toprule\n",
      "Interest Group &                       source & Participants (N, \\% of total) & Trials (N, \\% of total) \\\\\n",
      "\\midrule\n",
      "      creative & Creative Mornings newsletter &                  343 (40.6\\%) &           1470 (43.1\\%) \\\\\n",
      "    technology &        r/InternetIsBeautiful &                  298 (35.3\\%) &           1115 (32.7\\%) \\\\\n",
      "       neutral &                 r/samplesize &                   94 (11.1\\%) &            389 (11.4\\%) \\\\\n",
      "       neutral &                        share &                    61 (7.2\\%) &             250 (7.3\\%) \\\\\n",
      "    technology &                    r/chatgpt &                    19 (2.3\\%) &              79 (2.3\\%) \\\\\n",
      "      creative &                    r/writing &                     7 (0.8\\%) &              30 (0.9\\%) \\\\\n",
      "       neutral &                        other &                     6 (0.7\\%) &              22 (0.6\\%) \\\\\n",
      "    technology &                r/singularity &                     6 (0.7\\%) &              13 (0.4\\%) \\\\\n",
      "    technology &                 r/artificial &                     5 (0.6\\%) &              24 (0.7\\%) \\\\\n",
      "      creative &                     r/poetry &                     3 (0.4\\%) &              15 (0.4\\%) \\\\\n",
      "       neutral &                     facebook &                     2 (0.2\\%) &               7 (0.2\\%) \\\\\n",
      "\\bottomrule\n",
      "\\end{tabular}\n",
      "\\end{table}\n",
      "\n"
     ]
    }
   ],
   "source": [
    "    \n",
    "def interest_group(source):\n",
    "    creative_sources = ['Creative Mornings newsletter', 'r/writing', 'r/poetry']\n",
    "    technology_sources = ['r/artificial', 'r/chatgpt', 'r/InternetIsBeautiful', 'r/singularity']\n",
    "    neutral_sources = ['share', 'facebook', 'r/samplesize', 'other']\n",
    "    \n",
    "    if source in creative_sources:\n",
    "        return \"creative\"\n",
    "    elif source in technology_sources:\n",
    "        return \"technology\"\n",
    "    elif source in neutral_sources:\n",
    "        return \"neutral\"\n",
    "    else:\n",
    "        print(\"ERROR YOU DIDNT ACCOUNT FOR SOME SOURCE\")\n",
    "        return \"error\"\n",
    "\n",
    "\n",
    "\n",
    "df['interest_group'] = df['source'].apply(lambda x: interest_group(x))\n",
    "participants = df.groupby(['source', 'interest_group'])['participant_id'].nunique()\n",
    "percentage_participants = (participants / df['participant_id'].nunique()) * 100\n",
    "trials = df.groupby(['source', 'interest_group']).size()\n",
    "percentage_trials = (trials / df.shape[0]) * 100\n",
    "\n",
    "result = pd.DataFrame({\n",
    "    'Participants': participants,\n",
    "    'Percentage of Participants': percentage_participants,\n",
    "    'Trials': trials,\n",
    "    'Percentage of Trials': percentage_trials,\n",
    "})\n",
    "\n",
    "result = result.sort_values('Participants', ascending=False)\n",
    "result['Participants (N, % of total)'] = result['Participants'].astype(str) + ' (' + result['Percentage of Participants'].round(1).astype(str) + '%)'\n",
    "result['Trials (N, % of total)'] = result['Trials'].astype(str) + ' (' + result['Percentage of Trials'].round(1).astype(str) + '%)'\n",
    "\n",
    "result = result.drop(columns=['Participants', 'Percentage of Participants', 'Trials', 'Percentage of Trials'])\n",
    "\n",
    "result = result.reset_index().rename(columns={'interest_group': 'Interest Group'})\n",
    "column_order = ['Interest Group', 'source', 'Participants (N, % of total)', 'Trials (N, % of total)']\n",
    "result = result[column_order]\n",
    "\n",
    "latex_table = result.to_latex(caption=\"Sources of participants and trials. For analysis, we categorized each source into a higher level interest group (technology, creativity, neutral).\", label=\"sources\", index=False)\n",
    "print(latex_table)\n"
   ]
  },
  {
   "cell_type": "markdown",
   "id": "71f6f903",
   "metadata": {
    "papermill": {
     "duration": 0.005039,
     "end_time": "2023-07-29T18:11:40.080333",
     "exception": false,
     "start_time": "2023-07-29T18:11:40.075294",
     "status": "completed"
    },
    "tags": []
   },
   "source": [
    "## Desc Stat Tables"
   ]
  },
  {
   "cell_type": "code",
   "execution_count": 39,
   "id": "08f0344d-9b9b-4d39-882b-2fadcf856cfc",
   "metadata": {
    "papermill": {
     "duration": 0.034733,
     "end_time": "2023-07-29T18:11:40.120549",
     "exception": false,
     "start_time": "2023-07-29T18:11:40.085816",
     "status": "completed"
    },
    "tags": []
   },
   "outputs": [
    {
     "name": "stdout",
     "output_type": "stream",
     "text": [
      "The mean age was 34.92 (SD = 10.86).\n",
      "The mean creativity_ai was 57.86 (SD = 26.66).\n",
      "The mean creativity_human was 58.67 (SD = 23.65).\n",
      "\\begin{table}\n",
      "\\centering\n",
      "\\caption{Descriptive Stats}\n",
      "\\label{desc_stats}\n",
      "\\begin{tabular}{lrrrrr}\n",
      "\\toprule\n",
      "{} &   Mean &     SD &  25th Percentile &  Median &  75th Percentile \\\\\n",
      "\\midrule\n",
      "age              &  34.92 &  10.86 &             27.0 &    33.0 &             40.0 \\\\\n",
      "creativity\\_ai    &  57.86 &  26.66 &             40.0 &    60.0 &             76.0 \\\\\n",
      "creativity\\_human &  58.67 &  23.65 &             44.0 &    62.0 &             75.0 \\\\\n",
      "\\bottomrule\n",
      "\\end{tabular}\n",
      "\\end{table}\n",
      "\n",
      "Of the non-missing values, the sample was 50\\% woman, 43\\% man, 4\\% non-binary, 3\\% prefer_not_disclose, 1\\% prefer_self_describe. 26% of responses were missing.\n",
      "\\begin{table}\n",
      "\\centering\n",
      "\\caption{Distribution of Gender}\n",
      "\\label{dist_gender}\n",
      "\\begin{tabular}{ll}\n",
      "\\toprule\n",
      "{} & Counts (\\% of total) \\\\\n",
      "gender               &                     \\\\\n",
      "\\midrule\n",
      "woman                &           308 (36\\%) \\\\\n",
      "man                  &           268 (32\\%) \\\\\n",
      "Missing              &           222 (26\\%) \\\\\n",
      "non-binary           &             23 (3\\%) \\\\\n",
      "prefer\\_not\\_disclose  &             16 (2\\%) \\\\\n",
      "prefer\\_self\\_describe &              7 (1\\%) \\\\\n",
      "\\bottomrule\n",
      "\\end{tabular}\n",
      "\\end{table}\n",
      "\n",
      "Of the non-missing values, the sample was 48\\% neutral, 28\\% excited, 24\\% concerned. 1% of responses were missing.\n",
      "\\begin{table}\n",
      "\\centering\n",
      "\\caption{Distribution of Ai Feeling}\n",
      "\\label{dist_ai_feeling}\n",
      "\\begin{tabular}{ll}\n",
      "\\toprule\n",
      "{} & Counts (\\% of total) \\\\\n",
      "ai\\_feeling &                     \\\\\n",
      "\\midrule\n",
      "neutral    &           403 (48\\%) \\\\\n",
      "excited    &           232 (27\\%) \\\\\n",
      "concerned  &           198 (23\\%) \\\\\n",
      "Missing    &             11 (1\\%) \\\\\n",
      "\\bottomrule\n",
      "\\end{tabular}\n",
      "\\end{table}\n",
      "\n"
     ]
    }
   ],
   "source": [
    "import numpy as np\n",
    "import pandas as pd\n",
    "\n",
    "class DescriptiveStats:\n",
    "    \"\"\"\n",
    "    A class for automating clean latex tables and descriptions from dataframes. \n",
    "    \n",
    "    SAMPLE USAGE:\n",
    "    \n",
    "    dp = DescriptiveStats(df.drop_duplicates(subset=['participant_id']))\n",
    "    dp.print_latex_table_continuous(['age', 'creativity_ai', 'creativity_human'], decimal_places=2, caption=\"Descriptive Stats\")\n",
    "    dp.print_latex_table_categorical('gender', decimal_places=0)\n",
    "    dp.print_latex_table_categorical('ai_feeling', decimal_places=0)\n",
    "    \n",
    "    \"\"\"\n",
    "    def __init__(self, df):\n",
    "        self.df = df\n",
    "\n",
    "    def print_latex_table_categorical(self, column, caption=None, label=None, decimal_places=2):\n",
    "        value_counts = self.df[column].value_counts(dropna=False)\n",
    "        value_counts_percentages = self.df[column].value_counts(normalize=True, dropna=False) * 100\n",
    "        df_output = pd.DataFrame({column: value_counts.index, \n",
    "                                  'Counts (% of total)': [f\"{count} ({percentage:.{decimal_places}f}%)\" for count, percentage in zip(value_counts.values, value_counts_percentages.values)]})\n",
    "        df_output[column] = df_output[column].fillna(\"Missing\")\n",
    "        df_output.set_index(column, inplace=True)\n",
    "        latex_table = df_output.to_latex(index=True, caption=caption or f\"Distribution of {column.replace('_', ' ').title()}\", label=label or f\"dist_{column}\")\n",
    "        print(self.generate_categorical_string(column, decimal_places))\n",
    "        print(latex_table)\n",
    "        \n",
    "    def print_latex_table_continuous(self, columns, caption=None, label=None, decimal_places=2):\n",
    "        if not isinstance(columns, list):\n",
    "            columns = [columns]\n",
    "        stats_list = []\n",
    "        for column in columns:\n",
    "            mean_value = round(self.df[column].mean(), decimal_places)\n",
    "            median_value = round(self.df[column].median(), decimal_places)\n",
    "            std_dev = round(self.df[column].std(), decimal_places)\n",
    "            quartile_25 = round(np.percentile(self.df[column].dropna(), 25), decimal_places)\n",
    "            quartile_75 = round(np.percentile(self.df[column].dropna(), 75), decimal_places)\n",
    "            stats_series = pd.Series({'Mean': mean_value,\n",
    "                                      'SD': std_dev,\n",
    "                                      '25th Percentile': quartile_25,\n",
    "                                      'Median': median_value,\n",
    "                                      '75th Percentile': quartile_75},\n",
    "                                     name=column)\n",
    "            stats_list.append(stats_series)\n",
    "\n",
    "        df_output = pd.concat(stats_list, axis=1)\n",
    "        latex_table = df_output.T.to_latex(index=True, caption=caption or \"Distribution of Continuous Variables\", label=label)\n",
    "        for column in columns:\n",
    "            print(self.generate_continuous_string(column, decimal_places))\n",
    "        print(latex_table)\n",
    "        \n",
    "    def generate_categorical_string(self, column, decimal_places):\n",
    "        percentages = self.df[column].value_counts(normalize=True, dropna=True) * 100\n",
    "        percentage_nan = self.df[column].isna().mean() * 100\n",
    "        percentage_string = \", \".join([f\"{percentage:.{decimal_places}f}\\% {index}\" for index, percentage in percentages.items()])\n",
    "        percentage_string += f\". {percentage_nan:.{decimal_places}f}% of responses were missing.\"\n",
    "        return f\"Of the non-missing values, the sample was {percentage_string}\"\n",
    "\n",
    "    \n",
    "    def generate_continuous_string(self, column, decimal_places):\n",
    "        mean_value = round(self.df[column].mean(), decimal_places)\n",
    "        std_dev = round(self.df[column].std(), decimal_places)\n",
    "        stats_string = f\"The mean {column} was {mean_value:.{decimal_places}f} (SD = {std_dev:.{decimal_places}f}).\"\n",
    "        return stats_string\n",
    "\n",
    "        \n",
    "dp = DescriptiveStats(df.drop_duplicates(subset=['participant_id']))\n",
    "dp.print_latex_table_continuous(['age', 'creativity_ai', 'creativity_human'], decimal_places=2, caption=\"Descriptive Stats\", label=\"desc_stats\")\n",
    "dp.print_latex_table_categorical('gender', decimal_places=0)\n",
    "dp.print_latex_table_categorical('ai_feeling', decimal_places=0)"
   ]
  },
  {
   "cell_type": "markdown",
   "id": "d457e5f5",
   "metadata": {
    "papermill": {
     "duration": 0.005698,
     "end_time": "2023-07-29T18:11:40.403103",
     "exception": false,
     "start_time": "2023-07-29T18:11:40.397405",
     "status": "completed"
    },
    "tags": []
   },
   "source": [
    "# Race conditions/trials"
   ]
  },
  {
   "cell_type": "code",
   "execution_count": 1,
   "id": "40666623",
   "metadata": {
    "papermill": {
     "duration": 0.093584,
     "end_time": "2023-07-29T18:11:40.502390",
     "exception": false,
     "start_time": "2023-07-29T18:11:40.408806",
     "status": "completed"
    },
    "tags": []
   },
   "outputs": [
    {
     "data": {
      "text/html": [
       "<div>\n",
       "<style scoped>\n",
       "    .dataframe tbody tr th:only-of-type {\n",
       "        vertical-align: middle;\n",
       "    }\n",
       "\n",
       "    .dataframe tbody tr th {\n",
       "        vertical-align: top;\n",
       "    }\n",
       "\n",
       "    .dataframe thead th {\n",
       "        text-align: right;\n",
       "    }\n",
       "</style>\n",
       "<table border=\"1\" class=\"dataframe\">\n",
       "  <thead>\n",
       "    <tr style=\"text-align: right;\">\n",
       "      <th></th>\n",
       "      <th>response_chain</th>\n",
       "      <th>item</th>\n",
       "      <th>condition</th>\n",
       "      <th>trials</th>\n",
       "    </tr>\n",
       "  </thead>\n",
       "  <tbody>\n",
       "    <tr>\n",
       "      <th>0</th>\n",
       "      <td>0</td>\n",
       "      <td>bottle</td>\n",
       "      <td>f_l</td>\n",
       "      <td>19</td>\n",
       "    </tr>\n",
       "    <tr>\n",
       "      <th>1</th>\n",
       "      <td>0</td>\n",
       "      <td>bottle</td>\n",
       "      <td>f_u</td>\n",
       "      <td>19</td>\n",
       "    </tr>\n",
       "    <tr>\n",
       "      <th>2</th>\n",
       "      <td>0</td>\n",
       "      <td>bottle</td>\n",
       "      <td>h</td>\n",
       "      <td>19</td>\n",
       "    </tr>\n",
       "    <tr>\n",
       "      <th>3</th>\n",
       "      <td>0</td>\n",
       "      <td>bottle</td>\n",
       "      <td>m_l</td>\n",
       "      <td>19</td>\n",
       "    </tr>\n",
       "    <tr>\n",
       "      <th>4</th>\n",
       "      <td>0</td>\n",
       "      <td>bottle</td>\n",
       "      <td>m_u</td>\n",
       "      <td>19</td>\n",
       "    </tr>\n",
       "  </tbody>\n",
       "</table>\n",
       "</div>"
      ],
      "text/plain": [
       "   response_chain    item condition  trials\n",
       "0               0  bottle       f_l      19\n",
       "1               0  bottle       f_u      19\n",
       "2               0  bottle         h      19\n",
       "3               0  bottle       m_l      19\n",
       "4               0  bottle       m_u      19"
      ]
     },
     "execution_count": 1,
     "metadata": {},
     "output_type": "execute_result"
    }
   ],
   "source": [
    "import pandas as pd\n",
    "df = pd.read_csv(\"../../data/experiment_data/data_clean.csv\")\n",
    "counts = df.groupby(by=['response_chain', 'item', 'condition']).count().reset_index()[['response_chain', 'item', 'condition', 'response_id']]\n",
    "counts = counts.rename(columns = {'response_id':'trials'})\n",
    "counts.head()"
   ]
  },
  {
   "cell_type": "code",
   "execution_count": 3,
   "id": "9eeceb7f-b18c-4d63-84e9-25b432f8d36b",
   "metadata": {
    "papermill": {
     "duration": 0.017406,
     "end_time": "2023-07-29T18:11:40.525794",
     "exception": false,
     "start_time": "2023-07-29T18:11:40.508388",
     "status": "completed"
    },
    "tags": []
   },
   "outputs": [
    {
     "name": "stdout",
     "output_type": "stream",
     "text": [
      "count    175.000000\n",
      "mean      19.725714\n",
      "std        1.451979\n",
      "min       14.000000\n",
      "25%       19.000000\n",
      "50%       20.000000\n",
      "75%       20.000000\n",
      "max       24.000000\n",
      "Name: trials, dtype: float64\n",
      "\n",
      "The average number of trials per response chain was 19.73 (SD = 1.45) and median number per chain was 20. We concluded the experiment before the last round of response chains was completely finished for all condition X item combinations so the minimum number of trials in a response chain (occuring for an item X condition combination in the last round) was 14. The maximum number of trials was 24\n"
     ]
    }
   ],
   "source": [
    "from google.cloud import bigquery\n",
    "from google.oauth2 import service_account\n",
    "import pandas as pd\n",
    "import numpy as np \n",
    "import os\n",
    "import ast\n",
    "\n",
    "\n",
    "desc = counts.describe()['trials']\n",
    "print(desc)\n",
    "print()\n",
    "print(f\"The average number of trials per response chain was {np.round(desc['mean'],2)} (SD = {np.round(desc['std'],2)}) and median number per chain was {int(desc['50%'])}. \\\n",
    "We concluded the experiment before the last round of response chains was completely finished for all condition X item\\\n",
    " combinations so the minimum number of trials in a response chain (occuring for an item X condition combination in the last round) was {int(desc['min'])}. \\\n",
    "The maximum number of trials was {int(desc['max'])}\" )"
   ]
  },
  {
   "cell_type": "code",
   "execution_count": 44,
   "id": "c7289d53",
   "metadata": {
    "papermill": {
     "duration": 1.002565,
     "end_time": "2023-07-29T18:11:41.534222",
     "exception": false,
     "start_time": "2023-07-29T18:11:40.531657",
     "status": "completed"
    },
    "tags": []
   },
   "outputs": [
    {
     "name": "stdout",
     "output_type": "stream",
     "text": [
      "                           sum_sq     df            F        PR(>F)\n",
      "Intercept             2720.571429    1.0  1145.388933  4.133820e-72\n",
      "C(item)                  3.600000    4.0     0.378909  8.234406e-01\n",
      "C(condition)             0.114286    4.0     0.012029  9.997115e-01\n",
      "C(item):C(condition)     0.480000   16.0     0.012630  1.000000e+00\n",
      "Residual               356.285714  150.0          NaN           NaN\n",
      "trials was not related to item $(F(4) = 0.38, p = 0.82)$,condition $(F(4) = 0.01, p = 1.00)$,item:condition $(F(16) = 0.01, p = 1.00)$,\n"
     ]
    }
   ],
   "source": [
    "import statsmodels.api as sm\n",
    "from statsmodels.formula.api import ols\n",
    "\n",
    "def handle_anova(dv):\n",
    "    model_two_way = ols('trials ~ C(item) + C(condition) + C(item):C(condition)', data=counts).fit()\n",
    "    anova_table_two_way = sm.stats.anova_lm(model_two_way, typ=3)\n",
    "    print(anova_table_two_way)\n",
    "    summ = anova_summary(anova_table_two_way, dv)\n",
    "\n",
    "def anova_summary(anova_table, dv):\n",
    "    summary = {}\n",
    "    summary_str = f\"{dv} was not related to \"\n",
    "    for index in anova_table.index:\n",
    "        F = anova_table.loc[index, \"F\"]\n",
    "        df = int(anova_table.loc[index, \"df\"])\n",
    "        p_value = anova_table.loc[index, \"PR(>F)\"]\n",
    "        summary[index] = f'F({df}) = {F:.2f}, p = {p_value:.2f}'\n",
    "    for x in summary:\n",
    "        x_clean = x.replace(\"C(\", \"\").replace(\")\", \"\")\n",
    "        if x_clean in ['item', 'condition', 'item:condition']:\n",
    "            summary_str += f\"{x_clean} $({summary[x]})$\" + \",\"\n",
    "    print(summary_str)\n",
    "    return summary\n",
    "\n",
    "\n",
    "handle_anova(\"trials\")"
   ]
  },
  {
   "cell_type": "markdown",
   "id": "ca0bf5ad-f1b3-4615-961c-3f1c3c6038a1",
   "metadata": {},
   "source": [
    "# Plot of creativity "
   ]
  },
  {
   "cell_type": "code",
   "execution_count": 4,
   "id": "ea7ab8d0-5d10-4218-ae8c-16d00cf2b284",
   "metadata": {},
   "outputs": [
    {
     "data": {
      "image/png": "[encoded data removed]",
      "text/plain": [
       "<Figure size 810x648 with 9 Axes>"
      ]
     },
     "metadata": {},
     "output_type": "display_data"
    }
   ],
   "source": [
    "import pandas as pd\n",
    "import seaborn as sns\n",
    "import matplotlib.pyplot as plt\n",
    "\n",
    "def interest_group(source):\n",
    "    creative_sources = ['Creative Mornings newsletter', 'r/writing', 'r/poetry']\n",
    "    technology_sources = ['r/artificial', 'r/chatgpt', 'r/InternetIsBeautiful', 'r/singularity']\n",
    "    neutral_sources = ['share', 'facebook', 'r/samplesize', 'other']\n",
    "    \n",
    "    if source in creative_sources:\n",
    "        return \"creative\"\n",
    "    elif source in technology_sources:\n",
    "        return \"technology\"\n",
    "    elif source in neutral_sources:\n",
    "        return \"neutral\"\n",
    "    else:\n",
    "        print(\"ERROR YOU DIDNT ACCOUNT FOR SOME SOURCE\")\n",
    "        return \"error\"\n",
    "\n",
    "def make_aesthetic(hex_color_list=None):\n",
    "    \"\"\"Make Seaborn look clean\"\"\"\n",
    "    sns.set(style='white', context='poster', font_scale=0.8)\n",
    "    if not hex_color_list:\n",
    "        hex_color_list = [\n",
    "        \"#826AED\", # Medium slate blue\n",
    "        \"#00A896\", # Persian green\n",
    "        \"#D41876\", # Telemagenta\n",
    "        \"#89DAFF\", # Pale azure\n",
    "        \"#F7B2AD\", # Melon\n",
    "        \"#342E37\", # Dark grayish-purple\n",
    "        \"#7DCD85\", # Emerald\n",
    "        \"#E87461\", # Medium-bright orange\n",
    "        \"#E3B505\", # Saffron\n",
    "        \"#2C3531\", # Dark charcoal gray with a green undertone\n",
    "        \"#D4B2D8\", # Pink lavender\n",
    "        \"#7E6551\", # Coyote\n",
    "        \"#F45B69\", # Vibrant pinkish-red\n",
    "        \"#020887\", # Phthalo Blue\n",
    "        \"#F18805\"  # Tangerine\n",
    "        ]\n",
    "    sns.set_palette(sns.color_palette(hex_color_list))\n",
    "    plt.rcParams['font.family'] = 'Arial'\n",
    "    plt.rcParams['axes.spines.right'] = False\n",
    "    plt.rcParams['axes.spines.top'] = False\n",
    "    plt.rcParams['axes.titlelocation'] = 'left'\n",
    "    plt.rcParams['axes.titleweight'] = 'normal'\n",
    "    plt.rcParams['axes.grid'] = True\n",
    "    plt.rcParams['grid.linestyle'] = '--'\n",
    "    plt.rcParams['grid.alpha'] = 0.5\n",
    "    plt.rcParams['axes.facecolor'] = 'white'\n",
    "    plt.rcParams['legend.frameon'] = True\n",
    "    plt.rcParams['legend.framealpha'] = 0.8\n",
    "    plt.rcParams['legend.facecolor'] = 'white'\n",
    "    plt.rcParams['savefig.transparent'] = False\n",
    "    plt.rcParams['savefig.bbox'] = 'tight'\n",
    "    plt.rcParams['savefig.pad_inches'] = 0.1\n",
    "    plt.rcParams['figure.autolayout'] = True\n",
    "make_aesthetic()\n",
    "\n",
    "df = pd.read_csv(\"../../data/experiment_data/data_clean.csv\")\n",
    "df['interest_group'] = df['source'].apply(lambda x: interest_group(x))\n",
    "df = df.dropna(subset=['ai_feeling', 'interest_group', 'creativity_ai', 'creativity_human'])\n",
    "df = df.drop_duplicates(subset=['participant_id'])\n",
    "\n",
    "\n",
    "g = sns.FacetGrid(df, row=\"ai_feeling\", col=\"interest_group\", margin_titles=True, sharex=True, sharey=True, height=3, aspect=1.25)\n",
    "g.map(sns.kdeplot, 'creativity_human', 'creativity_ai', cmap='Blues')\n",
    "\n",
    "# Add some labels\n",
    "g.set_axis_labels(\"I am more creative than\\n X% of Humans\", \"Creativity AI\")\n",
    "g.set_titles(row_template=\"AI feeling:\\n{row_name}\\n\", col_template=\"Interest group:\\n{col_name}\\n\", fontweight='bold')\n",
    "g.fig.suptitle('\\nTwo-Way Kernel Density Plots of Self-Percieved Creativity Scores\\nby AI Sentiment and Interest Group', size=20, ha='left', x=0.10)\n",
    "g.fig.tight_layout(rect=[0, 0, 1, 0.96])\n",
    "\n",
    "# Clearing default x and y labels\n",
    "for ax in g.axes.flat:\n",
    "    ax.set_xlabel('')\n",
    "    ax.set_ylabel('')\n",
    "\n",
    "g.axes[-1][1].set_xlabel(\"\\n'I am more creative than X% of humans'\")\n",
    "g.axes[1][0].set_ylabel(\"\\n'I am more creative than X% of AI'\")\n",
    "\n",
    "plt.savefig(\"two_way.png\", dpi=400)"
   ]
  },
  {
   "cell_type": "markdown",
   "id": "135cc04a-bbf4-4ebd-af34-6b83dfe964b9",
   "metadata": {},
   "source": [
    "## Analysis \n",
    "\n",
    "Not included in the paper for length concerns"
   ]
  },
  {
   "cell_type": "code",
   "execution_count": 31,
   "id": "6be1080f-e0b2-47ca-b3bd-2ef5415bf8fe",
   "metadata": {},
   "outputs": [
    {
     "data": {
      "text/plain": [
       "interest_group  ai_feeling\n",
       "creative        concerned     60.740385\n",
       "                excited       63.473684\n",
       "                neutral       63.231214\n",
       "neutral         concerned     46.647059\n",
       "                excited       55.896552\n",
       "                neutral       52.823529\n",
       "technology      concerned     55.785714\n",
       "                excited       58.827869\n",
       "                neutral       56.039735\n",
       "Name: creativity_human, dtype: float64"
      ]
     },
     "execution_count": 31,
     "metadata": {},
     "output_type": "execute_result"
    }
   ],
   "source": [
    "df.groupby(by=['interest_group', 'ai_feeling']).mean()['creativity_human']"
   ]
  },
  {
   "cell_type": "code",
   "execution_count": 36,
   "id": "3f32d1ab-e765-4779-a69f-9fbe0f590694",
   "metadata": {},
   "outputs": [
    {
     "data": {
      "image/png": "[encoded data removed]",
      "text/plain": [
       "<Figure size 864x432 with 1 Axes>"
      ]
     },
     "metadata": {},
     "output_type": "display_data"
    }
   ],
   "source": [
    "import pandas as pd\n",
    "import numpy as np\n",
    "import matplotlib.pyplot as plt\n",
    "\n",
    "def bootstrap_mean(data, n_bootstrap=1000, ci=95):\n",
    "    boot_means = np.zeros(n_bootstrap)\n",
    "    for i in range(n_bootstrap):\n",
    "        resample = data.sample(n=len(data), replace=True)\n",
    "        boot_means[i] = resample.mean()\n",
    "    lower = np.percentile(boot_means, (100 - ci) / 2)\n",
    "    upper = np.percentile(boot_means, ci + (100 - ci) / 2)\n",
    "    \n",
    "    return lower, upper\n",
    "\n",
    "# Filter out missing and duplicated values\n",
    "df = df.dropna(subset=['creativity_human', 'interest_group', 'ai_feeling'])\n",
    "df = df.drop_duplicates(subset=['participant_id'])\n",
    "\n",
    "groups = []\n",
    "means = []\n",
    "lower_cis = []\n",
    "upper_cis = []\n",
    "\n",
    "# Bootstrap for each combination of interest_group and ai_feeling\n",
    "for name, group in df.groupby(by=['interest_group', 'ai_feeling']):\n",
    "    lower, upper = bootstrap_mean(group['creativity_human'])\n",
    "    mean_val = group['creativity_human'].mean()\n",
    "    \n",
    "    groups.append(str(name))\n",
    "    means.append(mean_val)\n",
    "    lower_cis.append(lower)\n",
    "    upper_cis.append(upper)\n",
    "\n",
    "# Plot\n",
    "plt.figure(figsize=(12, 6))\n",
    "\n",
    "plt.errorbar(groups, means, yerr=[np.array(means) - np.array(lower_cis), np.array(upper_cis) - np.array(means)], fmt='o')\n",
    "plt.xlabel('Group (Interest Group, AI Feeling)')\n",
    "plt.ylabel('Mean Creativity (Human)')\n",
    "plt.title('Bootstrapped Confidence Intervals for Mean Creativity by Interest Group and AI Feeling')\n",
    "plt.xticks(rotation=90)\n",
    "plt.grid(True)\n",
    "plt.show()\n"
   ]
  },
  {
   "cell_type": "markdown",
   "id": "4dd0bc9b-ffb0-4e97-9e42-2ffda9d29c79",
   "metadata": {},
   "source": [
    "# Reviewer Checks "
   ]
  },
  {
   "cell_type": "markdown",
   "id": "0d509be0-e778-4887-b66a-a0aa1181e96d",
   "metadata": {},
   "source": [
    "## Were majority of people from English speaking countries?"
   ]
  },
  {
   "cell_type": "code",
   "execution_count": 37,
   "id": "e3c6144d-85ba-4d79-a0f0-e8a735e78166",
   "metadata": {},
   "outputs": [
    {
     "data": {
      "text/html": [
       "<div>\n",
       "<style scoped>\n",
       "    .dataframe tbody tr th:only-of-type {\n",
       "        vertical-align: middle;\n",
       "    }\n",
       "\n",
       "    .dataframe tbody tr th {\n",
       "        vertical-align: top;\n",
       "    }\n",
       "\n",
       "    .dataframe thead th {\n",
       "        text-align: right;\n",
       "    }\n",
       "</style>\n",
       "<table border=\"1\" class=\"dataframe\">\n",
       "  <thead>\n",
       "    <tr style=\"text-align: right;\">\n",
       "      <th></th>\n",
       "      <th>country</th>\n",
       "      <th>percent_responses</th>\n",
       "    </tr>\n",
       "  </thead>\n",
       "  <tbody>\n",
       "    <tr>\n",
       "      <th>0</th>\n",
       "      <td>United States</td>\n",
       "      <td>53.97</td>\n",
       "    </tr>\n",
       "    <tr>\n",
       "      <th>1</th>\n",
       "      <td>Canada</td>\n",
       "      <td>8.29</td>\n",
       "    </tr>\n",
       "    <tr>\n",
       "      <th>2</th>\n",
       "      <td>Germany</td>\n",
       "      <td>5.90</td>\n",
       "    </tr>\n",
       "    <tr>\n",
       "      <th>3</th>\n",
       "      <td>United Kingdom</td>\n",
       "      <td>5.56</td>\n",
       "    </tr>\n",
       "    <tr>\n",
       "      <th>4</th>\n",
       "      <td>Australia</td>\n",
       "      <td>4.13</td>\n",
       "    </tr>\n",
       "  </tbody>\n",
       "</table>\n",
       "</div>"
      ],
      "text/plain": [
       "          country  percent_responses\n",
       "0   United States              53.97\n",
       "1          Canada               8.29\n",
       "2         Germany               5.90\n",
       "3  United Kingdom               5.56\n",
       "4       Australia               4.13"
      ]
     },
     "metadata": {},
     "output_type": "display_data"
    },
    {
     "name": "stdout",
     "output_type": "stream",
     "text": [
      "77.85 percent of responses were from United States, Canada, Germany, UK, Australia\n"
     ]
    }
   ],
   "source": [
    "# Reviewers wanted to know (1) what percentage of participants were from countries with high english speaking proficency and (2) average number of words of response\n",
    "country_df = df['country'].value_counts(normalize=True).reset_index().head(5)\n",
    "country_df.columns = ['country', 'percent_responses']\n",
    "country_df['percent_responses'] = np.round(country_df['percent_responses']*100,2)\n",
    "display(country_df)\n",
    "sum_percent = country_df['percent_responses'].sum()\n",
    "print(f\"{sum_percent} percent of responses were from United States, Canada, Germany, UK, Australia\")"
   ]
  },
  {
   "cell_type": "markdown",
   "id": "8946164c-cfba-499c-8345-e854373e5eab",
   "metadata": {},
   "source": [
    "## How long were responses? Is it likely English language proficency matters?"
   ]
  },
  {
   "cell_type": "code",
   "execution_count": 58,
   "id": "3ef74d48-b94d-4edf-b2dc-bb316c18fbe4",
   "metadata": {},
   "outputs": [
    {
     "name": "stdout",
     "output_type": "stream",
     "text": [
      "The mean (8.35) and median (6.0) response length were quite short.\n"
     ]
    }
   ],
   "source": [
    "df['n_words'] = df['response_text'].apply(lambda x:len(x.split()))\n",
    "\n",
    "mean_words = np.round(np.mean(df['n_words']),2)\n",
    "med_words = np.round(np.median(df['n_words']),2)\n",
    "\n",
    "\n",
    "print(f\"The mean ({mean_words}) and median ({med_words}) response length were quite short.\")"
   ]
  },
  {
   "cell_type": "code",
   "execution_count": null,
   "id": "fa3cc774-faae-4e20-973b-cb2db84b0382",
   "metadata": {},
   "outputs": [],
   "source": []
  }
 ],
 "metadata": {
  "kernelspec": {
   "display_name": "PyCharm (misinformation_sim)",
   "language": "python",
   "name": "pycharm-9607488f"
  },
  "language_info": {
   "codemirror_mode": {
    "name": "ipython",
    "version": 3
   },
   "file_extension": ".py",
   "mimetype": "text/x-python",
   "name": "python",
   "nbconvert_exporter": "python",
   "pygments_lexer": "ipython3",
   "version": "3.8.8"
  },
  "papermill": {
   "default_parameters": {},
   "duration": 22.275339,
   "end_time": "2023-07-29T18:11:43.057799",
   "environment_variables": {},
   "exception": null,
   "input_path": "get_data.ipynb",
   "output_path": "get_data.ipynb",
   "parameters": {},
   "start_time": "2023-07-29T18:11:20.782460",
   "version": "2.4.0"
  },
  "toc": {
   "base_numbering": 1,
   "nav_menu": {},
   "number_sections": true,
   "sideBar": true,
   "skip_h1_title": false,
   "title_cell": "Table of Contents",
   "title_sidebar": "Contents",
   "toc_cell": true,
   "toc_position": {},
   "toc_section_display": true,
   "toc_window_display": true
  },
  "toc-showtags": false,
  "varInspector": {
   "cols": {
    "lenName": 16,
    "lenType": 16,
    "lenVar": 40
   },
   "kernels_config": {
    "python": {
     "delete_cmd_postfix": "",
     "delete_cmd_prefix": "del ",
     "library": "var_list.py",
     "varRefreshCmd": "print(var_dic_list())"
    },
    "r": {
     "delete_cmd_postfix": ") ",
     "delete_cmd_prefix": "rm(",
     "library": "var_list.r",
     "varRefreshCmd": "cat(var_dic_list()) "
    }
   },
   "types_to_exclude": [
    "module",
    "function",
    "builtin_function_or_method",
    "instance",
    "_Feature"
   ],
   "window_display": false
  }
 },
 "nbformat": 4,
 "nbformat_minor": 5
}
