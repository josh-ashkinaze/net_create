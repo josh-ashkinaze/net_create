{
 "cells": [
  {
   "cell_type": "markdown",
   "id": "2b2f0e00",
   "metadata": {
    "papermill": {
     "duration": 0.012522,
     "end_time": "2023-07-29T02:36:26.435113",
     "exception": false,
     "start_time": "2023-07-29T02:36:26.422591",
     "status": "completed"
    },
    "tags": [],
    "toc": true
   },
   "source": [
    "<h1>Table of Contents<span class=\"tocSkip\"></span></h1>\n",
    "<div class=\"toc\"><ul class=\"toc-item\"><li><span><a href=\"#Get-Data\" data-toc-modified-id=\"Get-Data-1\"><span class=\"toc-item-num\">1&nbsp;&nbsp;</span>Get Data</a></span><ul class=\"toc-item\"><li><span><a href=\"#Data-Checks\" data-toc-modified-id=\"Data-Checks-1.1\"><span class=\"toc-item-num\">1.1&nbsp;&nbsp;</span>Data Checks</a></span></li></ul></li><li><span><a href=\"#Clean-Data\" data-toc-modified-id=\"Clean-Data-2\"><span class=\"toc-item-num\">2&nbsp;&nbsp;</span>Clean Data</a></span><ul class=\"toc-item\"><li><span><a href=\"#Clean-source-column\" data-toc-modified-id=\"Clean-source-column-2.1\"><span class=\"toc-item-num\">2.1&nbsp;&nbsp;</span>Clean source column</a></span></li><li><span><a href=\"#Clean-Age-Columns\" data-toc-modified-id=\"Clean-Age-Columns-2.2\"><span class=\"toc-item-num\">2.2&nbsp;&nbsp;</span>Clean Age Columns</a></span></li></ul></li><li><span><a href=\"#Clean-columns\" data-toc-modified-id=\"Clean-columns-3\"><span class=\"toc-item-num\">3&nbsp;&nbsp;</span>Clean columns</a></span><ul class=\"toc-item\"><li><span><a href=\"#Drop-unused-columns\" data-toc-modified-id=\"Drop-unused-columns-3.1\"><span class=\"toc-item-num\">3.1&nbsp;&nbsp;</span>Drop unused columns</a></span></li><li><span><a href=\"#Fix-column-types-and-names\" data-toc-modified-id=\"Fix-column-types-and-names-3.2\"><span class=\"toc-item-num\">3.2&nbsp;&nbsp;</span>Fix column types and names</a></span></li></ul></li><li><span><a href=\"#Add-trial_no\" data-toc-modified-id=\"Add-trial_no-4\"><span class=\"toc-item-num\">4&nbsp;&nbsp;</span>Add trial_no</a></span><ul class=\"toc-item\"><li><span><a href=\"#Save-data\" data-toc-modified-id=\"Save-data-4.1\"><span class=\"toc-item-num\">4.1&nbsp;&nbsp;</span>Save data</a></span></li></ul></li><li><span><a href=\"#Descriptive-Stats\" data-toc-modified-id=\"Descriptive-Stats-5\"><span class=\"toc-item-num\">5&nbsp;&nbsp;</span>Descriptive Stats</a></span><ul class=\"toc-item\"><li><ul class=\"toc-item\"><li><span><a href=\"#Meta-Info\" data-toc-modified-id=\"Meta-Info-5.0.1\"><span class=\"toc-item-num\">5.0.1&nbsp;&nbsp;</span>Meta Info</a></span></li><li><span><a href=\"#Sources\" data-toc-modified-id=\"Sources-5.0.2\"><span class=\"toc-item-num\">5.0.2&nbsp;&nbsp;</span>Sources</a></span></li></ul></li><li><span><a href=\"#Desc-Stat-Tables\" data-toc-modified-id=\"Desc-Stat-Tables-5.1\"><span class=\"toc-item-num\">5.1&nbsp;&nbsp;</span>Desc Stat Tables</a></span></li><li><span><a href=\"#Desc-Stat-Plots\" data-toc-modified-id=\"Desc-Stat-Plots-5.2\"><span class=\"toc-item-num\">5.2&nbsp;&nbsp;</span>Desc Stat Plots</a></span></li></ul></li><li><span><a href=\"#Race-conditions/trials\" data-toc-modified-id=\"Race-conditions/trials-6\"><span class=\"toc-item-num\">6&nbsp;&nbsp;</span>Race conditions/trials</a></span></li></ul></div>"
   ]
  },
  {
   "cell_type": "markdown",
   "id": "1f6e9f8c-bf14-48df-b957-33b269c62658",
   "metadata": {
    "papermill": {
     "duration": 0.00703,
     "end_time": "2023-07-29T02:36:26.450294",
     "exception": false,
     "start_time": "2023-07-29T02:36:26.443264",
     "status": "completed"
    },
    "tags": []
   },
   "source": [
    "# Get Data"
   ]
  },
  {
   "cell_type": "code",
   "execution_count": 1,
   "id": "7c145bf0-25b1-4b74-9c7a-afd45e516c72",
   "metadata": {
    "ExecuteTime": {
     "end_time": "2023-07-24T18:43:57.580672Z",
     "start_time": "2023-07-24T18:43:52.530421Z"
    },
    "execution": {
     "iopub.execute_input": "2023-07-29T02:36:26.464331Z",
     "iopub.status.busy": "2023-07-29T02:36:26.464060Z",
     "iopub.status.idle": "2023-07-29T02:36:30.276688Z",
     "shell.execute_reply": "2023-07-29T02:36:30.275958Z"
    },
    "papermill": {
     "duration": 3.82179,
     "end_time": "2023-07-29T02:36:30.278572",
     "exception": false,
     "start_time": "2023-07-29T02:36:26.456782",
     "status": "completed"
    },
    "tags": []
   },
   "outputs": [],
   "source": [
    "from google.cloud import bigquery\n",
    "from google.oauth2 import service_account\n",
    "import pandas as pd\n",
    "import numpy as np \n",
    "\n",
    "\n",
    "def query_database(query):\n",
    "    query_job = client.query(query)\n",
    "    df = query_job.to_dataframe()\n",
    "    return df \n",
    "\n",
    "key_path = f\"../../secrets/google_creds.json\"\n",
    "credentials = service_account.Credentials.from_service_account_file(key_path,\n",
    "                                                                    scopes=[\n",
    "                                                                        \"https://www.googleapis.com/auth/cloud-platform\"], )\n",
    "client = bigquery.Client(credentials=credentials, project=credentials.project_id)\n",
    "first_query = \"\"\"SELECT * FROM\n",
    "`net_expr.trials` AS t\n",
    "INNER JOIN `net_expr.person` as p\n",
    "ON t.participant_id = p.participant_id\n",
    "WHERE \n",
    "p.is_test is FALSE AND \n",
    "p.participant_id != 'seed' AND\n",
    "world <= 6 AND \n",
    "t.response_date <= '2023-07-27T16:13:15'\n",
    "\"\"\"\n",
    "df = query_database(first_query)\n",
    "df['exclude_from_analysis'] = 0"
   ]
  },
  {
   "cell_type": "markdown",
   "id": "27db7df7-74e1-4fb7-9eb9-267229100134",
   "metadata": {
    "papermill": {
     "duration": 0.004451,
     "end_time": "2023-07-29T02:36:30.287391",
     "exception": false,
     "start_time": "2023-07-29T02:36:30.282940",
     "status": "completed"
    },
    "tags": []
   },
   "source": [
    "# Filter data"
   ]
  },
  {
   "cell_type": "markdown",
   "id": "bcab62ee-e69a-4a50-82ba-2ab66ee6b7cd",
   "metadata": {
    "papermill": {
     "duration": 0.003841,
     "end_time": "2023-07-29T02:36:30.295050",
     "exception": false,
     "start_time": "2023-07-29T02:36:30.291209",
     "status": "completed"
    },
    "tags": []
   },
   "source": [
    "## Filter out er_ids"
   ]
  },
  {
   "cell_type": "code",
   "execution_count": 2,
   "id": "32239c21-25db-41d8-ada5-eb143b1f059b",
   "metadata": {
    "execution": {
     "iopub.execute_input": "2023-07-29T02:36:30.303926Z",
     "iopub.status.busy": "2023-07-29T02:36:30.303745Z",
     "iopub.status.idle": "2023-07-29T02:36:30.309490Z",
     "shell.execute_reply": "2023-07-29T02:36:30.309014Z"
    },
    "papermill": {
     "duration": 0.012062,
     "end_time": "2023-07-29T02:36:30.311053",
     "exception": false,
     "start_time": "2023-07-29T02:36:30.298991",
     "status": "completed"
    },
    "tags": []
   },
   "outputs": [
    {
     "name": "stdout",
     "output_type": "stream",
     "text": [
      "REMOVING 2 RESPONSES SHOWN IN ERROR\n"
     ]
    }
   ],
   "source": [
    "er_ids = ['dbe96241-4d64-4ae6-bb6d-15e5e45b0760', 'e6fdd18f-de53-4159-965a-656aa75ba88d']\n",
    "df.loc[df['response_id'].isin(er_ids), 'exclude_from_analysis'] = 1\n",
    "print(f\"REMOVING {len(er_ids)} RESPONSES SHOWN IN ERROR\".format(er_ids))"
   ]
  },
  {
   "cell_type": "markdown",
   "id": "60889dbd-a46e-403f-badc-fdf8692bdae1",
   "metadata": {
    "papermill": {
     "duration": 0.004012,
     "end_time": "2023-07-29T02:36:30.319199",
     "exception": false,
     "start_time": "2023-07-29T02:36:30.315187",
     "status": "completed"
    },
    "tags": []
   },
   "source": [
    "## Filter out false positive profanity"
   ]
  },
  {
   "cell_type": "code",
   "execution_count": 3,
   "id": "57b22a9e-a1ea-4aca-85fd-7678ab66799d",
   "metadata": {
    "execution": {
     "iopub.execute_input": "2023-07-29T02:36:30.327910Z",
     "iopub.status.busy": "2023-07-29T02:36:30.327734Z",
     "iopub.status.idle": "2023-07-29T02:36:30.341438Z",
     "shell.execute_reply": "2023-07-29T02:36:30.340494Z"
    },
    "papermill": {
     "duration": 0.020113,
     "end_time": "2023-07-29T02:36:30.343382",
     "exception": false,
     "start_time": "2023-07-29T02:36:30.323269",
     "status": "completed"
    },
    "tags": []
   },
   "outputs": [
    {
     "name": "stdout",
     "output_type": "stream",
     "text": [
      "There were 46 ideas labled as profane. 10 were false positives. We will not analyze the true positives (n=36), resulting in 3414 responses.\n"
     ]
    }
   ],
   "source": [
    "df2 = df.copy()\n",
    "profane_df2 = df2[df2['is_profane'] == True]\n",
    "for index, x in profane_df2.iterrows():\n",
    "    pass\n",
    "    #print(x['response_id'], x['response_text'])\n",
    "fp = ['2e834786-dbbb-422e-975c-bb35d4418fa4', \n",
    "      '23b9ec2f-4a71-46cc-bd49-ec7de18ed184', \n",
    "      'c376d9e1-3d51-486a-a914-4e5c8a2a6453',\n",
    "      '9ea1c436-1d8a-4b8f-b7b4-74729c3997d6',\n",
    "      '7489e80a-65b9-4d14-b260-67908c35b4b4',\n",
    "      'cf5c2549-6c72-4532-8355-9de800655df6',\n",
    "      'a44e3014-b960-409a-85d5-b91e195bc6da',\n",
    "      '4582d0a8-d5e1-4eed-bc40-5552eaf1a790',\n",
    "      'c961cc7c-6d6e-44fd-86fc-93bc9f213854',\n",
    "      'd6756b75-e0ed-4f56-bead-ab9df2ab5c12']\n",
    "tp = [x for x in profane_df2['response_id'] if x not in fp]\n",
    "assert len(tp) + len(fp) == len(profane_df2), \"TP + FP don't add up\"\n",
    "print(f\"There were {len(profane_df2)} ideas labled as profane. {len(fp)} were false positives. We will not analyze the true positives (n={len(tp)}), resulting in {len(df) -( df['exclude_from_analysis'].sum() + len(tp))} responses.\")\n",
    "\n",
    "# Now change profane field for the false positives in a new column called is_profane2\n",
    "df['is_profane_clean'] = df['is_profane']  \n",
    "df.loc[df['response_id'].isin(fp), 'is_profane_clean'] = False\n",
    "df.loc[df['response_id'].isin(tp), 'exclude_from_analysis'] = 1\n",
    "assert np.sum(df['is_profane_clean']) == len(tp), \"Mismatch: {Profane2} not equal to {profane} - {fp}\""
   ]
  },
  {
   "cell_type": "markdown",
   "id": "e3451de1-08e0-443e-9cc9-51b7b4d31d30",
   "metadata": {
    "papermill": {
     "duration": 0.003892,
     "end_time": "2023-07-29T02:36:30.351399",
     "exception": false,
     "start_time": "2023-07-29T02:36:30.347507",
     "status": "completed"
    },
    "tags": []
   },
   "source": [
    "## But before proceeding, let's make sure no correlation between conditions and profanity."
   ]
  },
  {
   "cell_type": "code",
   "execution_count": 4,
   "id": "ab7a988c-e8a7-42f0-b2c6-181238130ef8",
   "metadata": {
    "execution": {
     "iopub.execute_input": "2023-07-29T02:36:30.366335Z",
     "iopub.status.busy": "2023-07-29T02:36:30.366169Z",
     "iopub.status.idle": "2023-07-29T02:36:30.851550Z",
     "shell.execute_reply": "2023-07-29T02:36:30.851180Z"
    },
    "papermill": {
     "duration": 0.49539,
     "end_time": "2023-07-29T02:36:30.852888",
     "exception": false,
     "start_time": "2023-07-29T02:36:30.357498",
     "status": "completed"
    },
    "tags": []
   },
   "outputs": [
    {
     "name": "stdout",
     "output_type": "stream",
     "text": [
      "is_profane by item\n",
      "isprofane (n=46; 1.33\\% of sample) did not differ by item ($\\chi^2$(4) = 3.66, p = 0.45)\n",
      "\n",
      "is_profane by condition\n",
      "isprofane (n=46; 1.33\\% of sample) did not differ by condition ($\\chi^2$(4) = 6.06, p = 0.19)\n",
      "\n",
      "is_profane by item_condition\n",
      "isprofane (n=46; 1.33\\% of sample) did not differ by itemcondition ($\\chi^2$(24) = 26.85, p = 0.31)\n",
      "\n",
      "is_profane_clean by item\n",
      "isprofaneclean (n=36; 1.04\\% of sample) did not differ by item ($\\chi^2$(4) = 4.51, p = 0.34)\n",
      "\n",
      "is_profane_clean by condition\n",
      "isprofaneclean (n=36; 1.04\\% of sample) did not differ by condition ($\\chi^2$(4) = 2.92, p = 0.57)\n",
      "\n",
      "is_profane_clean by item_condition\n",
      "isprofaneclean (n=36; 1.04\\% of sample) did not differ by itemcondition ($\\chi^2$(24) = 30.21, p = 0.18)\n",
      "\n",
      "exclude_from_analysis by item\n",
      "excludefromanalysis (n=38; 1.1\\% of sample) did not differ by item ($\\chi^2$(4) = 5.10, p = 0.28)\n",
      "\n",
      "exclude_from_analysis by condition\n",
      "excludefromanalysis (n=38; 1.1\\% of sample) did not differ by condition ($\\chi^2$(4) = 3.87, p = 0.42)\n",
      "\n",
      "exclude_from_analysis by item_condition\n",
      "excludefromanalysis (n=38; 1.1\\% of sample) did not differ by itemcondition ($\\chi^2$(24) = 33.95, p = 0.09)\n",
      "\n"
     ]
    }
   ],
   "source": [
    "from scipy.stats import chi2_contingency\n",
    "\n",
    "def chi_square_test(dv, iv, df):\n",
    "    response_sum = np.sum(1*df[dv])\n",
    "    response_mean = np.round(np.mean(1*df[dv])*100,2)\n",
    "    cross_tab = pd.crosstab(df[dv], df[iv])\n",
    "    chi2_test = chi2_contingency(cross_tab)\n",
    "    chi2_stat = chi2_test[0]\n",
    "    p_value = chi2_test[1]\n",
    "    dof = chi2_test[2]\n",
    "    # Format the string for LaTeX with the chi-square symbol\n",
    "    latex_string = \"{} (n={}; {}\\% of sample) did not differ by {} ($\\chi^2$({}) = {:.2f}, p = {:.2f})\".format(dv.replace(\"_\", \"\"), response_sum, response_mean, iv.replace(\"_\", \"\"),dof, chi2_stat, p_value)\n",
    "    print(latex_string)\n",
    "    return latex_string\n",
    "# Testing the function\n",
    "\n",
    "df['item_condition'] = df['item'] + df['condition']\n",
    "\n",
    "for dv in ['is_profane', 'is_profane_clean', 'exclude_from_analysis']:\n",
    "    for iv in ['item', 'condition', 'item_condition']:\n",
    "        print(f\"{dv} by {iv}\")\n",
    "        chi_square_test(dv, iv, df)\n",
    "        print()"
   ]
  },
  {
   "cell_type": "markdown",
   "id": "fb9aa77f-7757-4bd6-b346-f9aa2bb3e092",
   "metadata": {
    "papermill": {
     "duration": 0.003636,
     "end_time": "2023-07-29T02:36:30.860502",
     "exception": false,
     "start_time": "2023-07-29T02:36:30.856866",
     "status": "completed"
    },
    "tags": []
   },
   "source": [
    "# Ideas "
   ]
  },
  {
   "cell_type": "markdown",
   "id": "13992da8-3d21-4bf5-9d34-ccae3ddf4603",
   "metadata": {
    "papermill": {
     "duration": 0.003534,
     "end_time": "2023-07-29T02:36:30.867733",
     "exception": false,
     "start_time": "2023-07-29T02:36:30.864199",
     "status": "completed"
    },
    "tags": []
   },
   "source": [
    "## Add new column that removes excluded ideas"
   ]
  },
  {
   "cell_type": "code",
   "execution_count": 5,
   "id": "3c1593e7-0d34-43f1-a127-f38297dd85b2",
   "metadata": {
    "execution": {
     "iopub.execute_input": "2023-07-29T02:36:30.876019Z",
     "iopub.status.busy": "2023-07-29T02:36:30.875866Z",
     "iopub.status.idle": "2023-07-29T02:36:30.908302Z",
     "shell.execute_reply": "2023-07-29T02:36:30.907868Z"
    },
    "papermill": {
     "duration": 0.03814,
     "end_time": "2023-07-29T02:36:30.909567",
     "exception": false,
     "start_time": "2023-07-29T02:36:30.871427",
     "status": "completed"
    },
    "tags": []
   },
   "outputs": [],
   "source": [
    "import re\n",
    "excluded = set(df.query(\"exclude_from_analysis==1\")['response_id'].tolist())\n",
    "\n",
    "def remove_excluded(rids):\n",
    "    rids = [x for x in rids if x not in excluded]\n",
    "    return rids\n",
    "\n",
    "df['init_array'] = df['init_array'].apply(lambda ids: [re.sub(r'_world\\d+$', '', id) for id in ids])\n",
    "df['init_array_minus_excluded'] = df['init_array'].apply(lambda x: remove_excluded(x))\n",
    "df['ranked_array_minus_excluded'] = df['ranked_array'].apply(lambda x: remove_excluded(x))"
   ]
  },
  {
   "cell_type": "markdown",
   "id": "e4ed2c24-31eb-482c-b011-142716175c4a",
   "metadata": {
    "papermill": {
     "duration": 0.003603,
     "end_time": "2023-07-29T02:36:30.916972",
     "exception": false,
     "start_time": "2023-07-29T02:36:30.913369",
     "status": "completed"
    },
    "tags": []
   },
   "source": [
    "## Add 6 new columns that have the text of each example id\n",
    "\n",
    "For each row we add columns like:\n",
    "- idea1_txt: Text of 1st idea in init_array\n",
    "- (...)\n",
    "- idea6_text: Text of 6th idea in init_array\n",
    "\n",
    "I create another set of columns if somebody wants the data in a convienent format where the excluded ideas are ALSO excluded from the example set\n",
    "- idea_minus_excluded1_txt: Text of 1st idea in init_array if not `exclude_from_analysis==1` else np.NaN\n",
    "- (...)\n",
    "- idea_minus_excluded6_txt: Text of 6th idea in init_array if not `exclude_from_analysis==1` else np.NaN"
   ]
  },
  {
   "cell_type": "code",
   "execution_count": 6,
   "id": "da092092-d9a8-4380-a3a6-6925dba336b3",
   "metadata": {
    "execution": {
     "iopub.execute_input": "2023-07-29T02:36:30.925163Z",
     "iopub.status.busy": "2023-07-29T02:36:30.925013Z",
     "iopub.status.idle": "2023-07-29T02:36:41.902596Z",
     "shell.execute_reply": "2023-07-29T02:36:41.902227Z"
    },
    "papermill": {
     "duration": 10.982983,
     "end_time": "2023-07-29T02:36:41.903691",
     "exception": false,
     "start_time": "2023-07-29T02:36:30.920708",
     "status": "completed"
    },
    "tags": []
   },
   "outputs": [
    {
     "name": "stdout",
     "output_type": "stream",
     "text": [
      "3414\n"
     ]
    }
   ],
   "source": [
    "excluded_txt = df.query(\"exclude_from_analysis==1\")['response_text'].tolist()\n",
    "ai_seeds_df = pd.read_csv(\"../../data/ai_responses.csv\")\n",
    "human_seeds_df = pd.read_csv(\"../../data/seed_human_responses.csv\")\n",
    "\n",
    "def get_response_text(response_id):\n",
    "    if response_id.startswith('ai_seed'):\n",
    "        return ai_seeds_df.loc[ai_seeds_df['response_id'] == response_id, 'response'].values[0]\n",
    "    elif response_id.startswith('human_seed'):\n",
    "        return human_seeds_df.loc[human_seeds_df['response_id'] == response_id, 'response'].values[0]\n",
    "    else:\n",
    "        return df.loc[df['response_id'] == response_id, 'response_text'].values[0]\n",
    "\n",
    "for i in range(1, 7):\n",
    "    df['idea{}_txt'.format(i)] = ''\n",
    "    df['idea_minus_excluded{}_txt'.format(i)] = ''\n",
    "\n",
    "# Populate the new columns with the response texts\n",
    "for index, row in df.iterrows():\n",
    "    for i in range(min(6, len(row['init_array']))):\n",
    "        matched_text = get_response_text(row['init_array'][i])\n",
    "        df.loc[index, 'idea{}_txt'.format(i+1)] = matched_text\n",
    "        df.loc[index, 'idea_minus_excluded{}_txt'.format(i+1)] = matched_text if matched_text not in excluded_txt else np.NaN\n",
    "        \n",
    "print(len(df.query(\"exclude_from_analysis==0\")))\n",
    "    "
   ]
  },
  {
   "cell_type": "markdown",
   "id": "cb895d91-eac0-44f3-b617-d78c4cf01ea4",
   "metadata": {
    "papermill": {
     "duration": 0.003881,
     "end_time": "2023-07-29T02:36:41.911715",
     "exception": false,
     "start_time": "2023-07-29T02:36:41.907834",
     "status": "completed"
    },
    "tags": []
   },
   "source": [
    "## Data Checks"
   ]
  },
  {
   "cell_type": "code",
   "execution_count": 7,
   "id": "e2dd4d7e-53c4-4d3b-971b-402cd52bfe7b",
   "metadata": {
    "ExecuteTime": {
     "end_time": "2023-07-24T18:43:57.595970Z",
     "start_time": "2023-07-24T18:43:57.591580Z"
    },
    "execution": {
     "iopub.execute_input": "2023-07-29T02:36:41.919936Z",
     "iopub.status.busy": "2023-07-29T02:36:41.919789Z",
     "iopub.status.idle": "2023-07-29T02:36:41.924368Z",
     "shell.execute_reply": "2023-07-29T02:36:41.924038Z"
    },
    "papermill": {
     "duration": 0.010057,
     "end_time": "2023-07-29T02:36:41.925375",
     "exception": false,
     "start_time": "2023-07-29T02:36:41.915318",
     "status": "completed"
    },
    "tags": []
   },
   "outputs": [
    {
     "name": "stdout",
     "output_type": "stream",
     "text": [
      "TEST: Does every response id occur only once?\n",
      "YES: Every response id only occurs once\n",
      "\n",
      "TEST: Is it the case that all response texts have some words\n",
      "YES: All responses have some words\n"
     ]
    }
   ],
   "source": [
    "def verify_rid_unique():\n",
    "    print(\"TEST: Does every response id occur only once?\")\n",
    "    unique_rds = len(df['response_id'].unique())\n",
    "    all_rids = len(df['response_id'].tolist())\n",
    "    if all_rids == unique_rds:\n",
    "        print(\"YES: Every response id only occurs once\")\n",
    "    else:\n",
    "        print(\"NO: Some response ids occur twice\")\n",
    "    \n",
    "    \n",
    "def verify_no_response_blank():\n",
    "    print(\"TEST: Is it the case that all response texts have some words\")\n",
    "    blanks = len([x for x in df['response_id'].tolist() if x is None])\n",
    "    if blanks == 0:\n",
    "        print(\"YES: All responses have some words\")\n",
    "    else:\n",
    "        print(\"NO: Some responses don't have words\")\n",
    "    \n",
    "        \n",
    "verify_rid_unique()\n",
    "print()\n",
    "verify_no_response_blank()"
   ]
  },
  {
   "cell_type": "markdown",
   "id": "1a641a3c-b10b-4b67-b2f3-a59e9e5efd47",
   "metadata": {
    "papermill": {
     "duration": 0.003504,
     "end_time": "2023-07-29T02:36:41.932717",
     "exception": false,
     "start_time": "2023-07-29T02:36:41.929213",
     "status": "completed"
    },
    "tags": []
   },
   "source": [
    "# Clean Data"
   ]
  },
  {
   "cell_type": "markdown",
   "id": "1c54bf98-6046-42cc-880a-0400f9490542",
   "metadata": {
    "papermill": {
     "duration": 0.0034,
     "end_time": "2023-07-29T02:36:41.939636",
     "exception": false,
     "start_time": "2023-07-29T02:36:41.936236",
     "status": "completed"
    },
    "tags": []
   },
   "source": [
    "## Clean source column\n",
    "\n",
    "We tracked where traffic came from by appending different things to the request arguments for the experiment site. E.g: If posting the experiment on Facebook we would make the URL `experiment.com?from=facebook` so then `request_args` would be equal to `from=facebook`. But in some cases, no `request args` are available. This happens if somehow the request_args are stripped. There should be very few cases of this. "
   ]
  },
  {
   "cell_type": "code",
   "execution_count": 8,
   "id": "c8ebf96d-c8ff-4153-8dd9-d3f102f3cdc0",
   "metadata": {
    "ExecuteTime": {
     "end_time": "2023-07-24T18:43:57.714915Z",
     "start_time": "2023-07-24T18:43:57.596765Z"
    },
    "execution": {
     "iopub.execute_input": "2023-07-29T02:36:41.947556Z",
     "iopub.status.busy": "2023-07-29T02:36:41.947407Z",
     "iopub.status.idle": "2023-07-29T02:36:41.962700Z",
     "shell.execute_reply": "2023-07-29T02:36:41.962372Z"
    },
    "papermill": {
     "duration": 0.020435,
     "end_time": "2023-07-29T02:36:41.963602",
     "exception": false,
     "start_time": "2023-07-29T02:36:41.943167",
     "status": "completed"
    },
    "tags": []
   },
   "outputs": [
    {
     "name": "stdout",
     "output_type": "stream",
     "text": [
      "TEST: Does every source marked as OTHER have no request args?\n",
      "YES: For every source marked as `other`, we marked it as `other` because it does not have request args\n"
     ]
    },
    {
     "data": {
      "text/plain": [
       "Creative Mornings newsletter    1472\n",
       "r/InternetIsBeautiful           1131\n",
       "r/samplesize                     394\n",
       "share                            260\n",
       "r/chatgpt                         79\n",
       "r/writing                         30\n",
       "r/artificial                      24\n",
       "other                             23\n",
       "r/singularity                     17\n",
       "r/poetry                          15\n",
       "facebook                           7\n",
       "Name: source, dtype: int64"
      ]
     },
     "execution_count": 8,
     "metadata": {},
     "output_type": "execute_result"
    }
   ],
   "source": [
    "def verify_other_source():\n",
    "    print(\"TEST: Does every source marked as OTHER have no request args?\")\n",
    "    other_request_args = df.query(\"source=='other'\")['request_args'].tolist()\n",
    "    len_other = len(other_request_args)\n",
    "    len_other_no_args = len([x for x in other_request_args if x == 'None'])\n",
    "    if len_other == len_other_no_args:\n",
    "        print(\"YES: For every source marked as `other`, we marked it as `other` because it does not have request args\")\n",
    "    else:\n",
    "        print(\"NO: We missed categorizing some sources\")\n",
    "    \n",
    "    \n",
    "\n",
    "def categorize_request_args(request_args):\n",
    "    request_args = request_args.lower()\n",
    "    if 'facebook' in request_args:\n",
    "        return 'facebook'\n",
    "    elif 'chatgpt' in request_args:\n",
    "        return 'r/chatgpt'\n",
    "    elif 'sample' in request_args:\n",
    "        return 'r/samplesize'\n",
    "    elif 'writing' in request_args:\n",
    "        return 'r/writing'\n",
    "    elif 'internet' in request_args:\n",
    "        return 'r/InternetIsBeautiful'\n",
    "    elif 'creative' in request_args:\n",
    "        return 'Creative Mornings newsletter'\n",
    "    elif 'poetry' in request_args:\n",
    "        return 'r/poetry'\n",
    "    elif 'results' in request_args or 'share' in request_args:\n",
    "        return 'share'\n",
    "    elif \"ai\" in request_args:\n",
    "        return \"r/artificial\"\n",
    "    elif \"singular\" in request_args:\n",
    "        return \"r/singularity\"\n",
    "    else:\n",
    "        return 'other'\n",
    "\n",
    "df['source'] = df['request_args'].apply(categorize_request_args)\n",
    "verify_other_source()\n",
    "\n",
    "df['source'].value_counts()"
   ]
  },
  {
   "cell_type": "markdown",
   "id": "566eaefb-e82f-473b-92d7-de76941e9e80",
   "metadata": {
    "papermill": {
     "duration": 0.003566,
     "end_time": "2023-07-29T02:36:41.970985",
     "exception": false,
     "start_time": "2023-07-29T02:36:41.967419",
     "status": "completed"
    },
    "tags": []
   },
   "source": [
    "## Clean Age Columns\n",
    "Participants entered their age, which was an int that had to be over 18. But let's make sure nobody entered anything weird -- and by weird we will look at responses over 70 years old. From inspecting the data, it appears that responses above 74 are troll responses -- relabel as NA and report in paper. "
   ]
  },
  {
   "cell_type": "code",
   "execution_count": 9,
   "id": "2debfeeb-fcff-4b91-8492-501391814f72",
   "metadata": {
    "ExecuteTime": {
     "end_time": "2023-07-24T18:44:05.150841Z",
     "start_time": "2023-07-24T18:44:05.137248Z"
    },
    "execution": {
     "iopub.execute_input": "2023-07-29T02:36:41.978994Z",
     "iopub.status.busy": "2023-07-29T02:36:41.978864Z",
     "iopub.status.idle": "2023-07-29T02:36:41.986699Z",
     "shell.execute_reply": "2023-07-29T02:36:41.986374Z"
    },
    "papermill": {
     "duration": 0.013007,
     "end_time": "2023-07-29T02:36:41.987635",
     "exception": false,
     "start_time": "2023-07-29T02:36:41.974628",
     "status": "completed"
    },
    "tags": []
   },
   "outputs": [
    {
     "data": {
      "text/plain": [
       "count    680.000000\n",
       "mean      36.867647\n",
       "std       28.688775\n",
       "min       18.000000\n",
       "25%       27.000000\n",
       "50%       34.000000\n",
       "75%       40.000000\n",
       "max      444.000000\n",
       "Name: age, dtype: float64"
      ]
     },
     "execution_count": 9,
     "metadata": {},
     "output_type": "execute_result"
    }
   ],
   "source": [
    "dfp = df.drop_duplicates(subset=['participant_id'])\n",
    "dfp['age'].describe()"
   ]
  },
  {
   "cell_type": "code",
   "execution_count": 10,
   "id": "02fd50dd-75b9-4065-ae33-d628531c81d2",
   "metadata": {
    "ExecuteTime": {
     "end_time": "2023-07-24T18:44:11.312915Z",
     "start_time": "2023-07-24T18:44:11.305997Z"
    },
    "execution": {
     "iopub.execute_input": "2023-07-29T02:36:41.996211Z",
     "iopub.status.busy": "2023-07-29T02:36:41.996086Z",
     "iopub.status.idle": "2023-07-29T02:36:42.013180Z",
     "shell.execute_reply": "2023-07-29T02:36:42.012877Z"
    },
    "papermill": {
     "duration": 0.022417,
     "end_time": "2023-07-29T02:36:42.014108",
     "exception": false,
     "start_time": "2023-07-29T02:36:41.991691",
     "status": "completed"
    },
    "tags": []
   },
   "outputs": [
    {
     "data": {
      "text/html": [
       "<div>\n",
       "<style scoped>\n",
       "    .dataframe tbody tr th:only-of-type {\n",
       "        vertical-align: middle;\n",
       "    }\n",
       "\n",
       "    .dataframe tbody tr th {\n",
       "        vertical-align: top;\n",
       "    }\n",
       "\n",
       "    .dataframe thead th {\n",
       "        text-align: right;\n",
       "    }\n",
       "</style>\n",
       "<table border=\"1\" class=\"dataframe\">\n",
       "  <thead>\n",
       "    <tr style=\"text-align: right;\">\n",
       "      <th></th>\n",
       "      <th>response_id</th>\n",
       "      <th>participant_id</th>\n",
       "      <th>response_text</th>\n",
       "      <th>response_date</th>\n",
       "      <th>condition</th>\n",
       "      <th>condition_order</th>\n",
       "      <th>item</th>\n",
       "      <th>world</th>\n",
       "      <th>init_array</th>\n",
       "      <th>ranked_array</th>\n",
       "      <th>...</th>\n",
       "      <th>idea_minus_excluded2_txt</th>\n",
       "      <th>idea3_txt</th>\n",
       "      <th>idea_minus_excluded3_txt</th>\n",
       "      <th>idea4_txt</th>\n",
       "      <th>idea_minus_excluded4_txt</th>\n",
       "      <th>idea5_txt</th>\n",
       "      <th>idea_minus_excluded5_txt</th>\n",
       "      <th>idea6_txt</th>\n",
       "      <th>idea_minus_excluded6_txt</th>\n",
       "      <th>source</th>\n",
       "    </tr>\n",
       "  </thead>\n",
       "  <tbody>\n",
       "    <tr>\n",
       "      <th>788</th>\n",
       "      <td>2e5141b6-814c-4e5f-89f6-9fe6155915e3</td>\n",
       "      <td>7f067979-5f4b-4729-a61f-827d82f929ff</td>\n",
       "      <td>Building a straw ball house</td>\n",
       "      <td>2023-07-14 03:00:50</td>\n",
       "      <td>f_u</td>\n",
       "      <td>0</td>\n",
       "      <td>tire</td>\n",
       "      <td>3</td>\n",
       "      <td>[723fd22b-6121-4935-82a1-54dfcecec5d9, e7726b1...</td>\n",
       "      <td>[a01068a1-ea4a-4c84-b9df-082ed1fe1b54, fd61a41...</td>\n",
       "      <td>...</td>\n",
       "      <td>Stack/arrange several into an obstacle/agility...</td>\n",
       "      <td>planter for small gardens</td>\n",
       "      <td>planter for small gardens</td>\n",
       "      <td>recycle into a dress</td>\n",
       "      <td>recycle into a dress</td>\n",
       "      <td>tire swing for backyard fun</td>\n",
       "      <td>tire swing for backyard fun</td>\n",
       "      <td>Hill racer</td>\n",
       "      <td>Hill racer</td>\n",
       "      <td>Creative Mornings newsletter</td>\n",
       "    </tr>\n",
       "    <tr>\n",
       "      <th>1944</th>\n",
       "      <td>5c366ee2-b272-454b-8f5f-b4b6e54e67b1</td>\n",
       "      <td>b2269ab4-bc4b-4049-b234-e240644e2cf7</td>\n",
       "      <td>to make into a bicycle tire made out of shoes</td>\n",
       "      <td>2023-07-08 17:26:18</td>\n",
       "      <td>h</td>\n",
       "      <td>0</td>\n",
       "      <td>shoe</td>\n",
       "      <td>3</td>\n",
       "      <td>[human_seed39, human_seed37, human_seed38, hum...</td>\n",
       "      <td>[human_seed38_world3, human_seed40_world3, hum...</td>\n",
       "      <td>...</td>\n",
       "      <td>to throw it somewhere</td>\n",
       "      <td>soup bowl</td>\n",
       "      <td>soup bowl</td>\n",
       "      <td>fashion</td>\n",
       "      <td>fashion</td>\n",
       "      <td>scare someone</td>\n",
       "      <td>scare someone</td>\n",
       "      <td>measuring scoop</td>\n",
       "      <td>measuring scoop</td>\n",
       "      <td>share</td>\n",
       "    </tr>\n",
       "    <tr>\n",
       "      <th>1950</th>\n",
       "      <td>dbe96241-4d64-4ae6-bb6d-15e5e45b0760</td>\n",
       "      <td>d54560e4-1d65-4e08-8332-8d4eb0d9ea23</td>\n",
       "      <td>Test</td>\n",
       "      <td>2023-07-08 16:53:58</td>\n",
       "      <td>h</td>\n",
       "      <td>0</td>\n",
       "      <td>shoe</td>\n",
       "      <td>2</td>\n",
       "      <td>[5915d456-2993-48be-b7bd-d26cad06d213, human_s...</td>\n",
       "      <td>[human_seed41_world2, human_seed40_world2, 591...</td>\n",
       "      <td>...</td>\n",
       "      <td>measuring scoop</td>\n",
       "      <td>fashion</td>\n",
       "      <td>fashion</td>\n",
       "      <td>leave tracks to follow</td>\n",
       "      <td>leave tracks to follow</td>\n",
       "      <td>Kitten transporter</td>\n",
       "      <td>Kitten transporter</td>\n",
       "      <td>Use as ganja smoking device</td>\n",
       "      <td>Use as ganja smoking device</td>\n",
       "      <td>share</td>\n",
       "    </tr>\n",
       "    <tr>\n",
       "      <th>2098</th>\n",
       "      <td>d2d498ec-58a0-4286-bb03-e4aa50f0486a</td>\n",
       "      <td>4c7db1ec-9ae0-4b58-b4d3-8186d5599d90</td>\n",
       "      <td>Portable cell-phone</td>\n",
       "      <td>2023-07-08 15:21:19</td>\n",
       "      <td>f_l</td>\n",
       "      <td>0</td>\n",
       "      <td>shoe</td>\n",
       "      <td>1</td>\n",
       "      <td>[43d81087-73e7-41ba-949d-0041d1cd8811, f8ecf73...</td>\n",
       "      <td>[43d81087-73e7-41ba-949d-0041d1cd8811, f8ecf73...</td>\n",
       "      <td>...</td>\n",
       "      <td>A mallet</td>\n",
       "      <td>diy door stopper alternative</td>\n",
       "      <td>diy door stopper alternative</td>\n",
       "      <td>golf club cover</td>\n",
       "      <td>golf club cover</td>\n",
       "      <td>Nunchuck</td>\n",
       "      <td>Nunchuck</td>\n",
       "      <td>phone holder on the go</td>\n",
       "      <td>phone holder on the go</td>\n",
       "      <td>r/InternetIsBeautiful</td>\n",
       "    </tr>\n",
       "    <tr>\n",
       "      <th>2256</th>\n",
       "      <td>4735ccd1-f9b8-4d39-a115-5ea58265e0a2</td>\n",
       "      <td>8459a1e8-f7a7-46b1-82a2-0d99056ac3f4</td>\n",
       "      <td>store krabby patty secret formula</td>\n",
       "      <td>2023-07-08 15:49:57</td>\n",
       "      <td>f_l</td>\n",
       "      <td>0</td>\n",
       "      <td>bottle</td>\n",
       "      <td>1</td>\n",
       "      <td>[d2a4126d-b581-4cb9-ba80-60dfc39d227b, 36b21de...</td>\n",
       "      <td>[d6829192-dce2-4a9d-9d46-e836acd74201, 36b21de...</td>\n",
       "      <td>...</td>\n",
       "      <td>draino bomb with aluminum foil, draino, and se...</td>\n",
       "      <td>Cut off top, insert funnel into body with bait...</td>\n",
       "      <td>Cut off top, insert funnel into body with bait...</td>\n",
       "      <td>make decorative string lights</td>\n",
       "      <td>make decorative string lights</td>\n",
       "      <td>bottle vase for flowers</td>\n",
       "      <td>bottle vase for flowers</td>\n",
       "      <td>Use to purify water</td>\n",
       "      <td>Use to purify water</td>\n",
       "      <td>r/InternetIsBeautiful</td>\n",
       "    </tr>\n",
       "    <tr>\n",
       "      <th>3024</th>\n",
       "      <td>cde0fcff-bf2b-45b7-bcd5-a32386664c8f</td>\n",
       "      <td>ae94364d-2fb8-47d0-b909-1c9e0d97aeff</td>\n",
       "      <td>Cut legs off to use as shorts</td>\n",
       "      <td>2023-07-08 15:05:43</td>\n",
       "      <td>m_l</td>\n",
       "      <td>0</td>\n",
       "      <td>pants</td>\n",
       "      <td>0</td>\n",
       "      <td>[ai_seed562, f28fb317-4ea6-418f-9040-dd180452c...</td>\n",
       "      <td>[ai_seed304, f28fb317-4ea6-418f-9040-dd180452c...</td>\n",
       "      <td>...</td>\n",
       "      <td>Cut it in half and use it as a long and thin b...</td>\n",
       "      <td>pant pockets pillow - stuff pant pockets with ...</td>\n",
       "      <td>pant pockets pillow - stuff pant pockets with ...</td>\n",
       "      <td>leg warmers for pets</td>\n",
       "      <td>leg warmers for pets</td>\n",
       "      <td>material for patchwork quilt</td>\n",
       "      <td>material for patchwork quilt</td>\n",
       "      <td>stitch end together and use it as a bag</td>\n",
       "      <td>stitch end together and use it as a bag</td>\n",
       "      <td>r/InternetIsBeautiful</td>\n",
       "    </tr>\n",
       "  </tbody>\n",
       "</table>\n",
       "<p>6 rows × 47 columns</p>\n",
       "</div>"
      ],
      "text/plain": [
       "                               response_id  \\\n",
       "788   2e5141b6-814c-4e5f-89f6-9fe6155915e3   \n",
       "1944  5c366ee2-b272-454b-8f5f-b4b6e54e67b1   \n",
       "1950  dbe96241-4d64-4ae6-bb6d-15e5e45b0760   \n",
       "2098  d2d498ec-58a0-4286-bb03-e4aa50f0486a   \n",
       "2256  4735ccd1-f9b8-4d39-a115-5ea58265e0a2   \n",
       "3024  cde0fcff-bf2b-45b7-bcd5-a32386664c8f   \n",
       "\n",
       "                            participant_id  \\\n",
       "788   7f067979-5f4b-4729-a61f-827d82f929ff   \n",
       "1944  b2269ab4-bc4b-4049-b234-e240644e2cf7   \n",
       "1950  d54560e4-1d65-4e08-8332-8d4eb0d9ea23   \n",
       "2098  4c7db1ec-9ae0-4b58-b4d3-8186d5599d90   \n",
       "2256  8459a1e8-f7a7-46b1-82a2-0d99056ac3f4   \n",
       "3024  ae94364d-2fb8-47d0-b909-1c9e0d97aeff   \n",
       "\n",
       "                                      response_text       response_date  \\\n",
       "788                     Building a straw ball house 2023-07-14 03:00:50   \n",
       "1944  to make into a bicycle tire made out of shoes 2023-07-08 17:26:18   \n",
       "1950                                           Test 2023-07-08 16:53:58   \n",
       "2098                            Portable cell-phone 2023-07-08 15:21:19   \n",
       "2256              store krabby patty secret formula 2023-07-08 15:49:57   \n",
       "3024                  Cut legs off to use as shorts 2023-07-08 15:05:43   \n",
       "\n",
       "     condition  condition_order    item  world  \\\n",
       "788        f_u                0    tire      3   \n",
       "1944         h                0    shoe      3   \n",
       "1950         h                0    shoe      2   \n",
       "2098       f_l                0    shoe      1   \n",
       "2256       f_l                0  bottle      1   \n",
       "3024       m_l                0   pants      0   \n",
       "\n",
       "                                             init_array  \\\n",
       "788   [723fd22b-6121-4935-82a1-54dfcecec5d9, e7726b1...   \n",
       "1944  [human_seed39, human_seed37, human_seed38, hum...   \n",
       "1950  [5915d456-2993-48be-b7bd-d26cad06d213, human_s...   \n",
       "2098  [43d81087-73e7-41ba-949d-0041d1cd8811, f8ecf73...   \n",
       "2256  [d2a4126d-b581-4cb9-ba80-60dfc39d227b, 36b21de...   \n",
       "3024  [ai_seed562, f28fb317-4ea6-418f-9040-dd180452c...   \n",
       "\n",
       "                                           ranked_array  ...  \\\n",
       "788   [a01068a1-ea4a-4c84-b9df-082ed1fe1b54, fd61a41...  ...   \n",
       "1944  [human_seed38_world3, human_seed40_world3, hum...  ...   \n",
       "1950  [human_seed41_world2, human_seed40_world2, 591...  ...   \n",
       "2098  [43d81087-73e7-41ba-949d-0041d1cd8811, f8ecf73...  ...   \n",
       "2256  [d6829192-dce2-4a9d-9d46-e836acd74201, 36b21de...  ...   \n",
       "3024  [ai_seed304, f28fb317-4ea6-418f-9040-dd180452c...  ...   \n",
       "\n",
       "                               idea_minus_excluded2_txt  \\\n",
       "788   Stack/arrange several into an obstacle/agility...   \n",
       "1944                              to throw it somewhere   \n",
       "1950                                    measuring scoop   \n",
       "2098                                           A mallet   \n",
       "2256  draino bomb with aluminum foil, draino, and se...   \n",
       "3024  Cut it in half and use it as a long and thin b...   \n",
       "\n",
       "                                              idea3_txt  \\\n",
       "788                           planter for small gardens   \n",
       "1944                                          soup bowl   \n",
       "1950                                            fashion   \n",
       "2098                       diy door stopper alternative   \n",
       "2256  Cut off top, insert funnel into body with bait...   \n",
       "3024  pant pockets pillow - stuff pant pockets with ...   \n",
       "\n",
       "                               idea_minus_excluded3_txt  \\\n",
       "788                           planter for small gardens   \n",
       "1944                                          soup bowl   \n",
       "1950                                            fashion   \n",
       "2098                       diy door stopper alternative   \n",
       "2256  Cut off top, insert funnel into body with bait...   \n",
       "3024  pant pockets pillow - stuff pant pockets with ...   \n",
       "\n",
       "                          idea4_txt       idea_minus_excluded4_txt  \\\n",
       "788            recycle into a dress           recycle into a dress   \n",
       "1944                        fashion                        fashion   \n",
       "1950         leave tracks to follow         leave tracks to follow   \n",
       "2098                golf club cover                golf club cover   \n",
       "2256  make decorative string lights  make decorative string lights   \n",
       "3024           leg warmers for pets           leg warmers for pets   \n",
       "\n",
       "                         idea5_txt      idea_minus_excluded5_txt  \\\n",
       "788    tire swing for backyard fun   tire swing for backyard fun   \n",
       "1944                 scare someone                 scare someone   \n",
       "1950            Kitten transporter            Kitten transporter   \n",
       "2098                      Nunchuck                      Nunchuck   \n",
       "2256       bottle vase for flowers       bottle vase for flowers   \n",
       "3024  material for patchwork quilt  material for patchwork quilt   \n",
       "\n",
       "                                    idea6_txt  \\\n",
       "788                                Hill racer   \n",
       "1944                          measuring scoop   \n",
       "1950              Use as ganja smoking device   \n",
       "2098                   phone holder on the go   \n",
       "2256                      Use to purify water   \n",
       "3024  stitch end together and use it as a bag   \n",
       "\n",
       "                     idea_minus_excluded6_txt                        source  \n",
       "788                                Hill racer  Creative Mornings newsletter  \n",
       "1944                          measuring scoop                         share  \n",
       "1950              Use as ganja smoking device                         share  \n",
       "2098                   phone holder on the go         r/InternetIsBeautiful  \n",
       "2256                      Use to purify water         r/InternetIsBeautiful  \n",
       "3024  stitch end together and use it as a bag         r/InternetIsBeautiful  \n",
       "\n",
       "[6 rows x 47 columns]"
      ]
     },
     "execution_count": 10,
     "metadata": {},
     "output_type": "execute_result"
    }
   ],
   "source": [
    "over_seven = dfp[dfp['age']>=70]\n",
    "over_seven"
   ]
  },
  {
   "cell_type": "code",
   "execution_count": 11,
   "id": "6ab40856-c4f2-4c68-bb24-1308d209c020",
   "metadata": {
    "ExecuteTime": {
     "end_time": "2023-07-24T18:44:25.691361Z",
     "start_time": "2023-07-24T18:44:25.677516Z"
    },
    "execution": {
     "iopub.execute_input": "2023-07-29T02:36:42.023116Z",
     "iopub.status.busy": "2023-07-29T02:36:42.022987Z",
     "iopub.status.idle": "2023-07-29T02:36:42.030317Z",
     "shell.execute_reply": "2023-07-29T02:36:42.029991Z"
    },
    "papermill": {
     "duration": 0.012931,
     "end_time": "2023-07-29T02:36:42.031284",
     "exception": false,
     "start_time": "2023-07-29T02:36:42.018353",
     "status": "completed"
    },
    "tags": []
   },
   "outputs": [
    {
     "name": "stdout",
     "output_type": "stream",
     "text": [
      "\\begin{table}\n",
      "\\centering\n",
      "\\caption{Users whose age we replaced with missing}\n",
      "\\begin{tabular}{llr}\n",
      "\\toprule\n",
      "{} &                        participant\\_id &  age \\\\\n",
      "\\midrule\n",
      "1944 &  b2269ab4-bc4b-4049-b234-e240644e2cf7 &  420 \\\\\n",
      "1950 &  d54560e4-1d65-4e08-8332-8d4eb0d9ea23 &   90 \\\\\n",
      "2098 &  4c7db1ec-9ae0-4b58-b4d3-8186d5599d90 &  432 \\\\\n",
      "2256 &  8459a1e8-f7a7-46b1-82a2-0d99056ac3f4 &  444 \\\\\n",
      "3024 &  ae94364d-2fb8-47d0-b909-1c9e0d97aeff &  111 \\\\\n",
      "\\bottomrule\n",
      "\\end{tabular}\n",
      "\\end{table}\n",
      "\n"
     ]
    }
   ],
   "source": [
    "print(dfp[dfp['age']>74][['participant_id', 'age']].to_latex(caption=\"Users whose age we replaced with missing\"))"
   ]
  },
  {
   "cell_type": "code",
   "execution_count": 12,
   "id": "791eeca7-b990-43a6-b1e2-5015d7012000",
   "metadata": {
    "ExecuteTime": {
     "end_time": "2023-07-24T18:44:42.931695Z",
     "start_time": "2023-07-24T18:44:42.913960Z"
    },
    "execution": {
     "iopub.execute_input": "2023-07-29T02:36:42.040415Z",
     "iopub.status.busy": "2023-07-29T02:36:42.040277Z",
     "iopub.status.idle": "2023-07-29T02:36:42.048930Z",
     "shell.execute_reply": "2023-07-29T02:36:42.048642Z"
    },
    "papermill": {
     "duration": 0.014493,
     "end_time": "2023-07-29T02:36:42.049913",
     "exception": false,
     "start_time": "2023-07-29T02:36:42.035420",
     "status": "completed"
    },
    "tags": []
   },
   "outputs": [
    {
     "data": {
      "text/plain": [
       "count    2767.000000\n",
       "mean       35.094326\n",
       "std        10.767012\n",
       "min        18.000000\n",
       "25%        27.000000\n",
       "50%        34.000000\n",
       "75%        40.000000\n",
       "max        74.000000\n",
       "Name: age, dtype: float64"
      ]
     },
     "execution_count": 12,
     "metadata": {},
     "output_type": "execute_result"
    }
   ],
   "source": [
    "def fix_age(x):\n",
    "    if pd.isnull(x):  # Check for NaN values\n",
    "        return x\n",
    "    elif x <= 74:\n",
    "        return int(x)\n",
    "    else:\n",
    "        return np.NaN\n",
    "\n",
    "df['age'] = df['age'].apply(lambda x: fix_age(x))\n",
    "df['age'] = df['age'].astype('Int64')\n",
    "df['age'].describe()"
   ]
  },
  {
   "cell_type": "markdown",
   "id": "9252230c-89a3-4ff5-b64d-e60c1e7ba282",
   "metadata": {
    "papermill": {
     "duration": 0.00401,
     "end_time": "2023-07-29T02:36:42.058178",
     "exception": false,
     "start_time": "2023-07-29T02:36:42.054168",
     "status": "completed"
    },
    "tags": []
   },
   "source": [
    "# Clean columns"
   ]
  },
  {
   "cell_type": "markdown",
   "id": "c5ad9bdb-7a3d-4af2-bdb1-21825f3e8454",
   "metadata": {
    "papermill": {
     "duration": 0.003922,
     "end_time": "2023-07-29T02:36:42.066036",
     "exception": false,
     "start_time": "2023-07-29T02:36:42.062114",
     "status": "completed"
    },
    "tags": []
   },
   "source": [
    "## Drop unused columns\n",
    "\n",
    "Note `is_troll` was not used; the relevant column is `is_profane`. "
   ]
  },
  {
   "cell_type": "code",
   "execution_count": 13,
   "id": "d56c4988-cc51-4148-818d-b635939d9930",
   "metadata": {
    "ExecuteTime": {
     "end_time": "2023-07-24T18:44:46.061493Z",
     "start_time": "2023-07-24T18:44:46.058321Z"
    },
    "execution": {
     "iopub.execute_input": "2023-07-29T02:36:42.074865Z",
     "iopub.status.busy": "2023-07-29T02:36:42.074720Z",
     "iopub.status.idle": "2023-07-29T02:36:42.077784Z",
     "shell.execute_reply": "2023-07-29T02:36:42.077422Z"
    },
    "papermill": {
     "duration": 0.008853,
     "end_time": "2023-07-29T02:36:42.078806",
     "exception": false,
     "start_time": "2023-07-29T02:36:42.069953",
     "status": "completed"
    },
    "tags": []
   },
   "outputs": [
    {
     "data": {
      "text/plain": [
       "Index(['response_id', 'participant_id', 'response_text', 'response_date',\n",
       "       'condition', 'condition_order', 'item', 'world', 'init_array',\n",
       "       'ranked_array', 'is_test', 'duration', 'is_troll', 'is_profane',\n",
       "       'is_prolific', 'participant_id_1', 'creativity_human', 'creativity_ai',\n",
       "       'dt', 'ai_feeling', 'country', 'age', 'is_test_1', 'referer',\n",
       "       'request_args', 'is_prolific_1', 'prolific_id', 'gender',\n",
       "       'gender_describe', 'exclude_from_analysis', 'is_profane_clean',\n",
       "       'item_condition', 'init_array_minus_excluded',\n",
       "       'ranked_array_minus_excluded', 'idea1_txt', 'idea_minus_excluded1_txt',\n",
       "       'idea2_txt', 'idea_minus_excluded2_txt', 'idea3_txt',\n",
       "       'idea_minus_excluded3_txt', 'idea4_txt', 'idea_minus_excluded4_txt',\n",
       "       'idea5_txt', 'idea_minus_excluded5_txt', 'idea6_txt',\n",
       "       'idea_minus_excluded6_txt', 'source'],\n",
       "      dtype='object')"
      ]
     },
     "execution_count": 13,
     "metadata": {},
     "output_type": "execute_result"
    }
   ],
   "source": [
    "df.columns"
   ]
  },
  {
   "cell_type": "code",
   "execution_count": 14,
   "id": "823c0b0a-7949-4584-8c58-463ace7ef5f2",
   "metadata": {
    "ExecuteTime": {
     "end_time": "2023-07-24T18:44:48.786591Z",
     "start_time": "2023-07-24T18:44:48.772302Z"
    },
    "execution": {
     "iopub.execute_input": "2023-07-29T02:36:42.088079Z",
     "iopub.status.busy": "2023-07-29T02:36:42.087897Z",
     "iopub.status.idle": "2023-07-29T02:36:42.099141Z",
     "shell.execute_reply": "2023-07-29T02:36:42.098826Z"
    },
    "papermill": {
     "duration": 0.017186,
     "end_time": "2023-07-29T02:36:42.100257",
     "exception": false,
     "start_time": "2023-07-29T02:36:42.083071",
     "status": "completed"
    },
    "tags": []
   },
   "outputs": [],
   "source": [
    "to_drop = [\"is_prolific\", \"is_prolific_1\", \"prolific_id\", \"is_test_1\", \"is_troll\", \"dt\", 'participant_id_1']\n",
    "for x in to_drop:\n",
    "    try:\n",
    "        df = df.drop(columns = [x], axis=0)\n",
    "    except KeyError:\n",
    "        pass"
   ]
  },
  {
   "cell_type": "markdown",
   "id": "90222eda-36df-4018-b351-cc486a07b8b7",
   "metadata": {
    "papermill": {
     "duration": 0.004057,
     "end_time": "2023-07-29T02:36:42.108645",
     "exception": false,
     "start_time": "2023-07-29T02:36:42.104588",
     "status": "completed"
    },
    "tags": []
   },
   "source": [
    "## Fix column types and names"
   ]
  },
  {
   "cell_type": "code",
   "execution_count": 15,
   "id": "aec03417-e256-4f3e-b5c5-7163c8867dbe",
   "metadata": {
    "ExecuteTime": {
     "end_time": "2023-07-24T18:44:54.783363Z",
     "start_time": "2023-07-24T18:44:54.760178Z"
    },
    "execution": {
     "iopub.execute_input": "2023-07-29T02:36:42.131465Z",
     "iopub.status.busy": "2023-07-29T02:36:42.131329Z",
     "iopub.status.idle": "2023-07-29T02:36:42.137185Z",
     "shell.execute_reply": "2023-07-29T02:36:42.136818Z"
    },
    "papermill": {
     "duration": 0.012129,
     "end_time": "2023-07-29T02:36:42.138282",
     "exception": false,
     "start_time": "2023-07-29T02:36:42.126153",
     "status": "completed"
    },
    "tags": []
   },
   "outputs": [],
   "source": [
    "df['creativity_human'] = df['creativity_human'].astype('Int64')\n",
    "df['creativity_ai'] = pd.to_numeric(df['creativity_ai'], errors='coerce').astype('Int64')\n",
    "df = df.rename(columns={'world': 'response_chain'})"
   ]
  },
  {
   "cell_type": "markdown",
   "id": "21b69302-4c4e-4cf0-81a0-c9984f804216",
   "metadata": {
    "papermill": {
     "duration": 0.004132,
     "end_time": "2023-07-29T02:36:42.146726",
     "exception": false,
     "start_time": "2023-07-29T02:36:42.142594",
     "status": "completed"
    },
    "tags": []
   },
   "source": [
    "# Add trial_no"
   ]
  },
  {
   "cell_type": "code",
   "execution_count": 16,
   "id": "32ef3be2-fc4d-41cc-ac7f-b42abb818248",
   "metadata": {
    "ExecuteTime": {
     "end_time": "2023-07-24T18:45:00.304750Z",
     "start_time": "2023-07-24T18:45:00.284451Z"
    },
    "execution": {
     "iopub.execute_input": "2023-07-29T02:36:42.155812Z",
     "iopub.status.busy": "2023-07-29T02:36:42.155680Z",
     "iopub.status.idle": "2023-07-29T02:36:42.167561Z",
     "shell.execute_reply": "2023-07-29T02:36:42.167244Z"
    },
    "papermill": {
     "duration": 0.017773,
     "end_time": "2023-07-29T02:36:42.168675",
     "exception": false,
     "start_time": "2023-07-29T02:36:42.150902",
     "status": "completed"
    },
    "tags": []
   },
   "outputs": [],
   "source": [
    "df['response_date'] = pd.to_datetime(df['response_date'])  # ensure response_date is datetime\n",
    "\n",
    "# Trial no\n",
    "df['trial_no'] = df.groupby(['response_chain', 'condition', 'item'])['response_date'].rank(method='first').astype(int)\n",
    "df['trial_no_excluded'] = df[df['exclude_from_analysis'] != 1].groupby(['response_chain', 'condition', 'item'])['response_date'].rank(method='first').astype(float)"
   ]
  },
  {
   "cell_type": "markdown",
   "id": "18cc761c-fcdb-4e72-bd01-a7a2e1b51482",
   "metadata": {
    "papermill": {
     "duration": 0.004118,
     "end_time": "2023-07-29T02:36:42.177073",
     "exception": false,
     "start_time": "2023-07-29T02:36:42.172955",
     "status": "completed"
    },
    "tags": []
   },
   "source": [
    "## Save data"
   ]
  },
  {
   "cell_type": "code",
   "execution_count": 17,
   "id": "0f88c4ce-efc6-48f6-a10a-a6e39a5820de",
   "metadata": {
    "ExecuteTime": {
     "end_time": "2023-07-24T18:45:03.013181Z",
     "start_time": "2023-07-24T18:45:02.822211Z"
    },
    "execution": {
     "iopub.execute_input": "2023-07-29T02:36:42.186020Z",
     "iopub.status.busy": "2023-07-29T02:36:42.185892Z",
     "iopub.status.idle": "2023-07-29T02:36:42.350948Z",
     "shell.execute_reply": "2023-07-29T02:36:42.350504Z"
    },
    "papermill": {
     "duration": 0.170999,
     "end_time": "2023-07-29T02:36:42.352160",
     "exception": false,
     "start_time": "2023-07-29T02:36:42.181161",
     "status": "completed"
    },
    "tags": []
   },
   "outputs": [],
   "source": [
    "df.to_csv(\"../../data/experiment_data/data_clean.csv\")"
   ]
  },
  {
   "cell_type": "markdown",
   "id": "ca6c24c0-50f5-4bb0-ba0c-4819c1b5202e",
   "metadata": {
    "papermill": {
     "duration": 0.004185,
     "end_time": "2023-07-29T02:36:42.360841",
     "exception": false,
     "start_time": "2023-07-29T02:36:42.356656",
     "status": "completed"
    },
    "tags": []
   },
   "source": [
    "# Descriptive Stats"
   ]
  },
  {
   "cell_type": "code",
   "execution_count": 18,
   "id": "fa2af55c-8dec-432e-a65e-702c553edef2",
   "metadata": {
    "ExecuteTime": {
     "end_time": "2023-07-24T18:45:05.499773Z",
     "start_time": "2023-07-24T18:45:05.497237Z"
    },
    "execution": {
     "iopub.execute_input": "2023-07-29T02:36:42.369913Z",
     "iopub.status.busy": "2023-07-29T02:36:42.369773Z",
     "iopub.status.idle": "2023-07-29T02:36:42.627091Z",
     "shell.execute_reply": "2023-07-29T02:36:42.626701Z"
    },
    "papermill": {
     "duration": 0.263374,
     "end_time": "2023-07-29T02:36:42.628380",
     "exception": false,
     "start_time": "2023-07-29T02:36:42.365006",
     "status": "completed"
    },
    "tags": []
   },
   "outputs": [],
   "source": [
    "import seaborn as sns\n",
    "import matplotlib.pyplot as plt\n",
    "def make_aesthetic(hex_color_list=None):\n",
    "    \"\"\"Make Seaborn look clean\"\"\"\n",
    "    sns.set(style='white', context='poster', font_scale=0.8)\n",
    "    if not hex_color_list:\n",
    "        hex_color_list = [\n",
    "        \"#826AED\", # Medium slate blue\n",
    "        \"#00A896\", # Persian green\n",
    "        \"#D41876\", # Telemagenta\n",
    "        \"#89DAFF\", # Pale azure\n",
    "        \"#F7B2AD\", # Melon\n",
    "        \"#342E37\", # Dark grayish-purple\n",
    "        \"#7DCD85\", # Emerald\n",
    "        \"#E87461\", # Medium-bright orange\n",
    "        \"#E3B505\", # Saffron\n",
    "        \"#2C3531\", # Dark charcoal gray with a green undertone\n",
    "        \"#D4B2D8\", # Pink lavender\n",
    "        \"#7E6551\", # Coyote\n",
    "        \"#F45B69\", # Vibrant pinkish-red\n",
    "        \"#020887\", # Phthalo Blue\n",
    "        \"#F18805\"  # Tangerine\n",
    "        ]\n",
    "    sns.set_palette(sns.color_palette(hex_color_list))\n",
    "    plt.rcParams['font.family'] = 'Arial'\n",
    "    plt.rcParams['axes.spines.right'] = False\n",
    "    plt.rcParams['axes.spines.top'] = False\n",
    "    plt.rcParams['axes.titlelocation'] = 'left'\n",
    "    plt.rcParams['axes.titleweight'] = 'bold'\n",
    "    plt.rcParams['axes.grid'] = True\n",
    "    plt.rcParams['grid.linestyle'] = '--'\n",
    "    plt.rcParams['grid.alpha'] = 0.5\n",
    "    plt.rcParams['axes.facecolor'] = 'white'\n",
    "    plt.rcParams['legend.frameon'] = True\n",
    "    plt.rcParams['legend.framealpha'] = 0.8\n",
    "    plt.rcParams['legend.facecolor'] = 'white'\n",
    "    plt.rcParams['savefig.transparent'] = True\n",
    "    plt.rcParams['savefig.bbox'] = 'tight'\n",
    "    plt.rcParams['savefig.pad_inches'] = 0.1\n",
    "    plt.rcParams['figure.autolayout'] = True\n",
    "make_aesthetic()"
   ]
  },
  {
   "cell_type": "markdown",
   "id": "19b03449-0794-44ab-8b91-57642fc02a31",
   "metadata": {
    "papermill": {
     "duration": 0.004355,
     "end_time": "2023-07-29T02:36:42.637325",
     "exception": false,
     "start_time": "2023-07-29T02:36:42.632970",
     "status": "completed"
    },
    "tags": []
   },
   "source": [
    "### Meta Info"
   ]
  },
  {
   "cell_type": "code",
   "execution_count": 19,
   "id": "ef12d38b-3f4e-43b3-a156-823d02b8cac3",
   "metadata": {
    "ExecuteTime": {
     "end_time": "2023-07-24T18:45:10.300979Z",
     "start_time": "2023-07-24T18:45:10.285217Z"
    },
    "execution": {
     "iopub.execute_input": "2023-07-29T02:36:42.647103Z",
     "iopub.status.busy": "2023-07-29T02:36:42.646963Z",
     "iopub.status.idle": "2023-07-29T02:36:42.727668Z",
     "shell.execute_reply": "2023-07-29T02:36:42.727323Z"
    },
    "papermill": {
     "duration": 0.087114,
     "end_time": "2023-07-29T02:36:42.728871",
     "exception": false,
     "start_time": "2023-07-29T02:36:42.641757",
     "status": "completed"
    },
    "tags": []
   },
   "outputs": [
    {
     "name": "stdout",
     "output_type": "stream",
     "text": [
      "\\begin{table}\n",
      "\\centering\n",
      "\\caption{Summary Statistics of Experiment}\n",
      "\\label{overall_stats}\n",
      "\\begin{tabular}{lr}\n",
      "\\toprule\n",
      "{} &    Value \\\\\n",
      "\\midrule\n",
      "Unique Countries          &    48.00 \\\\\n",
      "Total Responses           &  3414.00 \\\\\n",
      "Unique Participants       &   844.00 \\\\\n",
      "Avg Responses/Participant &     4.05 \\\\\n",
      "Avg Duration/Response     &   144.31 \\\\\n",
      "\\bottomrule\n",
      "\\end{tabular}\n",
      "\\end{table}\n",
      "\n"
     ]
    }
   ],
   "source": [
    "df = pd.read_csv(\"../../data/experiment_data/data_clean.csv\").query(\"exclude_from_analysis==0\")\n",
    "dfp = df.drop_duplicates(subset=['participant_id'])\n",
    "dfp = pd.concat([dfp, pd.get_dummies(dfp['ai_feeling'])], axis=1)\n",
    "\n",
    "df_new = pd.DataFrame(index=[\"Value\"])\n",
    "df_new['Unique Countries'] = [int(len(df['country'].unique()))]\n",
    "df_new['Total Responses'] = [int(len(df))]\n",
    "df_new['Unique Participants'] = [df['participant_id'].nunique()]\n",
    "df_new['Avg Responses/Participant'] = df_new['Total Responses'] / df_new['Unique Participants']\n",
    "df_new['Avg Duration/Response'] = [df['duration'].mean()]\n",
    "\n",
    "df_new['Avg Responses/Participant'] = df_new['Avg Responses/Participant'].round(2)\n",
    "df_new['Avg Duration/Response'] = df_new['Avg Duration/Response'].round(2)\n",
    "\n",
    "latex_table = df_new.T.to_latex(index=True, caption=\"Summary Statistics of Experiment\", label=\"overall_stats\")\n",
    "print(latex_table)\n"
   ]
  },
  {
   "cell_type": "markdown",
   "id": "cab3f133-bc92-4722-9a5a-047fae9b6c75",
   "metadata": {
    "papermill": {
     "duration": 0.004436,
     "end_time": "2023-07-29T02:36:42.738133",
     "exception": false,
     "start_time": "2023-07-29T02:36:42.733697",
     "status": "completed"
    },
    "tags": []
   },
   "source": [
    "### Sources"
   ]
  },
  {
   "cell_type": "code",
   "execution_count": 20,
   "id": "2b6f3d6a-63f1-47ec-92ed-b61a28bd59a6",
   "metadata": {
    "ExecuteTime": {
     "end_time": "2023-07-24T18:45:21.679378Z",
     "start_time": "2023-07-24T18:45:21.657828Z"
    },
    "execution": {
     "iopub.execute_input": "2023-07-29T02:36:42.747902Z",
     "iopub.status.busy": "2023-07-29T02:36:42.747749Z",
     "iopub.status.idle": "2023-07-29T02:36:42.760071Z",
     "shell.execute_reply": "2023-07-29T02:36:42.759732Z"
    },
    "papermill": {
     "duration": 0.018521,
     "end_time": "2023-07-29T02:36:42.761069",
     "exception": false,
     "start_time": "2023-07-29T02:36:42.742548",
     "status": "completed"
    },
    "tags": []
   },
   "outputs": [
    {
     "name": "stdout",
     "output_type": "stream",
     "text": [
      "\\begin{table}\n",
      "\\centering\n",
      "\\caption{Sources of participants and trials}\n",
      "\\label{sources}\n",
      "\\begin{tabular}{lll}\n",
      "\\toprule\n",
      "{} & Participants (N, \\% of total) & Trials (N, \\% of total) \\\\\n",
      "\\midrule\n",
      "Creative Mornings newsletter &                  343 (40.6\\%) &           1470 (43.1\\%) \\\\\n",
      "r/InternetIsBeautiful        &                  298 (35.3\\%) &           1115 (32.7\\%) \\\\\n",
      "r/samplesize                 &                   94 (11.1\\%) &            389 (11.4\\%) \\\\\n",
      "share                        &                    61 (7.2\\%) &             250 (7.3\\%) \\\\\n",
      "r/chatgpt                    &                    19 (2.3\\%) &              79 (2.3\\%) \\\\\n",
      "r/writing                    &                     7 (0.8\\%) &              30 (0.9\\%) \\\\\n",
      "other                        &                     6 (0.7\\%) &              22 (0.6\\%) \\\\\n",
      "r/singularity                &                     6 (0.7\\%) &              13 (0.4\\%) \\\\\n",
      "r/artificial                 &                     5 (0.6\\%) &              24 (0.7\\%) \\\\\n",
      "r/poetry                     &                     3 (0.4\\%) &              15 (0.4\\%) \\\\\n",
      "facebook                     &                     2 (0.2\\%) &               7 (0.2\\%) \\\\\n",
      "\\bottomrule\n",
      "\\end{tabular}\n",
      "\\end{table}\n",
      "\n"
     ]
    }
   ],
   "source": [
    "participants = df.groupby('source')['participant_id'].nunique()\n",
    "percentage_participants = (participants / df['participant_id'].nunique()) * 100\n",
    "trials = df['source'].value_counts()\n",
    "percentage_trials = (trials / df.shape[0]) * 100\n",
    "result = pd.DataFrame({\n",
    "    'Participants': participants,\n",
    "    'Percentage of Participants': percentage_participants,\n",
    "    'Trials': trials,\n",
    "    'Percentage of Trials': percentage_trials,\n",
    "})\n",
    "\n",
    "result = result.sort_values('Participants', ascending=False)\n",
    "result['Participants (N, % of total)'] = result['Participants'].astype(str) + ' (' + result['Percentage of Participants'].round(1).astype(str) + '%)'\n",
    "result['Trials (N, % of total)'] = result['Trials'].astype(str) + ' (' + result['Percentage of Trials'].round(1).astype(str) + '%)'\n",
    "result = result.drop(columns=['Participants', 'Percentage of Participants', 'Trials', 'Percentage of Trials'])\n",
    "latex_table = result.to_latex(caption=\"Sources of participants and trials\", label=\"sources\")\n",
    "\n",
    "print(latex_table)\n"
   ]
  },
  {
   "cell_type": "markdown",
   "id": "71f6f903",
   "metadata": {
    "papermill": {
     "duration": 0.004821,
     "end_time": "2023-07-29T02:36:42.770571",
     "exception": false,
     "start_time": "2023-07-29T02:36:42.765750",
     "status": "completed"
    },
    "tags": []
   },
   "source": [
    "## Desc Stat Tables"
   ]
  },
  {
   "cell_type": "code",
   "execution_count": 21,
   "id": "08f0344d-9b9b-4d39-882b-2fadcf856cfc",
   "metadata": {
    "execution": {
     "iopub.execute_input": "2023-07-29T02:36:42.780672Z",
     "iopub.status.busy": "2023-07-29T02:36:42.780522Z",
     "iopub.status.idle": "2023-07-29T02:36:42.807525Z",
     "shell.execute_reply": "2023-07-29T02:36:42.807198Z"
    },
    "papermill": {
     "duration": 0.033455,
     "end_time": "2023-07-29T02:36:42.808573",
     "exception": false,
     "start_time": "2023-07-29T02:36:42.775118",
     "status": "completed"
    },
    "tags": []
   },
   "outputs": [
    {
     "name": "stdout",
     "output_type": "stream",
     "text": [
      "The mean age was 34.92 (SD = 10.86).\n",
      "The mean creativity_ai was 57.86 (SD = 26.66).\n",
      "The mean creativity_human was 58.67 (SD = 23.65).\n",
      "\\begin{table}\n",
      "\\centering\n",
      "\\caption{Descriptive Stats}\n",
      "\\label{desc_stats}\n",
      "\\begin{tabular}{lrrrrr}\n",
      "\\toprule\n",
      "{} &   Mean &     SD &  25th Percentile &  Median &  75th Percentile \\\\\n",
      "\\midrule\n",
      "age              &  34.92 &  10.86 &             27.0 &    33.0 &             40.0 \\\\\n",
      "creativity\\_ai    &  57.86 &  26.66 &             40.0 &    60.0 &             76.0 \\\\\n",
      "creativity\\_human &  58.67 &  23.65 &             44.0 &    62.0 &             75.0 \\\\\n",
      "\\bottomrule\n",
      "\\end{tabular}\n",
      "\\end{table}\n",
      "\n",
      "Of the non-missing values, the sample was 50\\% woman, 43\\% man, 4\\% non-binary, 3\\% prefer_not_disclose, 1\\% prefer_self_describe. 26% of responses were missing.\n",
      "\\begin{table}\n",
      "\\centering\n",
      "\\caption{Distribution of Gender}\n",
      "\\label{dist_gender}\n",
      "\\begin{tabular}{ll}\n",
      "\\toprule\n",
      "{} & Counts (\\% of total) \\\\\n",
      "gender               &                     \\\\\n",
      "\\midrule\n",
      "woman                &           308 (36\\%) \\\\\n",
      "man                  &           268 (32\\%) \\\\\n",
      "Missing              &           222 (26\\%) \\\\\n",
      "non-binary           &             23 (3\\%) \\\\\n",
      "prefer\\_not\\_disclose  &             16 (2\\%) \\\\\n",
      "prefer\\_self\\_describe &              7 (1\\%) \\\\\n",
      "\\bottomrule\n",
      "\\end{tabular}\n",
      "\\end{table}\n",
      "\n",
      "Of the non-missing values, the sample was 48\\% neutral, 28\\% excited, 24\\% concerned. 1% of responses were missing.\n",
      "\\begin{table}\n",
      "\\centering\n",
      "\\caption{Distribution of Ai Feeling}\n",
      "\\label{dist_ai_feeling}\n",
      "\\begin{tabular}{ll}\n",
      "\\toprule\n",
      "{} & Counts (\\% of total) \\\\\n",
      "ai\\_feeling &                     \\\\\n",
      "\\midrule\n",
      "neutral    &           403 (48\\%) \\\\\n",
      "excited    &           232 (27\\%) \\\\\n",
      "concerned  &           198 (23\\%) \\\\\n",
      "Missing    &             11 (1\\%) \\\\\n",
      "\\bottomrule\n",
      "\\end{tabular}\n",
      "\\end{table}\n",
      "\n"
     ]
    }
   ],
   "source": [
    "import numpy as np\n",
    "import pandas as pd\n",
    "\n",
    "class DescriptiveStats:\n",
    "    \"\"\"\n",
    "    A class for automating clean latex tables and descriptions from dataframes. \n",
    "    \n",
    "    SAMPLE USAGE:\n",
    "    \n",
    "    dp = DescriptiveStats(df.drop_duplicates(subset=['participant_id']))\n",
    "    dp.print_latex_table_continuous(['age', 'creativity_ai', 'creativity_human'], decimal_places=2, caption=\"Descriptive Stats\")\n",
    "    dp.print_latex_table_categorical('gender', decimal_places=0)\n",
    "    dp.print_latex_table_categorical('ai_feeling', decimal_places=0)\n",
    "    \n",
    "    \"\"\"\n",
    "    def __init__(self, df):\n",
    "        self.df = df\n",
    "\n",
    "    def print_latex_table_categorical(self, column, caption=None, label=None, decimal_places=2):\n",
    "        value_counts = self.df[column].value_counts(dropna=False)\n",
    "        value_counts_percentages = self.df[column].value_counts(normalize=True, dropna=False) * 100\n",
    "        df_output = pd.DataFrame({column: value_counts.index, \n",
    "                                  'Counts (% of total)': [f\"{count} ({percentage:.{decimal_places}f}%)\" for count, percentage in zip(value_counts.values, value_counts_percentages.values)]})\n",
    "        df_output[column] = df_output[column].fillna(\"Missing\")\n",
    "        df_output.set_index(column, inplace=True)\n",
    "        latex_table = df_output.to_latex(index=True, caption=caption or f\"Distribution of {column.replace('_', ' ').title()}\", label=label or f\"dist_{column}\")\n",
    "        print(self.generate_categorical_string(column, decimal_places))\n",
    "        print(latex_table)\n",
    "        \n",
    "    def print_latex_table_continuous(self, columns, caption=None, label=None, decimal_places=2):\n",
    "        if not isinstance(columns, list):\n",
    "            columns = [columns]\n",
    "        stats_list = []\n",
    "        for column in columns:\n",
    "            mean_value = round(self.df[column].mean(), decimal_places)\n",
    "            median_value = round(self.df[column].median(), decimal_places)\n",
    "            std_dev = round(self.df[column].std(), decimal_places)\n",
    "            quartile_25 = round(np.percentile(self.df[column].dropna(), 25), decimal_places)\n",
    "            quartile_75 = round(np.percentile(self.df[column].dropna(), 75), decimal_places)\n",
    "            stats_series = pd.Series({'Mean': mean_value,\n",
    "                                      'SD': std_dev,\n",
    "                                      '25th Percentile': quartile_25,\n",
    "                                      'Median': median_value,\n",
    "                                      '75th Percentile': quartile_75},\n",
    "                                     name=column)\n",
    "            stats_list.append(stats_series)\n",
    "\n",
    "        df_output = pd.concat(stats_list, axis=1)\n",
    "        latex_table = df_output.T.to_latex(index=True, caption=caption or \"Distribution of Continuous Variables\", label=label)\n",
    "        for column in columns:\n",
    "            print(self.generate_continuous_string(column, decimal_places))\n",
    "        print(latex_table)\n",
    "        \n",
    "    def generate_categorical_string(self, column, decimal_places):\n",
    "        percentages = self.df[column].value_counts(normalize=True, dropna=True) * 100\n",
    "        percentage_nan = self.df[column].isna().mean() * 100\n",
    "        percentage_string = \", \".join([f\"{percentage:.{decimal_places}f}\\% {index}\" for index, percentage in percentages.items()])\n",
    "        percentage_string += f\". {percentage_nan:.{decimal_places}f}% of responses were missing.\"\n",
    "        return f\"Of the non-missing values, the sample was {percentage_string}\"\n",
    "\n",
    "    \n",
    "    def generate_continuous_string(self, column, decimal_places):\n",
    "        mean_value = round(self.df[column].mean(), decimal_places)\n",
    "        std_dev = round(self.df[column].std(), decimal_places)\n",
    "        stats_string = f\"The mean {column} was {mean_value:.{decimal_places}f} (SD = {std_dev:.{decimal_places}f}).\"\n",
    "        return stats_string\n",
    "\n",
    "        \n",
    "dp = DescriptiveStats(df.drop_duplicates(subset=['participant_id']))\n",
    "dp.print_latex_table_continuous(['age', 'creativity_ai', 'creativity_human'], decimal_places=2, caption=\"Descriptive Stats\", label=\"desc_stats\")\n",
    "dp.print_latex_table_categorical('gender', decimal_places=0)\n",
    "dp.print_latex_table_categorical('ai_feeling', decimal_places=0)"
   ]
  },
  {
   "cell_type": "markdown",
   "id": "a1120167",
   "metadata": {
    "papermill": {
     "duration": 0.004731,
     "end_time": "2023-07-29T02:36:42.818060",
     "exception": false,
     "start_time": "2023-07-29T02:36:42.813329",
     "status": "completed"
    },
    "tags": []
   },
   "source": [
    "## Desc Stat Plots"
   ]
  },
  {
   "cell_type": "code",
   "execution_count": 22,
   "id": "7cb696cc",
   "metadata": {
    "execution": {
     "iopub.execute_input": "2023-07-29T02:36:42.830123Z",
     "iopub.status.busy": "2023-07-29T02:36:42.829949Z",
     "iopub.status.idle": "2023-07-29T02:36:43.070203Z",
     "shell.execute_reply": "2023-07-29T02:36:43.069866Z"
    },
    "papermill": {
     "duration": 0.247547,
     "end_time": "2023-07-29T02:36:43.071250",
     "exception": false,
     "start_time": "2023-07-29T02:36:42.823703",
     "status": "completed"
    },
    "tags": []
   },
   "outputs": [
    {
     "data": {
      "text/html": [
       "<div>\n",
       "<style scoped>\n",
       "    .dataframe tbody tr th:only-of-type {\n",
       "        vertical-align: middle;\n",
       "    }\n",
       "\n",
       "    .dataframe tbody tr th {\n",
       "        vertical-align: top;\n",
       "    }\n",
       "\n",
       "    .dataframe thead th {\n",
       "        text-align: right;\n",
       "    }\n",
       "</style>\n",
       "<table border=\"1\" class=\"dataframe\">\n",
       "  <thead>\n",
       "    <tr style=\"text-align: right;\">\n",
       "      <th></th>\n",
       "      <th>Unnamed: 0</th>\n",
       "      <th>condition_order</th>\n",
       "      <th>response_chain</th>\n",
       "      <th>is_test</th>\n",
       "      <th>duration</th>\n",
       "      <th>is_profane</th>\n",
       "      <th>creativity_human</th>\n",
       "      <th>creativity_ai</th>\n",
       "      <th>age</th>\n",
       "      <th>exclude_from_analysis</th>\n",
       "      <th>is_profane_clean</th>\n",
       "      <th>trial_no</th>\n",
       "      <th>trial_no_excluded</th>\n",
       "      <th>concerned</th>\n",
       "      <th>excited</th>\n",
       "      <th>neutral</th>\n",
       "      <th>gap</th>\n",
       "    </tr>\n",
       "  </thead>\n",
       "  <tbody>\n",
       "    <tr>\n",
       "      <th>Unnamed: 0</th>\n",
       "      <td>1.000000</td>\n",
       "      <td>-0.064261</td>\n",
       "      <td>-0.796037</td>\n",
       "      <td>NaN</td>\n",
       "      <td>-0.014209</td>\n",
       "      <td>0.004006</td>\n",
       "      <td>-0.110393</td>\n",
       "      <td>-0.088968</td>\n",
       "      <td>-0.341792</td>\n",
       "      <td>NaN</td>\n",
       "      <td>NaN</td>\n",
       "      <td>-0.043514</td>\n",
       "      <td>-0.060122</td>\n",
       "      <td>-0.105210</td>\n",
       "      <td>0.097167</td>\n",
       "      <td>-0.029624</td>\n",
       "      <td>0.008174</td>\n",
       "    </tr>\n",
       "    <tr>\n",
       "      <th>condition_order</th>\n",
       "      <td>-0.064261</td>\n",
       "      <td>1.000000</td>\n",
       "      <td>-0.060477</td>\n",
       "      <td>NaN</td>\n",
       "      <td>-0.118628</td>\n",
       "      <td>0.019404</td>\n",
       "      <td>-0.049843</td>\n",
       "      <td>-0.027744</td>\n",
       "      <td>0.025594</td>\n",
       "      <td>NaN</td>\n",
       "      <td>NaN</td>\n",
       "      <td>-0.032337</td>\n",
       "      <td>-0.035967</td>\n",
       "      <td>0.022759</td>\n",
       "      <td>-0.041242</td>\n",
       "      <td>0.032686</td>\n",
       "      <td>0.020275</td>\n",
       "    </tr>\n",
       "    <tr>\n",
       "      <th>response_chain</th>\n",
       "      <td>-0.796037</td>\n",
       "      <td>-0.060477</td>\n",
       "      <td>1.000000</td>\n",
       "      <td>NaN</td>\n",
       "      <td>0.032096</td>\n",
       "      <td>-0.004434</td>\n",
       "      <td>0.101814</td>\n",
       "      <td>0.076161</td>\n",
       "      <td>0.300032</td>\n",
       "      <td>NaN</td>\n",
       "      <td>NaN</td>\n",
       "      <td>-0.033305</td>\n",
       "      <td>-0.015983</td>\n",
       "      <td>0.069576</td>\n",
       "      <td>-0.069438</td>\n",
       "      <td>0.041431</td>\n",
       "      <td>-0.013537</td>\n",
       "    </tr>\n",
       "    <tr>\n",
       "      <th>is_test</th>\n",
       "      <td>NaN</td>\n",
       "      <td>NaN</td>\n",
       "      <td>NaN</td>\n",
       "      <td>NaN</td>\n",
       "      <td>NaN</td>\n",
       "      <td>NaN</td>\n",
       "      <td>NaN</td>\n",
       "      <td>NaN</td>\n",
       "      <td>NaN</td>\n",
       "      <td>NaN</td>\n",
       "      <td>NaN</td>\n",
       "      <td>NaN</td>\n",
       "      <td>NaN</td>\n",
       "      <td>NaN</td>\n",
       "      <td>NaN</td>\n",
       "      <td>NaN</td>\n",
       "      <td>NaN</td>\n",
       "    </tr>\n",
       "    <tr>\n",
       "      <th>duration</th>\n",
       "      <td>-0.014209</td>\n",
       "      <td>-0.118628</td>\n",
       "      <td>0.032096</td>\n",
       "      <td>NaN</td>\n",
       "      <td>1.000000</td>\n",
       "      <td>-0.024533</td>\n",
       "      <td>0.014919</td>\n",
       "      <td>-0.027360</td>\n",
       "      <td>0.034152</td>\n",
       "      <td>NaN</td>\n",
       "      <td>NaN</td>\n",
       "      <td>0.097800</td>\n",
       "      <td>0.099798</td>\n",
       "      <td>-0.016462</td>\n",
       "      <td>0.021665</td>\n",
       "      <td>-0.006111</td>\n",
       "      <td>-0.042398</td>\n",
       "    </tr>\n",
       "    <tr>\n",
       "      <th>is_profane</th>\n",
       "      <td>0.004006</td>\n",
       "      <td>0.019404</td>\n",
       "      <td>-0.004434</td>\n",
       "      <td>NaN</td>\n",
       "      <td>-0.024533</td>\n",
       "      <td>1.000000</td>\n",
       "      <td>0.031361</td>\n",
       "      <td>0.060058</td>\n",
       "      <td>-0.024752</td>\n",
       "      <td>NaN</td>\n",
       "      <td>NaN</td>\n",
       "      <td>0.014010</td>\n",
       "      <td>0.009967</td>\n",
       "      <td>0.002508</td>\n",
       "      <td>-0.003846</td>\n",
       "      <td>0.003110</td>\n",
       "      <td>0.035626</td>\n",
       "    </tr>\n",
       "    <tr>\n",
       "      <th>creativity_human</th>\n",
       "      <td>-0.110393</td>\n",
       "      <td>-0.049843</td>\n",
       "      <td>0.101814</td>\n",
       "      <td>NaN</td>\n",
       "      <td>0.014919</td>\n",
       "      <td>0.031361</td>\n",
       "      <td>1.000000</td>\n",
       "      <td>0.539059</td>\n",
       "      <td>0.143464</td>\n",
       "      <td>NaN</td>\n",
       "      <td>NaN</td>\n",
       "      <td>-0.021265</td>\n",
       "      <td>-0.018836</td>\n",
       "      <td>-0.041954</td>\n",
       "      <td>0.031454</td>\n",
       "      <td>0.002146</td>\n",
       "      <td>-0.380451</td>\n",
       "    </tr>\n",
       "    <tr>\n",
       "      <th>creativity_ai</th>\n",
       "      <td>-0.088968</td>\n",
       "      <td>-0.027744</td>\n",
       "      <td>0.076161</td>\n",
       "      <td>NaN</td>\n",
       "      <td>-0.027360</td>\n",
       "      <td>0.060058</td>\n",
       "      <td>0.539059</td>\n",
       "      <td>1.000000</td>\n",
       "      <td>0.110244</td>\n",
       "      <td>NaN</td>\n",
       "      <td>NaN</td>\n",
       "      <td>0.000216</td>\n",
       "      <td>-0.002617</td>\n",
       "      <td>-0.007644</td>\n",
       "      <td>0.045745</td>\n",
       "      <td>-0.035212</td>\n",
       "      <td>0.573844</td>\n",
       "    </tr>\n",
       "    <tr>\n",
       "      <th>age</th>\n",
       "      <td>-0.341792</td>\n",
       "      <td>0.025594</td>\n",
       "      <td>0.300032</td>\n",
       "      <td>NaN</td>\n",
       "      <td>0.034152</td>\n",
       "      <td>-0.024752</td>\n",
       "      <td>0.143464</td>\n",
       "      <td>0.110244</td>\n",
       "      <td>1.000000</td>\n",
       "      <td>NaN</td>\n",
       "      <td>NaN</td>\n",
       "      <td>0.020753</td>\n",
       "      <td>0.024084</td>\n",
       "      <td>0.059574</td>\n",
       "      <td>-0.082056</td>\n",
       "      <td>0.021516</td>\n",
       "      <td>-0.016464</td>\n",
       "    </tr>\n",
       "    <tr>\n",
       "      <th>exclude_from_analysis</th>\n",
       "      <td>NaN</td>\n",
       "      <td>NaN</td>\n",
       "      <td>NaN</td>\n",
       "      <td>NaN</td>\n",
       "      <td>NaN</td>\n",
       "      <td>NaN</td>\n",
       "      <td>NaN</td>\n",
       "      <td>NaN</td>\n",
       "      <td>NaN</td>\n",
       "      <td>NaN</td>\n",
       "      <td>NaN</td>\n",
       "      <td>NaN</td>\n",
       "      <td>NaN</td>\n",
       "      <td>NaN</td>\n",
       "      <td>NaN</td>\n",
       "      <td>NaN</td>\n",
       "      <td>NaN</td>\n",
       "    </tr>\n",
       "    <tr>\n",
       "      <th>is_profane_clean</th>\n",
       "      <td>NaN</td>\n",
       "      <td>NaN</td>\n",
       "      <td>NaN</td>\n",
       "      <td>NaN</td>\n",
       "      <td>NaN</td>\n",
       "      <td>NaN</td>\n",
       "      <td>NaN</td>\n",
       "      <td>NaN</td>\n",
       "      <td>NaN</td>\n",
       "      <td>NaN</td>\n",
       "      <td>NaN</td>\n",
       "      <td>NaN</td>\n",
       "      <td>NaN</td>\n",
       "      <td>NaN</td>\n",
       "      <td>NaN</td>\n",
       "      <td>NaN</td>\n",
       "      <td>NaN</td>\n",
       "    </tr>\n",
       "    <tr>\n",
       "      <th>trial_no</th>\n",
       "      <td>-0.043514</td>\n",
       "      <td>-0.032337</td>\n",
       "      <td>-0.033305</td>\n",
       "      <td>NaN</td>\n",
       "      <td>0.097800</td>\n",
       "      <td>0.014010</td>\n",
       "      <td>-0.021265</td>\n",
       "      <td>0.000216</td>\n",
       "      <td>0.020753</td>\n",
       "      <td>NaN</td>\n",
       "      <td>NaN</td>\n",
       "      <td>1.000000</td>\n",
       "      <td>0.997935</td>\n",
       "      <td>0.007091</td>\n",
       "      <td>0.001735</td>\n",
       "      <td>-0.006571</td>\n",
       "      <td>0.018474</td>\n",
       "    </tr>\n",
       "    <tr>\n",
       "      <th>trial_no_excluded</th>\n",
       "      <td>-0.060122</td>\n",
       "      <td>-0.035967</td>\n",
       "      <td>-0.015983</td>\n",
       "      <td>NaN</td>\n",
       "      <td>0.099798</td>\n",
       "      <td>0.009967</td>\n",
       "      <td>-0.018836</td>\n",
       "      <td>-0.002617</td>\n",
       "      <td>0.024084</td>\n",
       "      <td>NaN</td>\n",
       "      <td>NaN</td>\n",
       "      <td>0.997935</td>\n",
       "      <td>1.000000</td>\n",
       "      <td>0.005555</td>\n",
       "      <td>0.003621</td>\n",
       "      <td>-0.006406</td>\n",
       "      <td>0.012916</td>\n",
       "    </tr>\n",
       "    <tr>\n",
       "      <th>concerned</th>\n",
       "      <td>-0.105210</td>\n",
       "      <td>0.022759</td>\n",
       "      <td>0.069576</td>\n",
       "      <td>NaN</td>\n",
       "      <td>-0.016462</td>\n",
       "      <td>0.002508</td>\n",
       "      <td>-0.041954</td>\n",
       "      <td>-0.007644</td>\n",
       "      <td>0.059574</td>\n",
       "      <td>NaN</td>\n",
       "      <td>NaN</td>\n",
       "      <td>0.007091</td>\n",
       "      <td>0.005555</td>\n",
       "      <td>1.000000</td>\n",
       "      <td>-0.340867</td>\n",
       "      <td>-0.529236</td>\n",
       "      <td>0.033299</td>\n",
       "    </tr>\n",
       "    <tr>\n",
       "      <th>excited</th>\n",
       "      <td>0.097167</td>\n",
       "      <td>-0.041242</td>\n",
       "      <td>-0.069438</td>\n",
       "      <td>NaN</td>\n",
       "      <td>0.021665</td>\n",
       "      <td>-0.003846</td>\n",
       "      <td>0.031454</td>\n",
       "      <td>0.045745</td>\n",
       "      <td>-0.082056</td>\n",
       "      <td>NaN</td>\n",
       "      <td>NaN</td>\n",
       "      <td>0.001735</td>\n",
       "      <td>0.003621</td>\n",
       "      <td>-0.340867</td>\n",
       "      <td>1.000000</td>\n",
       "      <td>-0.588575</td>\n",
       "      <td>0.017124</td>\n",
       "    </tr>\n",
       "    <tr>\n",
       "      <th>neutral</th>\n",
       "      <td>-0.029624</td>\n",
       "      <td>0.032686</td>\n",
       "      <td>0.041431</td>\n",
       "      <td>NaN</td>\n",
       "      <td>-0.006111</td>\n",
       "      <td>0.003110</td>\n",
       "      <td>0.002146</td>\n",
       "      <td>-0.035212</td>\n",
       "      <td>0.021516</td>\n",
       "      <td>NaN</td>\n",
       "      <td>NaN</td>\n",
       "      <td>-0.006571</td>\n",
       "      <td>-0.006406</td>\n",
       "      <td>-0.529236</td>\n",
       "      <td>-0.588575</td>\n",
       "      <td>1.000000</td>\n",
       "      <td>-0.036639</td>\n",
       "    </tr>\n",
       "    <tr>\n",
       "      <th>gap</th>\n",
       "      <td>0.008174</td>\n",
       "      <td>0.020275</td>\n",
       "      <td>-0.013537</td>\n",
       "      <td>NaN</td>\n",
       "      <td>-0.042398</td>\n",
       "      <td>0.035626</td>\n",
       "      <td>-0.380451</td>\n",
       "      <td>0.573844</td>\n",
       "      <td>-0.016464</td>\n",
       "      <td>NaN</td>\n",
       "      <td>NaN</td>\n",
       "      <td>0.018474</td>\n",
       "      <td>0.012916</td>\n",
       "      <td>0.033299</td>\n",
       "      <td>0.017124</td>\n",
       "      <td>-0.036639</td>\n",
       "      <td>1.000000</td>\n",
       "    </tr>\n",
       "  </tbody>\n",
       "</table>\n",
       "</div>"
      ],
      "text/plain": [
       "                       Unnamed: 0  condition_order  response_chain  is_test  \\\n",
       "Unnamed: 0               1.000000        -0.064261       -0.796037      NaN   \n",
       "condition_order         -0.064261         1.000000       -0.060477      NaN   \n",
       "response_chain          -0.796037        -0.060477        1.000000      NaN   \n",
       "is_test                       NaN              NaN             NaN      NaN   \n",
       "duration                -0.014209        -0.118628        0.032096      NaN   \n",
       "is_profane               0.004006         0.019404       -0.004434      NaN   \n",
       "creativity_human        -0.110393        -0.049843        0.101814      NaN   \n",
       "creativity_ai           -0.088968        -0.027744        0.076161      NaN   \n",
       "age                     -0.341792         0.025594        0.300032      NaN   \n",
       "exclude_from_analysis         NaN              NaN             NaN      NaN   \n",
       "is_profane_clean              NaN              NaN             NaN      NaN   \n",
       "trial_no                -0.043514        -0.032337       -0.033305      NaN   \n",
       "trial_no_excluded       -0.060122        -0.035967       -0.015983      NaN   \n",
       "concerned               -0.105210         0.022759        0.069576      NaN   \n",
       "excited                  0.097167        -0.041242       -0.069438      NaN   \n",
       "neutral                 -0.029624         0.032686        0.041431      NaN   \n",
       "gap                      0.008174         0.020275       -0.013537      NaN   \n",
       "\n",
       "                       duration  is_profane  creativity_human  creativity_ai  \\\n",
       "Unnamed: 0            -0.014209    0.004006         -0.110393      -0.088968   \n",
       "condition_order       -0.118628    0.019404         -0.049843      -0.027744   \n",
       "response_chain         0.032096   -0.004434          0.101814       0.076161   \n",
       "is_test                     NaN         NaN               NaN            NaN   \n",
       "duration               1.000000   -0.024533          0.014919      -0.027360   \n",
       "is_profane            -0.024533    1.000000          0.031361       0.060058   \n",
       "creativity_human       0.014919    0.031361          1.000000       0.539059   \n",
       "creativity_ai         -0.027360    0.060058          0.539059       1.000000   \n",
       "age                    0.034152   -0.024752          0.143464       0.110244   \n",
       "exclude_from_analysis       NaN         NaN               NaN            NaN   \n",
       "is_profane_clean            NaN         NaN               NaN            NaN   \n",
       "trial_no               0.097800    0.014010         -0.021265       0.000216   \n",
       "trial_no_excluded      0.099798    0.009967         -0.018836      -0.002617   \n",
       "concerned             -0.016462    0.002508         -0.041954      -0.007644   \n",
       "excited                0.021665   -0.003846          0.031454       0.045745   \n",
       "neutral               -0.006111    0.003110          0.002146      -0.035212   \n",
       "gap                   -0.042398    0.035626         -0.380451       0.573844   \n",
       "\n",
       "                            age  exclude_from_analysis  is_profane_clean  \\\n",
       "Unnamed: 0            -0.341792                    NaN               NaN   \n",
       "condition_order        0.025594                    NaN               NaN   \n",
       "response_chain         0.300032                    NaN               NaN   \n",
       "is_test                     NaN                    NaN               NaN   \n",
       "duration               0.034152                    NaN               NaN   \n",
       "is_profane            -0.024752                    NaN               NaN   \n",
       "creativity_human       0.143464                    NaN               NaN   \n",
       "creativity_ai          0.110244                    NaN               NaN   \n",
       "age                    1.000000                    NaN               NaN   \n",
       "exclude_from_analysis       NaN                    NaN               NaN   \n",
       "is_profane_clean            NaN                    NaN               NaN   \n",
       "trial_no               0.020753                    NaN               NaN   \n",
       "trial_no_excluded      0.024084                    NaN               NaN   \n",
       "concerned              0.059574                    NaN               NaN   \n",
       "excited               -0.082056                    NaN               NaN   \n",
       "neutral                0.021516                    NaN               NaN   \n",
       "gap                   -0.016464                    NaN               NaN   \n",
       "\n",
       "                       trial_no  trial_no_excluded  concerned   excited  \\\n",
       "Unnamed: 0            -0.043514          -0.060122  -0.105210  0.097167   \n",
       "condition_order       -0.032337          -0.035967   0.022759 -0.041242   \n",
       "response_chain        -0.033305          -0.015983   0.069576 -0.069438   \n",
       "is_test                     NaN                NaN        NaN       NaN   \n",
       "duration               0.097800           0.099798  -0.016462  0.021665   \n",
       "is_profane             0.014010           0.009967   0.002508 -0.003846   \n",
       "creativity_human      -0.021265          -0.018836  -0.041954  0.031454   \n",
       "creativity_ai          0.000216          -0.002617  -0.007644  0.045745   \n",
       "age                    0.020753           0.024084   0.059574 -0.082056   \n",
       "exclude_from_analysis       NaN                NaN        NaN       NaN   \n",
       "is_profane_clean            NaN                NaN        NaN       NaN   \n",
       "trial_no               1.000000           0.997935   0.007091  0.001735   \n",
       "trial_no_excluded      0.997935           1.000000   0.005555  0.003621   \n",
       "concerned              0.007091           0.005555   1.000000 -0.340867   \n",
       "excited                0.001735           0.003621  -0.340867  1.000000   \n",
       "neutral               -0.006571          -0.006406  -0.529236 -0.588575   \n",
       "gap                    0.018474           0.012916   0.033299  0.017124   \n",
       "\n",
       "                        neutral       gap  \n",
       "Unnamed: 0            -0.029624  0.008174  \n",
       "condition_order        0.032686  0.020275  \n",
       "response_chain         0.041431 -0.013537  \n",
       "is_test                     NaN       NaN  \n",
       "duration              -0.006111 -0.042398  \n",
       "is_profane             0.003110  0.035626  \n",
       "creativity_human       0.002146 -0.380451  \n",
       "creativity_ai         -0.035212  0.573844  \n",
       "age                    0.021516 -0.016464  \n",
       "exclude_from_analysis       NaN       NaN  \n",
       "is_profane_clean            NaN       NaN  \n",
       "trial_no              -0.006571  0.018474  \n",
       "trial_no_excluded     -0.006406  0.012916  \n",
       "concerned             -0.529236  0.033299  \n",
       "excited               -0.588575  0.017124  \n",
       "neutral                1.000000 -0.036639  \n",
       "gap                   -0.036639  1.000000  "
      ]
     },
     "execution_count": 22,
     "metadata": {},
     "output_type": "execute_result"
    },
    {
     "data": {
      "image/png": "[encoded data removed]",
      "text/plain": [
       "<Figure size 432x288 with 1 Axes>"
      ]
     },
     "metadata": {},
     "output_type": "display_data"
    }
   ],
   "source": [
    "dfp['gap'] = dfp['creativity_ai'] - dfp['creativity_human']\n",
    "sns.scatterplot(data=dfp, x=\"creativity_human\", y=\"creativity_ai\", hue='ai_feeling')\n",
    "plt.xlabel(\"I am more creative\\nthan X% of humans\")\n",
    "plt.ylabel(\"I am more creative\\nthan X% of AI\")\n",
    "\n",
    "dfp.corr()"
   ]
  },
  {
   "cell_type": "markdown",
   "id": "d457e5f5",
   "metadata": {
    "papermill": {
     "duration": 0.004919,
     "end_time": "2023-07-29T02:36:43.081823",
     "exception": false,
     "start_time": "2023-07-29T02:36:43.076904",
     "status": "completed"
    },
    "tags": []
   },
   "source": [
    "# Race conditions/trials"
   ]
  },
  {
   "cell_type": "code",
   "execution_count": 23,
   "id": "40666623",
   "metadata": {
    "execution": {
     "iopub.execute_input": "2023-07-29T02:36:43.092756Z",
     "iopub.status.busy": "2023-07-29T02:36:43.092606Z",
     "iopub.status.idle": "2023-07-29T02:36:43.165097Z",
     "shell.execute_reply": "2023-07-29T02:36:43.164792Z"
    },
    "papermill": {
     "duration": 0.07923,
     "end_time": "2023-07-29T02:36:43.166117",
     "exception": false,
     "start_time": "2023-07-29T02:36:43.086887",
     "status": "completed"
    },
    "tags": []
   },
   "outputs": [
    {
     "data": {
      "text/html": [
       "<div>\n",
       "<style scoped>\n",
       "    .dataframe tbody tr th:only-of-type {\n",
       "        vertical-align: middle;\n",
       "    }\n",
       "\n",
       "    .dataframe tbody tr th {\n",
       "        vertical-align: top;\n",
       "    }\n",
       "\n",
       "    .dataframe thead th {\n",
       "        text-align: right;\n",
       "    }\n",
       "</style>\n",
       "<table border=\"1\" class=\"dataframe\">\n",
       "  <thead>\n",
       "    <tr style=\"text-align: right;\">\n",
       "      <th></th>\n",
       "      <th>response_chain</th>\n",
       "      <th>item</th>\n",
       "      <th>condition</th>\n",
       "      <th>trials</th>\n",
       "    </tr>\n",
       "  </thead>\n",
       "  <tbody>\n",
       "    <tr>\n",
       "      <th>0</th>\n",
       "      <td>0</td>\n",
       "      <td>bottle</td>\n",
       "      <td>f_l</td>\n",
       "      <td>19</td>\n",
       "    </tr>\n",
       "    <tr>\n",
       "      <th>1</th>\n",
       "      <td>0</td>\n",
       "      <td>bottle</td>\n",
       "      <td>f_u</td>\n",
       "      <td>19</td>\n",
       "    </tr>\n",
       "    <tr>\n",
       "      <th>2</th>\n",
       "      <td>0</td>\n",
       "      <td>bottle</td>\n",
       "      <td>h</td>\n",
       "      <td>19</td>\n",
       "    </tr>\n",
       "    <tr>\n",
       "      <th>3</th>\n",
       "      <td>0</td>\n",
       "      <td>bottle</td>\n",
       "      <td>m_l</td>\n",
       "      <td>19</td>\n",
       "    </tr>\n",
       "    <tr>\n",
       "      <th>4</th>\n",
       "      <td>0</td>\n",
       "      <td>bottle</td>\n",
       "      <td>m_u</td>\n",
       "      <td>19</td>\n",
       "    </tr>\n",
       "  </tbody>\n",
       "</table>\n",
       "</div>"
      ],
      "text/plain": [
       "   response_chain    item condition  trials\n",
       "0               0  bottle       f_l      19\n",
       "1               0  bottle       f_u      19\n",
       "2               0  bottle         h      19\n",
       "3               0  bottle       m_l      19\n",
       "4               0  bottle       m_u      19"
      ]
     },
     "execution_count": 23,
     "metadata": {},
     "output_type": "execute_result"
    }
   ],
   "source": [
    "import pandas as pd\n",
    "df = pd.read_csv(\"../../data/experiment_data/data_clean.csv\")\n",
    "counts = df.groupby(by=['response_chain', 'item', 'condition']).count().reset_index()[['response_chain', 'item', 'condition', 'response_id']]\n",
    "counts = counts.rename(columns = {'response_id':'trials'})\n",
    "counts.head()"
   ]
  },
  {
   "cell_type": "code",
   "execution_count": 24,
   "id": "9eeceb7f-b18c-4d63-84e9-25b432f8d36b",
   "metadata": {
    "execution": {
     "iopub.execute_input": "2023-07-29T02:36:43.177186Z",
     "iopub.status.busy": "2023-07-29T02:36:43.177062Z",
     "iopub.status.idle": "2023-07-29T02:36:43.183151Z",
     "shell.execute_reply": "2023-07-29T02:36:43.182829Z"
    },
    "papermill": {
     "duration": 0.012631,
     "end_time": "2023-07-29T02:36:43.184064",
     "exception": false,
     "start_time": "2023-07-29T02:36:43.171433",
     "status": "completed"
    },
    "tags": []
   },
   "outputs": [
    {
     "name": "stdout",
     "output_type": "stream",
     "text": [
      "count    175.000000\n",
      "mean      19.725714\n",
      "std        1.451979\n",
      "min       14.000000\n",
      "25%       19.000000\n",
      "50%       20.000000\n",
      "75%       20.000000\n",
      "max       24.000000\n",
      "Name: trials, dtype: float64\n",
      "\n",
      "The average number of trials per response chain was 19.73 (SD = 1.45) and median number per chain was 20. We concluded the experiment before the last round of response chains was completely finished for all condition X item combinations so the minimum number of trials in a response chain (occuring for an item X condition combination in the last round) was 14. The maximum number of trials was 24\n"
     ]
    }
   ],
   "source": [
    "desc = counts.describe()['trials']\n",
    "print(desc)\n",
    "print()\n",
    "print(f\"The average number of trials per response chain was {np.round(desc['mean'],2)} (SD = {np.round(desc['std'],2)}) and median number per chain was {int(desc['50%'])}. \\\n",
    "We concluded the experiment before the last round of response chains was completely finished for all condition X item\\\n",
    " combinations so the minimum number of trials in a response chain (occuring for an item X condition combination in the last round) was {int(desc['min'])}. \\\n",
    "The maximum number of trials was {int(desc['max'])}\" )"
   ]
  },
  {
   "cell_type": "code",
   "execution_count": 25,
   "id": "c7289d53",
   "metadata": {
    "execution": {
     "iopub.execute_input": "2023-07-29T02:36:43.195062Z",
     "iopub.status.busy": "2023-07-29T02:36:43.194942Z",
     "iopub.status.idle": "2023-07-29T02:36:43.558556Z",
     "shell.execute_reply": "2023-07-29T02:36:43.558161Z"
    },
    "papermill": {
     "duration": 0.370565,
     "end_time": "2023-07-29T02:36:43.559916",
     "exception": false,
     "start_time": "2023-07-29T02:36:43.189351",
     "status": "completed"
    },
    "tags": []
   },
   "outputs": [
    {
     "name": "stdout",
     "output_type": "stream",
     "text": [
      "                           sum_sq     df            F        PR(>F)\n",
      "Intercept             2720.571429    1.0  1145.388933  4.133820e-72\n",
      "C(item)                  3.600000    4.0     0.378909  8.234406e-01\n",
      "C(condition)             0.114286    4.0     0.012029  9.997115e-01\n",
      "C(item):C(condition)     0.480000   16.0     0.012630  1.000000e+00\n",
      "Residual               356.285714  150.0          NaN           NaN\n",
      "trials was not related to item $(F(4) = 0.38, p = 0.82)$,condition $(F(4) = 0.01, p = 1.00)$,item:condition $(F(16) = 0.01, p = 1.00)$,\n"
     ]
    }
   ],
   "source": [
    "import statsmodels.api as sm\n",
    "from statsmodels.formula.api import ols\n",
    "\n",
    "def handle_anova(dv):\n",
    "    model_two_way = ols('trials ~ C(item) + C(condition) + C(item):C(condition)', data=counts).fit()\n",
    "    anova_table_two_way = sm.stats.anova_lm(model_two_way, typ=3)\n",
    "    print(anova_table_two_way)\n",
    "    summ = anova_summary(anova_table_two_way, dv)\n",
    "\n",
    "def anova_summary(anova_table, dv):\n",
    "    summary = {}\n",
    "    summary_str = f\"{dv} was not related to \"\n",
    "    for index in anova_table.index:\n",
    "        F = anova_table.loc[index, \"F\"]\n",
    "        df = int(anova_table.loc[index, \"df\"])\n",
    "        p_value = anova_table.loc[index, \"PR(>F)\"]\n",
    "        summary[index] = f'F({df}) = {F:.2f}, p = {p_value:.2f}'\n",
    "    for x in summary:\n",
    "        x_clean = x.replace(\"C(\", \"\").replace(\")\", \"\")\n",
    "        if x_clean in ['item', 'condition', 'item:condition']:\n",
    "            summary_str += f\"{x_clean} $({summary[x]})$\" + \",\"\n",
    "    print(summary_str)\n",
    "    return summary\n",
    "\n",
    "\n",
    "handle_anova(\"trials\")"
   ]
  }
 ],
 "metadata": {
  "kernelspec": {
   "display_name": "PyCharm (misinformation_sim)",
   "language": "python",
   "name": "pycharm-9607488f"
  },
  "language_info": {
   "codemirror_mode": {
    "name": "ipython",
    "version": 3
   },
   "file_extension": ".py",
   "mimetype": "text/x-python",
   "name": "python",
   "nbconvert_exporter": "python",
   "pygments_lexer": "ipython3",
   "version": "3.8.8"
  },
  "papermill": {
   "default_parameters": {},
   "duration": 18.886031,
   "end_time": "2023-07-29T02:36:43.985541",
   "environment_variables": {},
   "exception": null,
   "input_path": "get_data.ipynb",
   "output_path": "get_data.ipynb",
   "parameters": {},
   "start_time": "2023-07-29T02:36:25.099510",
   "version": "2.4.0"
  },
  "toc": {
   "base_numbering": 1,
   "nav_menu": {},
   "number_sections": true,
   "sideBar": true,
   "skip_h1_title": false,
   "title_cell": "Table of Contents",
   "title_sidebar": "Contents",
   "toc_cell": true,
   "toc_position": {},
   "toc_section_display": true,
   "toc_window_display": true
  },
  "toc-showtags": false,
  "varInspector": {
   "cols": {
    "lenName": 16,
    "lenType": 16,
    "lenVar": 40
   },
   "kernels_config": {
    "python": {
     "delete_cmd_postfix": "",
     "delete_cmd_prefix": "del ",
     "library": "var_list.py",
     "varRefreshCmd": "print(var_dic_list())"
    },
    "r": {
     "delete_cmd_postfix": ") ",
     "delete_cmd_prefix": "rm(",
     "library": "var_list.r",
     "varRefreshCmd": "cat(var_dic_list()) "
    }
   },
   "types_to_exclude": [
    "module",
    "function",
    "builtin_function_or_method",
    "instance",
    "_Feature"
   ],
   "window_display": false
  }
 },
 "nbformat": 4,
 "nbformat_minor": 5
}
